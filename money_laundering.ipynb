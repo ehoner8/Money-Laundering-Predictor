{
 "cells": [
  {
   "cell_type": "code",
   "execution_count": 1,
   "id": "5e0e8f21-97c1-4599-aca0-58fe88838176",
   "metadata": {},
   "outputs": [
    {
     "name": "stdout",
     "output_type": "stream",
     "text": [
      "GEd\n"
     ]
    }
   ],
   "source": [
    "print(\"GEd\")"
   ]
  },
  {
   "cell_type": "code",
   "execution_count": 2,
   "id": "9f2cccf3-e35d-4716-883c-9ca527928254",
   "metadata": {},
   "outputs": [],
   "source": [
    "import numpy as np\n",
    "import pandas as pd\n",
    "import matplotlib.pyplot as plt\n",
    "import seaborn as sns"
   ]
  },
  {
   "cell_type": "code",
   "execution_count": 776,
   "id": "91a68b21-c702-4a65-80a6-075b9a8ca80a",
   "metadata": {},
   "outputs": [],
   "source": [
    "import re\n",
    "import time"
   ]
  },
  {
   "cell_type": "code",
   "execution_count": 640,
   "id": "2d75c01c-873b-4cb8-ad2b-8136ae128c5b",
   "metadata": {},
   "outputs": [],
   "source": [
    "import torch\n",
    "import torch.nn as nn\n"
   ]
  },
  {
   "cell_type": "code",
   "execution_count": 642,
   "id": "654ca5bb-c9eb-4fad-97d2-8b12d9740da3",
   "metadata": {},
   "outputs": [],
   "source": [
    "from sklearn.linear_model import LogisticRegression\n",
    "from sklearn.model_selection import train_test_split\n",
    "from sklearn.model_selection import GridSearchCV\n",
    "from sklearn.preprocessing import StandardScaler\n",
    "from sklearn.neighbors import KNeighborsClassifier\n",
    "from sklearn.svm import SVC\n",
    "from sklearn.ensemble import RandomForestClassifier\n",
    "from sklearn.ensemble import GradientBoostingClassifier"
   ]
  },
  {
   "cell_type": "code",
   "execution_count": 274,
   "id": "9b226e27-a144-4bfb-abb8-4ea8cbe152f5",
   "metadata": {},
   "outputs": [],
   "source": [
    "from sklearn.metrics import accuracy_score,confusion_matrix,classification_report"
   ]
  },
  {
   "cell_type": "code",
   "execution_count": 5,
   "id": "ee777668-46c9-48fc-98f7-779a3993c81f",
   "metadata": {},
   "outputs": [
    {
     "name": "stdout",
     "output_type": "stream",
     "text": [
      "Warning: Looks like you're using an outdated `kagglehub` version (installed: 0.3.6), please consider upgrading to the latest version (0.3.10).\n",
      "Path to dataset files: C:\\Users\\honer\\.cache\\kagglehub\\datasets\\berkanoztas\\synthetic-transaction-monitoring-dataset-aml\\versions\\2\n"
     ]
    }
   ],
   "source": [
    "import kagglehub\n",
    "\n",
    "# Download latest version\n",
    "path = kagglehub.dataset_download(\"berkanoztas/synthetic-transaction-monitoring-dataset-aml\")\n",
    "\n",
    "print(\"Path to dataset files:\", path)"
   ]
  },
  {
   "cell_type": "code",
   "execution_count": 323,
   "id": "372346dd-66b9-4d38-8ff0-9427eee888f4",
   "metadata": {},
   "outputs": [],
   "source": [
    "df = pd.read_csv(\"Data/SAML-D.csv\")"
   ]
  },
  {
   "cell_type": "code",
   "execution_count": 7,
   "id": "456ce04d-0d96-4888-81f8-8f3b6ee87877",
   "metadata": {},
   "outputs": [
    {
     "data": {
      "text/html": [
       "<div>\n",
       "<style scoped>\n",
       "    .dataframe tbody tr th:only-of-type {\n",
       "        vertical-align: middle;\n",
       "    }\n",
       "\n",
       "    .dataframe tbody tr th {\n",
       "        vertical-align: top;\n",
       "    }\n",
       "\n",
       "    .dataframe thead th {\n",
       "        text-align: right;\n",
       "    }\n",
       "</style>\n",
       "<table border=\"1\" class=\"dataframe\">\n",
       "  <thead>\n",
       "    <tr style=\"text-align: right;\">\n",
       "      <th></th>\n",
       "      <th>Time</th>\n",
       "      <th>Date</th>\n",
       "      <th>Sender_account</th>\n",
       "      <th>Receiver_account</th>\n",
       "      <th>Amount</th>\n",
       "      <th>Payment_currency</th>\n",
       "      <th>Received_currency</th>\n",
       "      <th>Sender_bank_location</th>\n",
       "      <th>Receiver_bank_location</th>\n",
       "      <th>Payment_type</th>\n",
       "      <th>Is_laundering</th>\n",
       "      <th>Laundering_type</th>\n",
       "    </tr>\n",
       "  </thead>\n",
       "  <tbody>\n",
       "    <tr>\n",
       "      <th>0</th>\n",
       "      <td>10:35:19</td>\n",
       "      <td>2022-10-07</td>\n",
       "      <td>8724731955</td>\n",
       "      <td>2769355426</td>\n",
       "      <td>1459.15</td>\n",
       "      <td>UK pounds</td>\n",
       "      <td>UK pounds</td>\n",
       "      <td>UK</td>\n",
       "      <td>UK</td>\n",
       "      <td>Cash Deposit</td>\n",
       "      <td>0</td>\n",
       "      <td>Normal_Cash_Deposits</td>\n",
       "    </tr>\n",
       "    <tr>\n",
       "      <th>1</th>\n",
       "      <td>10:35:20</td>\n",
       "      <td>2022-10-07</td>\n",
       "      <td>1491989064</td>\n",
       "      <td>8401255335</td>\n",
       "      <td>6019.64</td>\n",
       "      <td>UK pounds</td>\n",
       "      <td>Dirham</td>\n",
       "      <td>UK</td>\n",
       "      <td>UAE</td>\n",
       "      <td>Cross-border</td>\n",
       "      <td>0</td>\n",
       "      <td>Normal_Fan_Out</td>\n",
       "    </tr>\n",
       "    <tr>\n",
       "      <th>2</th>\n",
       "      <td>10:35:20</td>\n",
       "      <td>2022-10-07</td>\n",
       "      <td>287305149</td>\n",
       "      <td>4404767002</td>\n",
       "      <td>14328.44</td>\n",
       "      <td>UK pounds</td>\n",
       "      <td>UK pounds</td>\n",
       "      <td>UK</td>\n",
       "      <td>UK</td>\n",
       "      <td>Cheque</td>\n",
       "      <td>0</td>\n",
       "      <td>Normal_Small_Fan_Out</td>\n",
       "    </tr>\n",
       "    <tr>\n",
       "      <th>3</th>\n",
       "      <td>10:35:21</td>\n",
       "      <td>2022-10-07</td>\n",
       "      <td>5376652437</td>\n",
       "      <td>9600420220</td>\n",
       "      <td>11895.00</td>\n",
       "      <td>UK pounds</td>\n",
       "      <td>UK pounds</td>\n",
       "      <td>UK</td>\n",
       "      <td>UK</td>\n",
       "      <td>ACH</td>\n",
       "      <td>0</td>\n",
       "      <td>Normal_Fan_In</td>\n",
       "    </tr>\n",
       "    <tr>\n",
       "      <th>4</th>\n",
       "      <td>10:35:21</td>\n",
       "      <td>2022-10-07</td>\n",
       "      <td>9614186178</td>\n",
       "      <td>3803336972</td>\n",
       "      <td>115.25</td>\n",
       "      <td>UK pounds</td>\n",
       "      <td>UK pounds</td>\n",
       "      <td>UK</td>\n",
       "      <td>UK</td>\n",
       "      <td>Cash Deposit</td>\n",
       "      <td>0</td>\n",
       "      <td>Normal_Cash_Deposits</td>\n",
       "    </tr>\n",
       "  </tbody>\n",
       "</table>\n",
       "</div>"
      ],
      "text/plain": [
       "       Time        Date  Sender_account  Receiver_account    Amount  \\\n",
       "0  10:35:19  2022-10-07      8724731955        2769355426   1459.15   \n",
       "1  10:35:20  2022-10-07      1491989064        8401255335   6019.64   \n",
       "2  10:35:20  2022-10-07       287305149        4404767002  14328.44   \n",
       "3  10:35:21  2022-10-07      5376652437        9600420220  11895.00   \n",
       "4  10:35:21  2022-10-07      9614186178        3803336972    115.25   \n",
       "\n",
       "  Payment_currency Received_currency Sender_bank_location  \\\n",
       "0        UK pounds         UK pounds                   UK   \n",
       "1        UK pounds            Dirham                   UK   \n",
       "2        UK pounds         UK pounds                   UK   \n",
       "3        UK pounds         UK pounds                   UK   \n",
       "4        UK pounds         UK pounds                   UK   \n",
       "\n",
       "  Receiver_bank_location  Payment_type  Is_laundering       Laundering_type  \n",
       "0                     UK  Cash Deposit              0  Normal_Cash_Deposits  \n",
       "1                    UAE  Cross-border              0        Normal_Fan_Out  \n",
       "2                     UK        Cheque              0  Normal_Small_Fan_Out  \n",
       "3                     UK           ACH              0         Normal_Fan_In  \n",
       "4                     UK  Cash Deposit              0  Normal_Cash_Deposits  "
      ]
     },
     "execution_count": 7,
     "metadata": {},
     "output_type": "execute_result"
    }
   ],
   "source": [
    "df.head()"
   ]
  },
  {
   "cell_type": "code",
   "execution_count": 8,
   "id": "bfe323f8-7cfa-48dd-a660-a3bfc284f117",
   "metadata": {},
   "outputs": [
    {
     "data": {
      "text/plain": [
       "Sender_bank_location\n",
       "UK             9183088\n",
       "Turkey           20902\n",
       "Switzerland      20503\n",
       "Pakistan         20346\n",
       "UAE              20081\n",
       "Nigeria          20027\n",
       "Spain            19391\n",
       "Germany          19259\n",
       "USA              19027\n",
       "Italy            18895\n",
       "France           18702\n",
       "Japan            18468\n",
       "Morocco          18437\n",
       "Austria          18050\n",
       "Mexico           17662\n",
       "Albania          17648\n",
       "India            17596\n",
       "Netherlands      16770\n",
       "Name: count, dtype: int64"
      ]
     },
     "execution_count": 8,
     "metadata": {},
     "output_type": "execute_result"
    }
   ],
   "source": [
    "df[\"Sender_bank_location\"].value_counts()"
   ]
  },
  {
   "cell_type": "code",
   "execution_count": 9,
   "id": "f70d9189-9183-4766-b3b8-783bd98e1dc6",
   "metadata": {},
   "outputs": [
    {
     "data": {
      "text/plain": [
       "Date\n",
       "2023-02-09    36645\n",
       "2023-02-01    35910\n",
       "2023-02-06    35038\n",
       "2023-02-22    34566\n",
       "2022-12-23    34156\n",
       "              ...  \n",
       "2022-12-31    25808\n",
       "2022-10-30    25298\n",
       "2022-10-23    23719\n",
       "2022-10-07    20892\n",
       "2023-08-23     8400\n",
       "Name: count, Length: 321, dtype: int64"
      ]
     },
     "execution_count": 9,
     "metadata": {},
     "output_type": "execute_result"
    }
   ],
   "source": [
    "df[\"Date\"].value_counts()"
   ]
  },
  {
   "cell_type": "code",
   "execution_count": 325,
   "id": "73bf8dfb-3a32-4182-adac-87908b56f1b1",
   "metadata": {},
   "outputs": [],
   "source": [
    "df = df.drop(\"Sender_account\", axis=1)"
   ]
  },
  {
   "cell_type": "code",
   "execution_count": 327,
   "id": "6a2f3bc4-5a18-4743-b6e3-16ee826caacf",
   "metadata": {},
   "outputs": [],
   "source": [
    "df = df.drop(\"Receiver_account\", axis=1)"
   ]
  },
  {
   "cell_type": "code",
   "execution_count": 12,
   "id": "598061db-6881-4627-9100-51e261b54cff",
   "metadata": {},
   "outputs": [
    {
     "data": {
      "text/plain": [
       "Is_laundering\n",
       "0    9494979\n",
       "1       9873\n",
       "Name: count, dtype: int64"
      ]
     },
     "execution_count": 12,
     "metadata": {},
     "output_type": "execute_result"
    }
   ],
   "source": [
    "df[\"Is_laundering\"].value_counts()"
   ]
  },
  {
   "cell_type": "code",
   "execution_count": 13,
   "id": "2e797a31-0297-4729-b134-fd490f3c5027",
   "metadata": {},
   "outputs": [
    {
     "data": {
      "text/html": [
       "<div>\n",
       "<style scoped>\n",
       "    .dataframe tbody tr th:only-of-type {\n",
       "        vertical-align: middle;\n",
       "    }\n",
       "\n",
       "    .dataframe tbody tr th {\n",
       "        vertical-align: top;\n",
       "    }\n",
       "\n",
       "    .dataframe thead th {\n",
       "        text-align: right;\n",
       "    }\n",
       "</style>\n",
       "<table border=\"1\" class=\"dataframe\">\n",
       "  <thead>\n",
       "    <tr style=\"text-align: right;\">\n",
       "      <th></th>\n",
       "      <th>Time</th>\n",
       "      <th>Date</th>\n",
       "      <th>Amount</th>\n",
       "      <th>Payment_currency</th>\n",
       "      <th>Received_currency</th>\n",
       "      <th>Sender_bank_location</th>\n",
       "      <th>Receiver_bank_location</th>\n",
       "      <th>Payment_type</th>\n",
       "      <th>Is_laundering</th>\n",
       "      <th>Laundering_type</th>\n",
       "    </tr>\n",
       "  </thead>\n",
       "  <tbody>\n",
       "    <tr>\n",
       "      <th>0</th>\n",
       "      <td>10:35:19</td>\n",
       "      <td>2022-10-07</td>\n",
       "      <td>1459.15</td>\n",
       "      <td>UK pounds</td>\n",
       "      <td>UK pounds</td>\n",
       "      <td>UK</td>\n",
       "      <td>UK</td>\n",
       "      <td>Cash Deposit</td>\n",
       "      <td>0</td>\n",
       "      <td>Normal_Cash_Deposits</td>\n",
       "    </tr>\n",
       "    <tr>\n",
       "      <th>1</th>\n",
       "      <td>10:35:20</td>\n",
       "      <td>2022-10-07</td>\n",
       "      <td>6019.64</td>\n",
       "      <td>UK pounds</td>\n",
       "      <td>Dirham</td>\n",
       "      <td>UK</td>\n",
       "      <td>UAE</td>\n",
       "      <td>Cross-border</td>\n",
       "      <td>0</td>\n",
       "      <td>Normal_Fan_Out</td>\n",
       "    </tr>\n",
       "    <tr>\n",
       "      <th>2</th>\n",
       "      <td>10:35:20</td>\n",
       "      <td>2022-10-07</td>\n",
       "      <td>14328.44</td>\n",
       "      <td>UK pounds</td>\n",
       "      <td>UK pounds</td>\n",
       "      <td>UK</td>\n",
       "      <td>UK</td>\n",
       "      <td>Cheque</td>\n",
       "      <td>0</td>\n",
       "      <td>Normal_Small_Fan_Out</td>\n",
       "    </tr>\n",
       "    <tr>\n",
       "      <th>3</th>\n",
       "      <td>10:35:21</td>\n",
       "      <td>2022-10-07</td>\n",
       "      <td>11895.00</td>\n",
       "      <td>UK pounds</td>\n",
       "      <td>UK pounds</td>\n",
       "      <td>UK</td>\n",
       "      <td>UK</td>\n",
       "      <td>ACH</td>\n",
       "      <td>0</td>\n",
       "      <td>Normal_Fan_In</td>\n",
       "    </tr>\n",
       "    <tr>\n",
       "      <th>4</th>\n",
       "      <td>10:35:21</td>\n",
       "      <td>2022-10-07</td>\n",
       "      <td>115.25</td>\n",
       "      <td>UK pounds</td>\n",
       "      <td>UK pounds</td>\n",
       "      <td>UK</td>\n",
       "      <td>UK</td>\n",
       "      <td>Cash Deposit</td>\n",
       "      <td>0</td>\n",
       "      <td>Normal_Cash_Deposits</td>\n",
       "    </tr>\n",
       "  </tbody>\n",
       "</table>\n",
       "</div>"
      ],
      "text/plain": [
       "       Time        Date    Amount Payment_currency Received_currency  \\\n",
       "0  10:35:19  2022-10-07   1459.15        UK pounds         UK pounds   \n",
       "1  10:35:20  2022-10-07   6019.64        UK pounds            Dirham   \n",
       "2  10:35:20  2022-10-07  14328.44        UK pounds         UK pounds   \n",
       "3  10:35:21  2022-10-07  11895.00        UK pounds         UK pounds   \n",
       "4  10:35:21  2022-10-07    115.25        UK pounds         UK pounds   \n",
       "\n",
       "  Sender_bank_location Receiver_bank_location  Payment_type  Is_laundering  \\\n",
       "0                   UK                     UK  Cash Deposit              0   \n",
       "1                   UK                    UAE  Cross-border              0   \n",
       "2                   UK                     UK        Cheque              0   \n",
       "3                   UK                     UK           ACH              0   \n",
       "4                   UK                     UK  Cash Deposit              0   \n",
       "\n",
       "        Laundering_type  \n",
       "0  Normal_Cash_Deposits  \n",
       "1        Normal_Fan_Out  \n",
       "2  Normal_Small_Fan_Out  \n",
       "3         Normal_Fan_In  \n",
       "4  Normal_Cash_Deposits  "
      ]
     },
     "execution_count": 13,
     "metadata": {},
     "output_type": "execute_result"
    }
   ],
   "source": [
    "df.head()"
   ]
  },
  {
   "cell_type": "code",
   "execution_count": null,
   "id": "564250e8-0d59-4666-8521-c5e62d1de973",
   "metadata": {},
   "outputs": [],
   "source": []
  },
  {
   "cell_type": "code",
   "execution_count": 15,
   "id": "c90d2f03-72bc-404a-b650-e372b452f8e8",
   "metadata": {},
   "outputs": [],
   "source": [
    "#sns.barplot(data=df, x=\"Date\", y=\"Is_laundering\")"
   ]
  },
  {
   "cell_type": "code",
   "execution_count": 16,
   "id": "6bffd21e-8dd8-4d41-9e80-031c2f1509eb",
   "metadata": {},
   "outputs": [
    {
     "data": {
      "text/plain": [
       "Is_laundering\n",
       "0    9494979\n",
       "1       9873\n",
       "Name: count, dtype: int64"
      ]
     },
     "execution_count": 16,
     "metadata": {},
     "output_type": "execute_result"
    }
   ],
   "source": [
    "df[\"Is_laundering\"].value_counts()"
   ]
  },
  {
   "cell_type": "code",
   "execution_count": 329,
   "id": "5be4d4b3-fba3-4975-adc7-79d7a7f42cde",
   "metadata": {},
   "outputs": [],
   "source": [
    "df = df.sample(frac = 1)"
   ]
  },
  {
   "cell_type": "code",
   "execution_count": 330,
   "id": "2d4fecf2-7f57-456f-926f-2499120827a4",
   "metadata": {},
   "outputs": [
    {
     "name": "stdout",
     "output_type": "stream",
     "text": [
      "Is_laundering\n",
      "0    0.989709\n",
      "1    0.010291\n",
      "Name: proportion, dtype: float64\n"
     ]
    }
   ],
   "source": [
    "non_laundering_indices = df[df[\"Is_laundering\"] == 0].index\n",
    "drop_indices = np.random.choice(non_laundering_indices, size=int(0.9 * len(non_laundering_indices)), replace=False)\n",
    "df = df.drop(drop_indices)\n",
    "print(df[\"Is_laundering\"].value_counts(normalize=True))\n"
   ]
  },
  {
   "cell_type": "code",
   "execution_count": 19,
   "id": "38340c91-ce38-43c4-b661-c7fcbcb83bf7",
   "metadata": {},
   "outputs": [
    {
     "data": {
      "text/plain": [
       "Is_laundering\n",
       "0    949498\n",
       "1      9873\n",
       "Name: count, dtype: int64"
      ]
     },
     "execution_count": 19,
     "metadata": {},
     "output_type": "execute_result"
    }
   ],
   "source": [
    "df[\"Is_laundering\"].value_counts()"
   ]
  },
  {
   "cell_type": "code",
   "execution_count": 331,
   "id": "5daf2aa0-2d89-413c-88ea-772459070de6",
   "metadata": {},
   "outputs": [],
   "source": [
    "def datetime_to_month(date):\n",
    "    match = re.search(\"^([0-9]+)-([0-9]+)-([0-9]+)$\", date)\n",
    "    if len(match.group(2)) == 2:\n",
    "        return int(match.group(2))"
   ]
  },
  {
   "cell_type": "code",
   "execution_count": 21,
   "id": "c2b6cff7-e808-40f9-abec-81bdd230931b",
   "metadata": {},
   "outputs": [
    {
     "name": "stdout",
     "output_type": "stream",
     "text": [
      "<class 'pandas.core.frame.DataFrame'>\n",
      "Index: 959371 entries, 8941336 to 8410502\n",
      "Data columns (total 10 columns):\n",
      " #   Column                  Non-Null Count   Dtype  \n",
      "---  ------                  --------------   -----  \n",
      " 0   Time                    959371 non-null  object \n",
      " 1   Date                    959371 non-null  object \n",
      " 2   Amount                  959371 non-null  float64\n",
      " 3   Payment_currency        959371 non-null  object \n",
      " 4   Received_currency       959371 non-null  object \n",
      " 5   Sender_bank_location    959371 non-null  object \n",
      " 6   Receiver_bank_location  959371 non-null  object \n",
      " 7   Payment_type            959371 non-null  object \n",
      " 8   Is_laundering           959371 non-null  int64  \n",
      " 9   Laundering_type         959371 non-null  object \n",
      "dtypes: float64(1), int64(1), object(8)\n",
      "memory usage: 80.5+ MB\n"
     ]
    }
   ],
   "source": [
    "df.info()"
   ]
  },
  {
   "cell_type": "code",
   "execution_count": 333,
   "id": "b58ccb89-f8ca-41d0-8f8e-38622830e414",
   "metadata": {},
   "outputs": [],
   "source": [
    "df[\"Month\"] = df[\"Date\"].apply(datetime_to_month)"
   ]
  },
  {
   "cell_type": "code",
   "execution_count": 23,
   "id": "2f834a40-284c-4d4b-a36d-54e2d41ba5b8",
   "metadata": {},
   "outputs": [
    {
     "data": {
      "text/html": [
       "<div>\n",
       "<style scoped>\n",
       "    .dataframe tbody tr th:only-of-type {\n",
       "        vertical-align: middle;\n",
       "    }\n",
       "\n",
       "    .dataframe tbody tr th {\n",
       "        vertical-align: top;\n",
       "    }\n",
       "\n",
       "    .dataframe thead th {\n",
       "        text-align: right;\n",
       "    }\n",
       "</style>\n",
       "<table border=\"1\" class=\"dataframe\">\n",
       "  <thead>\n",
       "    <tr style=\"text-align: right;\">\n",
       "      <th></th>\n",
       "      <th>Time</th>\n",
       "      <th>Date</th>\n",
       "      <th>Amount</th>\n",
       "      <th>Payment_currency</th>\n",
       "      <th>Received_currency</th>\n",
       "      <th>Sender_bank_location</th>\n",
       "      <th>Receiver_bank_location</th>\n",
       "      <th>Payment_type</th>\n",
       "      <th>Is_laundering</th>\n",
       "      <th>Laundering_type</th>\n",
       "      <th>Month</th>\n",
       "    </tr>\n",
       "  </thead>\n",
       "  <tbody>\n",
       "    <tr>\n",
       "      <th>8941336</th>\n",
       "      <td>09:46:43</td>\n",
       "      <td>2023-08-04</td>\n",
       "      <td>6270.98</td>\n",
       "      <td>UK pounds</td>\n",
       "      <td>UK pounds</td>\n",
       "      <td>UK</td>\n",
       "      <td>UK</td>\n",
       "      <td>Credit card</td>\n",
       "      <td>0</td>\n",
       "      <td>Normal_Fan_In</td>\n",
       "      <td>8</td>\n",
       "    </tr>\n",
       "    <tr>\n",
       "      <th>9043652</th>\n",
       "      <td>17:35:32</td>\n",
       "      <td>2023-08-07</td>\n",
       "      <td>898.47</td>\n",
       "      <td>UK pounds</td>\n",
       "      <td>UK pounds</td>\n",
       "      <td>UK</td>\n",
       "      <td>UK</td>\n",
       "      <td>Credit card</td>\n",
       "      <td>0</td>\n",
       "      <td>Normal_Small_Fan_Out</td>\n",
       "      <td>8</td>\n",
       "    </tr>\n",
       "    <tr>\n",
       "      <th>601284</th>\n",
       "      <td>09:03:02</td>\n",
       "      <td>2022-10-28</td>\n",
       "      <td>8097.70</td>\n",
       "      <td>UK pounds</td>\n",
       "      <td>UK pounds</td>\n",
       "      <td>UK</td>\n",
       "      <td>UK</td>\n",
       "      <td>ACH</td>\n",
       "      <td>0</td>\n",
       "      <td>Normal_Fan_In</td>\n",
       "      <td>10</td>\n",
       "    </tr>\n",
       "    <tr>\n",
       "      <th>3760794</th>\n",
       "      <td>16:52:02</td>\n",
       "      <td>2023-02-11</td>\n",
       "      <td>1248.39</td>\n",
       "      <td>UK pounds</td>\n",
       "      <td>UK pounds</td>\n",
       "      <td>UK</td>\n",
       "      <td>UK</td>\n",
       "      <td>Credit card</td>\n",
       "      <td>0</td>\n",
       "      <td>Normal_Small_Fan_Out</td>\n",
       "      <td>2</td>\n",
       "    </tr>\n",
       "    <tr>\n",
       "      <th>5635478</th>\n",
       "      <td>14:55:42</td>\n",
       "      <td>2023-04-14</td>\n",
       "      <td>4754.27</td>\n",
       "      <td>UK pounds</td>\n",
       "      <td>UK pounds</td>\n",
       "      <td>UK</td>\n",
       "      <td>UK</td>\n",
       "      <td>Credit card</td>\n",
       "      <td>0</td>\n",
       "      <td>Normal_Fan_Out</td>\n",
       "      <td>4</td>\n",
       "    </tr>\n",
       "  </tbody>\n",
       "</table>\n",
       "</div>"
      ],
      "text/plain": [
       "             Time        Date   Amount Payment_currency Received_currency  \\\n",
       "8941336  09:46:43  2023-08-04  6270.98        UK pounds         UK pounds   \n",
       "9043652  17:35:32  2023-08-07   898.47        UK pounds         UK pounds   \n",
       "601284   09:03:02  2022-10-28  8097.70        UK pounds         UK pounds   \n",
       "3760794  16:52:02  2023-02-11  1248.39        UK pounds         UK pounds   \n",
       "5635478  14:55:42  2023-04-14  4754.27        UK pounds         UK pounds   \n",
       "\n",
       "        Sender_bank_location Receiver_bank_location Payment_type  \\\n",
       "8941336                   UK                     UK  Credit card   \n",
       "9043652                   UK                     UK  Credit card   \n",
       "601284                    UK                     UK          ACH   \n",
       "3760794                   UK                     UK  Credit card   \n",
       "5635478                   UK                     UK  Credit card   \n",
       "\n",
       "         Is_laundering       Laundering_type  Month  \n",
       "8941336              0         Normal_Fan_In      8  \n",
       "9043652              0  Normal_Small_Fan_Out      8  \n",
       "601284               0         Normal_Fan_In     10  \n",
       "3760794              0  Normal_Small_Fan_Out      2  \n",
       "5635478              0        Normal_Fan_Out      4  "
      ]
     },
     "execution_count": 23,
     "metadata": {},
     "output_type": "execute_result"
    }
   ],
   "source": [
    "df.head(5)"
   ]
  },
  {
   "cell_type": "code",
   "execution_count": 24,
   "id": "afa109c1-9ecb-43a0-a3f9-6910c379a3af",
   "metadata": {},
   "outputs": [
    {
     "data": {
      "image/png": "[encoded data removed]",
      "text/plain": [
       "<Figure size 1200x400 with 1 Axes>"
      ]
     },
     "metadata": {},
     "output_type": "display_data"
    }
   ],
   "source": [
    "plt.figure(figsize=(12,4))\n",
    "sns.countplot(data=df, x=\"Month\", hue=\"Is_laundering\")\n",
    "plt.show()"
   ]
  },
  {
   "cell_type": "code",
   "execution_count": 336,
   "id": "3f3952a3-f52a-4e9b-9812-7bf5c90156df",
   "metadata": {},
   "outputs": [
    {
     "name": "stdout",
     "output_type": "stream",
     "text": [
      "proportion:  0.008813604475623835\n",
      "proportion:  0.010096719383087179\n",
      "proportion:  0.009364996972056406\n",
      "proportion:  0.012407504297780102\n",
      "proportion:  0.010785959599284594\n",
      "proportion:  0.010593896946270663\n",
      "proportion:  0.010382939491389624\n",
      "proportion:  0.011256705654735731\n",
      "proportion:  0.009974157365150931\n",
      "proportion:  0.01026694045174538\n",
      "proportion:  0.009694091353540997\n"
     ]
    }
   ],
   "source": [
    "for m in df[\"Month\"].unique():\n",
    "    proportion = (len(df[(df[\"Month\"] == m) & (df[\"Is_laundering\"] == 1)]))/len(df[df[\"Month\"] == m])\n",
    "    print(\"proportion: \", proportion)"
   ]
  },
  {
   "cell_type": "code",
   "execution_count": 100,
   "id": "ea4043bf-0c17-4951-8466-52cd7b693901",
   "metadata": {},
   "outputs": [],
   "source": [
    "#need to actually have this when i do the graph below"
   ]
  },
  {
   "cell_type": "code",
   "execution_count": 102,
   "id": "68c82df6-f041-4922-9244-19ef0d575778",
   "metadata": {},
   "outputs": [
    {
     "name": "stdout",
     "output_type": "stream",
     "text": [
      "<class 'pandas.core.frame.DataFrame'>\n",
      "Index: 959371 entries, 8941336 to 8410502\n",
      "Data columns (total 11 columns):\n",
      " #   Column                  Non-Null Count   Dtype  \n",
      "---  ------                  --------------   -----  \n",
      " 0   Time                    959371 non-null  object \n",
      " 1   Date                    959371 non-null  object \n",
      " 2   Amount                  959371 non-null  float64\n",
      " 3   Payment_currency        959371 non-null  object \n",
      " 4   Received_currency       959371 non-null  object \n",
      " 5   Sender_bank_location    959371 non-null  object \n",
      " 6   Receiver_bank_location  959371 non-null  object \n",
      " 7   Payment_type            959371 non-null  object \n",
      " 8   Is_laundering           959371 non-null  int64  \n",
      " 9   Laundering_type         959371 non-null  object \n",
      " 10  Month                   959371 non-null  int64  \n",
      "dtypes: float64(1), int64(2), object(8)\n",
      "memory usage: 87.8+ MB\n"
     ]
    }
   ],
   "source": [
    "df.info()"
   ]
  },
  {
   "cell_type": "code",
   "execution_count": 106,
   "id": "44eeaed0-588d-42bb-aa79-e3a22fff8d73",
   "metadata": {},
   "outputs": [
    {
     "data": {
      "image/png": "[encoded data removed]",
      "text/plain": [
       "<Figure size 1200x400 with 1 Axes>"
      ]
     },
     "metadata": {},
     "output_type": "display_data"
    }
   ],
   "source": [
    "plt.figure(figsize=(12,4))\n",
    "sns.barplot(data=df, y=\"Is_laundering\", x=\"Month\")\n",
    "plt.ylim(0, 0.015)\n",
    "plt.show()"
   ]
  },
  {
   "cell_type": "code",
   "execution_count": null,
   "id": "ebdbe6a7-99f6-4768-8ede-4cc66179762c",
   "metadata": {},
   "outputs": [],
   "source": []
  },
  {
   "cell_type": "code",
   "execution_count": 112,
   "id": "7609c967-637e-4324-801f-02b66546d48e",
   "metadata": {},
   "outputs": [
    {
     "data": {
      "text/plain": [
       "Receiver_bank_location\n",
       "UK             893409\n",
       "Morocco          4113\n",
       "Albania          4092\n",
       "Nigeria          4082\n",
       "Austria          4038\n",
       "Mexico           3987\n",
       "Pakistan         3972\n",
       "Japan            3954\n",
       "France           3938\n",
       "Germany          3916\n",
       "Netherlands      3850\n",
       "India            3824\n",
       "USA              3767\n",
       "Spain            3723\n",
       "Italy            3710\n",
       "Turkey           3692\n",
       "Switzerland      3685\n",
       "UAE              3619\n",
       "Name: count, dtype: int64"
      ]
     },
     "execution_count": 112,
     "metadata": {},
     "output_type": "execute_result"
    }
   ],
   "source": [
    "df[\"Receiver_bank_location\"].value_counts()"
   ]
  },
  {
   "cell_type": "code",
   "execution_count": 339,
   "id": "7ec82007-9219-4b24-9af5-338e187de00f",
   "metadata": {},
   "outputs": [
    {
     "name": "stdout",
     "output_type": "stream",
     "text": [
      "proportion when receiver location is UK: 0.82%\n",
      "proportion when receiver location is Turkey: 4.78%\n",
      "proportion when receiver location is Mexico: 4.85%\n",
      "proportion when receiver location is Spain: 2.31%\n",
      "proportion when receiver location is Pakistan: 4.17%\n",
      "proportion when receiver location is Italy: 3.45%\n",
      "proportion when receiver location is Japan: 2.14%\n",
      "proportion when receiver location is Netherlands: 3.82%\n",
      "proportion when receiver location is Albania: 5.63%\n",
      "proportion when receiver location is Austria: 3.90%\n",
      "proportion when receiver location is France: 2.05%\n",
      "proportion when receiver location is Germany: 2.61%\n",
      "proportion when receiver location is USA: 2.30%\n",
      "proportion when receiver location is Morocco: 6.16%\n",
      "proportion when receiver location is Nigeria: 6.30%\n",
      "proportion when receiver location is India: 3.61%\n",
      "proportion when receiver location is UAE: 5.25%\n",
      "proportion when receiver location is Switzerland: 2.12%\n"
     ]
    }
   ],
   "source": [
    "for receive_loc in df[\"Receiver_bank_location\"].unique():\n",
    "    proportion = (len(df[(df[\"Receiver_bank_location\"] == receive_loc) & (df[\"Is_laundering\"] == 1)]))/len(df[df[\"Receiver_bank_location\"] == receive_loc])\n",
    "    print(f\"proportion when receiver location is {receive_loc}: {(proportion*100):.2f}%\") "
   ]
  },
  {
   "cell_type": "code",
   "execution_count": 123,
   "id": "4b73edd6-3a23-4f5e-9267-74ff83b2e810",
   "metadata": {},
   "outputs": [
    {
     "data": {
      "text/plain": [
       "Sender_bank_location\n",
       "UK             926676\n",
       "Turkey           2164\n",
       "Pakistan         2052\n",
       "UAE              2022\n",
       "Nigeria          2004\n",
       "Switzerland      1984\n",
       "Italy            1957\n",
       "Spain            1955\n",
       "USA              1935\n",
       "Germany          1916\n",
       "India            1914\n",
       "France           1891\n",
       "Morocco          1867\n",
       "Mexico           1855\n",
       "Japan            1812\n",
       "Austria          1809\n",
       "Netherlands      1795\n",
       "Albania          1763\n",
       "Name: count, dtype: int64"
      ]
     },
     "execution_count": 123,
     "metadata": {},
     "output_type": "execute_result"
    }
   ],
   "source": [
    "df[\"Sender_bank_location\"].value_counts()"
   ]
  },
  {
   "cell_type": "code",
   "execution_count": 341,
   "id": "9a150c85-63fd-4b1f-86ca-e2e754f1d20d",
   "metadata": {},
   "outputs": [
    {
     "name": "stdout",
     "output_type": "stream",
     "text": [
      "proportion when sender location is UK: 1.00%\n",
      "proportion when sender location is India: 2.27%\n",
      "proportion when sender location is Netherlands: 2.40%\n",
      "proportion when sender location is Pakistan: 1.19%\n",
      "proportion when sender location is Morocco: 2.81%\n",
      "proportion when sender location is UAE: 1.62%\n",
      "proportion when sender location is Turkey: 1.33%\n",
      "proportion when sender location is Nigeria: 1.24%\n",
      "proportion when sender location is USA: 1.83%\n",
      "proportion when sender location is Italy: 2.34%\n",
      "proportion when sender location is Mexico: 2.46%\n",
      "proportion when sender location is France: 1.59%\n",
      "proportion when sender location is Spain: 1.38%\n",
      "proportion when sender location is Austria: 2.06%\n",
      "proportion when sender location is Albania: 1.54%\n",
      "proportion when sender location is Switzerland: 2.04%\n",
      "proportion when sender location is Japan: 2.05%\n",
      "proportion when sender location is Germany: 2.23%\n"
     ]
    }
   ],
   "source": [
    "for send_loc in df[\"Sender_bank_location\"].unique():\n",
    "    proportion = (len(df[(df[\"Sender_bank_location\"] == send_loc) & (df[\"Is_laundering\"] == 1)]))/len(df[df[\"Sender_bank_location\"] == send_loc])\n",
    "    print(f\"proportion when sender location is {send_loc}: {(proportion*100):.2f}%\") "
   ]
  },
  {
   "cell_type": "code",
   "execution_count": 129,
   "id": "f8fa832e-003f-4dd5-beb6-55941e254903",
   "metadata": {},
   "outputs": [
    {
     "data": {
      "text/plain": [
       "Index(['Time', 'Date', 'Amount', 'Payment_currency', 'Received_currency',\n",
       "       'Sender_bank_location', 'Receiver_bank_location', 'Payment_type',\n",
       "       'Is_laundering', 'Laundering_type', 'Month'],\n",
       "      dtype='object')"
      ]
     },
     "execution_count": 129,
     "metadata": {},
     "output_type": "execute_result"
    }
   ],
   "source": [
    "df.columns"
   ]
  },
  {
   "cell_type": "code",
   "execution_count": 343,
   "id": "3c992a12-cb00-41ed-aa01-181f82d15fa3",
   "metadata": {},
   "outputs": [
    {
     "data": {
      "image/png": "[encoded data removed]",
      "text/plain": [
       "<Figure size 1200x1200 with 2 Axes>"
      ]
     },
     "metadata": {},
     "output_type": "display_data"
    }
   ],
   "source": [
    "\n",
    "pivot_table = df.pivot_table(\n",
    "    index='Sender_bank_location', \n",
    "    columns='Receiver_bank_location', \n",
    "    values='Is_laundering', \n",
    "    aggfunc='mean'\n",
    ")\n",
    "\n",
    "plt.figure(figsize=(12, 12))\n",
    "sns.heatmap(pivot_table, annot=True, cmap=\"coolwarm\", fmt=\".2f\", linewidths=0.5, vmin=0, vmax=0.3)\n",
    "\n",
    "plt.title('Proportion of Fraudulent Transactions Between Sender and Receiver Countries')\n",
    "plt.show()\n"
   ]
  },
  {
   "cell_type": "code",
   "execution_count": 345,
   "id": "ff79406a-41e7-4427-9e28-fa9bb3e520af",
   "metadata": {},
   "outputs": [
    {
     "data": {
      "text/plain": [
       "Index(['Time', 'Date', 'Amount', 'Payment_currency', 'Received_currency',\n",
       "       'Sender_bank_location', 'Receiver_bank_location', 'Payment_type',\n",
       "       'Is_laundering', 'Laundering_type', 'Month'],\n",
       "      dtype='object')"
      ]
     },
     "execution_count": 345,
     "metadata": {},
     "output_type": "execute_result"
    }
   ],
   "source": [
    "df.columns"
   ]
  },
  {
   "cell_type": "code",
   "execution_count": null,
   "id": "e773b903-8a84-43c2-9853-af1306725898",
   "metadata": {},
   "outputs": [],
   "source": []
  },
  {
   "cell_type": "code",
   "execution_count": 347,
   "id": "623a7451-6c6f-427a-98b5-3b41545b4d98",
   "metadata": {},
   "outputs": [
    {
     "data": {
      "image/png": "[encoded data removed]",
      "text/plain": [
       "<Figure size 1200x1200 with 2 Axes>"
      ]
     },
     "metadata": {},
     "output_type": "display_data"
    }
   ],
   "source": [
    "pivot_table = df.pivot_table(\n",
    "    index='Payment_currency', \n",
    "    columns='Received_currency', \n",
    "    values='Is_laundering', \n",
    "    aggfunc='mean'\n",
    ")\n",
    "\n",
    "plt.figure(figsize=(12, 12))\n",
    "sns.heatmap(pivot_table, annot=True, cmap=\"coolwarm\", fmt=\".2f\", linewidths=0.5, vmin=0, vmax=0.3)\n",
    "\n",
    "plt.title('Proportion of Fraudulent Transactions Between Sender and Receiver Countries')\n",
    "plt.show()\n"
   ]
  },
  {
   "cell_type": "code",
   "execution_count": 181,
   "id": "b7e96330-61bb-430d-8d65-3d41e01dfeaa",
   "metadata": {},
   "outputs": [
    {
     "data": {
      "text/plain": [
       "Payment_type\n",
       "Credit card        202783\n",
       "Debit card         202320\n",
       "ACH                202138\n",
       "Cheque             201773\n",
       "Cross-border        95419\n",
       "Cash Withdrawal     31220\n",
       "Cash Deposit        23718\n",
       "Name: count, dtype: int64"
      ]
     },
     "execution_count": 181,
     "metadata": {},
     "output_type": "execute_result"
    }
   ],
   "source": [
    "df[\"Payment_type\"].value_counts()"
   ]
  },
  {
   "cell_type": "code",
   "execution_count": 189,
   "id": "c41e7627-c557-40e8-9355-409f23d3fe3f",
   "metadata": {},
   "outputs": [
    {
     "data": {
      "image/png": "[encoded data removed]",
      "text/plain": [
       "<Figure size 1200x400 with 1 Axes>"
      ]
     },
     "metadata": {},
     "output_type": "display_data"
    }
   ],
   "source": [
    "plt.figure(figsize=(12,4))\n",
    "sns.barplot(data=df, y=\"Is_laundering\", x=\"Payment_type\")\n",
    "plt.ylim(0, 0.07)\n",
    "plt.show()"
   ]
  },
  {
   "cell_type": "code",
   "execution_count": 191,
   "id": "b99799e2-48e8-417b-b8d4-71ba5a202f12",
   "metadata": {},
   "outputs": [
    {
     "data": {
      "text/plain": [
       "8941336    09:46:43\n",
       "9043652    17:35:32\n",
       "601284     09:03:02\n",
       "3760794    16:52:02\n",
       "5635478    14:55:42\n",
       "             ...   \n",
       "8924416    17:24:22\n",
       "620324     20:40:40\n",
       "5616270    21:53:02\n",
       "4208635    15:07:03\n",
       "8410502    18:45:28\n",
       "Name: Time, Length: 959371, dtype: object"
      ]
     },
     "execution_count": 191,
     "metadata": {},
     "output_type": "execute_result"
    }
   ],
   "source": [
    "df[\"Time\"]"
   ]
  },
  {
   "cell_type": "code",
   "execution_count": 349,
   "id": "d0ac8437-5c14-47cc-a5f7-8d61509edc0e",
   "metadata": {},
   "outputs": [],
   "source": [
    "def time_to_hour(time):\n",
    "    matches = re.search(\"^([0-9][0-9]):.*$\", time)\n",
    "    return int(matches.group(1))"
   ]
  },
  {
   "cell_type": "code",
   "execution_count": 351,
   "id": "29e3110d-de91-41fd-b94e-648547b999a6",
   "metadata": {},
   "outputs": [],
   "source": [
    "df[\"Hour\"] = df[\"Time\"].apply(time_to_hour)"
   ]
  },
  {
   "cell_type": "code",
   "execution_count": 215,
   "id": "85decdbf-538e-47ae-91b9-de4b4e1759db",
   "metadata": {},
   "outputs": [
    {
     "data": {
      "image/png": "[encoded data removed]",
      "text/plain": [
       "<Figure size 1200x400 with 1 Axes>"
      ]
     },
     "metadata": {},
     "output_type": "display_data"
    }
   ],
   "source": [
    "plt.figure(figsize=(12,4))\n",
    "sns.barplot(data=df, y=\"Is_laundering\", x=\"Hour\", order=sorted(df[\"Hour\"].unique()))\n",
    "plt.ylim(0, 0.017)\n",
    "plt.show()"
   ]
  },
  {
   "cell_type": "code",
   "execution_count": 224,
   "id": "4d2fbeeb-5220-488d-947a-f8044d22599d",
   "metadata": {},
   "outputs": [
    {
     "data": {
      "text/plain": [
       "Index(['Time', 'Date', 'Amount', 'Payment_currency', 'Received_currency',\n",
       "       'Sender_bank_location', 'Receiver_bank_location', 'Payment_type',\n",
       "       'Is_laundering', 'Laundering_type', 'Month', 'Hour'],\n",
       "      dtype='object')"
      ]
     },
     "execution_count": 224,
     "metadata": {},
     "output_type": "execute_result"
    }
   ],
   "source": [
    "df.columns"
   ]
  },
  {
   "cell_type": "code",
   "execution_count": null,
   "id": "89f1a286-dff8-4e20-8f4e-16f4dd1e5281",
   "metadata": {},
   "outputs": [],
   "source": []
  },
  {
   "cell_type": "code",
   "execution_count": 353,
   "id": "0dda2b03-3007-48ab-a91e-4c35b7256598",
   "metadata": {},
   "outputs": [],
   "source": [
    "df = df.drop([\"Time\", \"Date\", \"Month\"], axis=1)"
   ]
  },
  {
   "cell_type": "code",
   "execution_count": 355,
   "id": "38ae0a34-3084-463b-ac74-78f92549107f",
   "metadata": {},
   "outputs": [
    {
     "data": {
      "text/html": [
       "<div>\n",
       "<style scoped>\n",
       "    .dataframe tbody tr th:only-of-type {\n",
       "        vertical-align: middle;\n",
       "    }\n",
       "\n",
       "    .dataframe tbody tr th {\n",
       "        vertical-align: top;\n",
       "    }\n",
       "\n",
       "    .dataframe thead th {\n",
       "        text-align: right;\n",
       "    }\n",
       "</style>\n",
       "<table border=\"1\" class=\"dataframe\">\n",
       "  <thead>\n",
       "    <tr style=\"text-align: right;\">\n",
       "      <th></th>\n",
       "      <th>Amount</th>\n",
       "      <th>Payment_currency</th>\n",
       "      <th>Received_currency</th>\n",
       "      <th>Sender_bank_location</th>\n",
       "      <th>Receiver_bank_location</th>\n",
       "      <th>Payment_type</th>\n",
       "      <th>Is_laundering</th>\n",
       "      <th>Laundering_type</th>\n",
       "      <th>Hour</th>\n",
       "    </tr>\n",
       "  </thead>\n",
       "  <tbody>\n",
       "    <tr>\n",
       "      <th>1173981</th>\n",
       "      <td>2898.26</td>\n",
       "      <td>UK pounds</td>\n",
       "      <td>UK pounds</td>\n",
       "      <td>UK</td>\n",
       "      <td>UK</td>\n",
       "      <td>Cheque</td>\n",
       "      <td>0</td>\n",
       "      <td>Normal_Small_Fan_Out</td>\n",
       "      <td>11</td>\n",
       "    </tr>\n",
       "    <tr>\n",
       "      <th>1524812</th>\n",
       "      <td>27350.56</td>\n",
       "      <td>UK pounds</td>\n",
       "      <td>Pakistani rupee</td>\n",
       "      <td>UK</td>\n",
       "      <td>UK</td>\n",
       "      <td>Credit card</td>\n",
       "      <td>0</td>\n",
       "      <td>Normal_Fan_In</td>\n",
       "      <td>10</td>\n",
       "    </tr>\n",
       "    <tr>\n",
       "      <th>4993063</th>\n",
       "      <td>3865.76</td>\n",
       "      <td>UK pounds</td>\n",
       "      <td>UK pounds</td>\n",
       "      <td>UK</td>\n",
       "      <td>UK</td>\n",
       "      <td>Credit card</td>\n",
       "      <td>0</td>\n",
       "      <td>Normal_Small_Fan_Out</td>\n",
       "      <td>23</td>\n",
       "    </tr>\n",
       "    <tr>\n",
       "      <th>6737068</th>\n",
       "      <td>2641.37</td>\n",
       "      <td>UK pounds</td>\n",
       "      <td>UK pounds</td>\n",
       "      <td>UK</td>\n",
       "      <td>UK</td>\n",
       "      <td>Debit card</td>\n",
       "      <td>0</td>\n",
       "      <td>Normal_Group</td>\n",
       "      <td>17</td>\n",
       "    </tr>\n",
       "    <tr>\n",
       "      <th>6762836</th>\n",
       "      <td>12785.72</td>\n",
       "      <td>Indian rupee</td>\n",
       "      <td>UK pounds</td>\n",
       "      <td>India</td>\n",
       "      <td>UK</td>\n",
       "      <td>Cross-border</td>\n",
       "      <td>0</td>\n",
       "      <td>Normal_Fan_In</td>\n",
       "      <td>15</td>\n",
       "    </tr>\n",
       "    <tr>\n",
       "      <th>9323375</th>\n",
       "      <td>4611.84</td>\n",
       "      <td>UK pounds</td>\n",
       "      <td>UK pounds</td>\n",
       "      <td>UK</td>\n",
       "      <td>UK</td>\n",
       "      <td>Credit card</td>\n",
       "      <td>0</td>\n",
       "      <td>Normal_Fan_In</td>\n",
       "      <td>4</td>\n",
       "    </tr>\n",
       "    <tr>\n",
       "      <th>8753104</th>\n",
       "      <td>2292.90</td>\n",
       "      <td>UK pounds</td>\n",
       "      <td>UK pounds</td>\n",
       "      <td>UK</td>\n",
       "      <td>UK</td>\n",
       "      <td>Cash Deposit</td>\n",
       "      <td>0</td>\n",
       "      <td>Normal_Cash_Deposits</td>\n",
       "      <td>17</td>\n",
       "    </tr>\n",
       "    <tr>\n",
       "      <th>1176463</th>\n",
       "      <td>3066.91</td>\n",
       "      <td>UK pounds</td>\n",
       "      <td>UK pounds</td>\n",
       "      <td>UK</td>\n",
       "      <td>UK</td>\n",
       "      <td>Cheque</td>\n",
       "      <td>0</td>\n",
       "      <td>Normal_Small_Fan_Out</td>\n",
       "      <td>13</td>\n",
       "    </tr>\n",
       "    <tr>\n",
       "      <th>8167094</th>\n",
       "      <td>5825.66</td>\n",
       "      <td>UK pounds</td>\n",
       "      <td>UK pounds</td>\n",
       "      <td>UK</td>\n",
       "      <td>UK</td>\n",
       "      <td>Credit card</td>\n",
       "      <td>0</td>\n",
       "      <td>Normal_Fan_Out</td>\n",
       "      <td>16</td>\n",
       "    </tr>\n",
       "    <tr>\n",
       "      <th>5954037</th>\n",
       "      <td>6179.79</td>\n",
       "      <td>UK pounds</td>\n",
       "      <td>UK pounds</td>\n",
       "      <td>UK</td>\n",
       "      <td>UK</td>\n",
       "      <td>Credit card</td>\n",
       "      <td>0</td>\n",
       "      <td>Normal_Fan_Out</td>\n",
       "      <td>11</td>\n",
       "    </tr>\n",
       "  </tbody>\n",
       "</table>\n",
       "</div>"
      ],
      "text/plain": [
       "           Amount Payment_currency Received_currency Sender_bank_location  \\\n",
       "1173981   2898.26        UK pounds         UK pounds                   UK   \n",
       "1524812  27350.56        UK pounds   Pakistani rupee                   UK   \n",
       "4993063   3865.76        UK pounds         UK pounds                   UK   \n",
       "6737068   2641.37        UK pounds         UK pounds                   UK   \n",
       "6762836  12785.72     Indian rupee         UK pounds                India   \n",
       "9323375   4611.84        UK pounds         UK pounds                   UK   \n",
       "8753104   2292.90        UK pounds         UK pounds                   UK   \n",
       "1176463   3066.91        UK pounds         UK pounds                   UK   \n",
       "8167094   5825.66        UK pounds         UK pounds                   UK   \n",
       "5954037   6179.79        UK pounds         UK pounds                   UK   \n",
       "\n",
       "        Receiver_bank_location  Payment_type  Is_laundering  \\\n",
       "1173981                     UK        Cheque              0   \n",
       "1524812                     UK   Credit card              0   \n",
       "4993063                     UK   Credit card              0   \n",
       "6737068                     UK    Debit card              0   \n",
       "6762836                     UK  Cross-border              0   \n",
       "9323375                     UK   Credit card              0   \n",
       "8753104                     UK  Cash Deposit              0   \n",
       "1176463                     UK        Cheque              0   \n",
       "8167094                     UK   Credit card              0   \n",
       "5954037                     UK   Credit card              0   \n",
       "\n",
       "              Laundering_type  Hour  \n",
       "1173981  Normal_Small_Fan_Out    11  \n",
       "1524812         Normal_Fan_In    10  \n",
       "4993063  Normal_Small_Fan_Out    23  \n",
       "6737068          Normal_Group    17  \n",
       "6762836         Normal_Fan_In    15  \n",
       "9323375         Normal_Fan_In     4  \n",
       "8753104  Normal_Cash_Deposits    17  \n",
       "1176463  Normal_Small_Fan_Out    13  \n",
       "8167094        Normal_Fan_Out    16  \n",
       "5954037        Normal_Fan_Out    11  "
      ]
     },
     "execution_count": 355,
     "metadata": {},
     "output_type": "execute_result"
    }
   ],
   "source": [
    "df.head(10)"
   ]
  },
  {
   "cell_type": "code",
   "execution_count": 357,
   "id": "d598f5a4-8fc4-4633-a10b-bc3554442a84",
   "metadata": {},
   "outputs": [
    {
     "name": "stderr",
     "output_type": "stream",
     "text": [
      "C:\\Users\\honer\\AppData\\Local\\Temp\\ipykernel_34620\\2432185715.py:2: FutureWarning: The default of observed=False is deprecated and will be changed to True in a future version of pandas. Pass observed=False to retain current behavior or observed=True to adopt the future default and silence this warning.\n",
      "  bin_stats = df.groupby(\"amount_bin\")[\"Is_laundering\"].mean().reset_index()\n"
     ]
    },
    {
     "data": {
      "image/png": "[encoded data removed]",
      "text/plain": [
       "<Figure size 1000x500 with 1 Axes>"
      ]
     },
     "metadata": {},
     "output_type": "display_data"
    }
   ],
   "source": [
    "\n",
    "df[\"amount_bin\"] = pd.qcut(df[\"Amount\"], q=100)  \n",
    "bin_stats = df.groupby(\"amount_bin\")[\"Is_laundering\"].mean().reset_index()\n",
    "\n",
    "bin_stats[\"amount_mid\"] = bin_stats[\"amount_bin\"].apply(lambda x: x.mid)\n",
    "\n",
    "plt.figure(figsize=(10, 5))\n",
    "sns.lineplot(data=bin_stats, x=\"amount_mid\", y=\"Is_laundering\", marker=\"o\")\n",
    "\n",
    "plt.xlabel(\"Transaction Amount\")\n",
    "plt.ylabel(\"Fraud Rate\")\n",
    "plt.title(\"Fraud Rate vs Transaction Amount\")\n",
    "plt.xscale(\"log\")\n",
    "plt.ylim(0, bin_stats[\"Is_laundering\"].max() * 1.1) \n",
    "plt.show()\n"
   ]
  },
  {
   "cell_type": "code",
   "execution_count": 389,
   "id": "a772d93a-4410-492c-95ef-18a7079a842b",
   "metadata": {},
   "outputs": [
    {
     "ename": "KeyError",
     "evalue": "\"None of [Index(['Payment_currency', 'Received_currency', 'Sender_bank_location',\\n       'Receiver_bank_location', 'Payment_type'],\\n      dtype='object')] are in the [columns]\"",
     "output_type": "error",
     "traceback": [
      "\u001b[1;31m---------------------------------------------------------------------------\u001b[0m",
      "\u001b[1;31mKeyError\u001b[0m                                  Traceback (most recent call last)",
      "Cell \u001b[1;32mIn[389], line 1\u001b[0m\n\u001b[1;32m----> 1\u001b[0m df \u001b[38;5;241m=\u001b[39m pd\u001b[38;5;241m.\u001b[39mget_dummies(data\u001b[38;5;241m=\u001b[39mdf, columns\u001b[38;5;241m=\u001b[39m[\u001b[38;5;124m'\u001b[39m\u001b[38;5;124mPayment_currency\u001b[39m\u001b[38;5;124m'\u001b[39m, \u001b[38;5;124m'\u001b[39m\u001b[38;5;124mReceived_currency\u001b[39m\u001b[38;5;124m'\u001b[39m, \u001b[38;5;124m'\u001b[39m\u001b[38;5;124mSender_bank_location\u001b[39m\u001b[38;5;124m'\u001b[39m, \u001b[38;5;124m'\u001b[39m\u001b[38;5;124mReceiver_bank_location\u001b[39m\u001b[38;5;124m'\u001b[39m, \u001b[38;5;124m'\u001b[39m\u001b[38;5;124mPayment_type\u001b[39m\u001b[38;5;124m'\u001b[39m], drop_first\u001b[38;5;241m=\u001b[39m\u001b[38;5;28;01mTrue\u001b[39;00m)\n",
      "File \u001b[1;32m~\\anaconda3\\Lib\\site-packages\\pandas\\core\\reshape\\encoding.py:169\u001b[0m, in \u001b[0;36mget_dummies\u001b[1;34m(data, prefix, prefix_sep, dummy_na, columns, sparse, drop_first, dtype)\u001b[0m\n\u001b[0;32m    167\u001b[0m     \u001b[38;5;28;01mraise\u001b[39;00m \u001b[38;5;167;01mTypeError\u001b[39;00m(\u001b[38;5;124m\"\u001b[39m\u001b[38;5;124mInput must be a list-like for parameter `columns`\u001b[39m\u001b[38;5;124m\"\u001b[39m)\n\u001b[0;32m    168\u001b[0m \u001b[38;5;28;01melse\u001b[39;00m:\n\u001b[1;32m--> 169\u001b[0m     data_to_encode \u001b[38;5;241m=\u001b[39m data[columns]\n\u001b[0;32m    171\u001b[0m \u001b[38;5;66;03m# validate prefixes and separator to avoid silently dropping cols\u001b[39;00m\n\u001b[0;32m    172\u001b[0m \u001b[38;5;28;01mdef\u001b[39;00m \u001b[38;5;21mcheck_len\u001b[39m(item, name: \u001b[38;5;28mstr\u001b[39m):\n",
      "File \u001b[1;32m~\\anaconda3\\Lib\\site-packages\\pandas\\core\\frame.py:4108\u001b[0m, in \u001b[0;36mDataFrame.__getitem__\u001b[1;34m(self, key)\u001b[0m\n\u001b[0;32m   4106\u001b[0m     \u001b[38;5;28;01mif\u001b[39;00m is_iterator(key):\n\u001b[0;32m   4107\u001b[0m         key \u001b[38;5;241m=\u001b[39m \u001b[38;5;28mlist\u001b[39m(key)\n\u001b[1;32m-> 4108\u001b[0m     indexer \u001b[38;5;241m=\u001b[39m \u001b[38;5;28mself\u001b[39m\u001b[38;5;241m.\u001b[39mcolumns\u001b[38;5;241m.\u001b[39m_get_indexer_strict(key, \u001b[38;5;124m\"\u001b[39m\u001b[38;5;124mcolumns\u001b[39m\u001b[38;5;124m\"\u001b[39m)[\u001b[38;5;241m1\u001b[39m]\n\u001b[0;32m   4110\u001b[0m \u001b[38;5;66;03m# take() does not accept boolean indexers\u001b[39;00m\n\u001b[0;32m   4111\u001b[0m \u001b[38;5;28;01mif\u001b[39;00m \u001b[38;5;28mgetattr\u001b[39m(indexer, \u001b[38;5;124m\"\u001b[39m\u001b[38;5;124mdtype\u001b[39m\u001b[38;5;124m\"\u001b[39m, \u001b[38;5;28;01mNone\u001b[39;00m) \u001b[38;5;241m==\u001b[39m \u001b[38;5;28mbool\u001b[39m:\n",
      "File \u001b[1;32m~\\anaconda3\\Lib\\site-packages\\pandas\\core\\indexes\\base.py:6200\u001b[0m, in \u001b[0;36mIndex._get_indexer_strict\u001b[1;34m(self, key, axis_name)\u001b[0m\n\u001b[0;32m   6197\u001b[0m \u001b[38;5;28;01melse\u001b[39;00m:\n\u001b[0;32m   6198\u001b[0m     keyarr, indexer, new_indexer \u001b[38;5;241m=\u001b[39m \u001b[38;5;28mself\u001b[39m\u001b[38;5;241m.\u001b[39m_reindex_non_unique(keyarr)\n\u001b[1;32m-> 6200\u001b[0m \u001b[38;5;28mself\u001b[39m\u001b[38;5;241m.\u001b[39m_raise_if_missing(keyarr, indexer, axis_name)\n\u001b[0;32m   6202\u001b[0m keyarr \u001b[38;5;241m=\u001b[39m \u001b[38;5;28mself\u001b[39m\u001b[38;5;241m.\u001b[39mtake(indexer)\n\u001b[0;32m   6203\u001b[0m \u001b[38;5;28;01mif\u001b[39;00m \u001b[38;5;28misinstance\u001b[39m(key, Index):\n\u001b[0;32m   6204\u001b[0m     \u001b[38;5;66;03m# GH 42790 - Preserve name from an Index\u001b[39;00m\n",
      "File \u001b[1;32m~\\anaconda3\\Lib\\site-packages\\pandas\\core\\indexes\\base.py:6249\u001b[0m, in \u001b[0;36mIndex._raise_if_missing\u001b[1;34m(self, key, indexer, axis_name)\u001b[0m\n\u001b[0;32m   6247\u001b[0m \u001b[38;5;28;01mif\u001b[39;00m nmissing:\n\u001b[0;32m   6248\u001b[0m     \u001b[38;5;28;01mif\u001b[39;00m nmissing \u001b[38;5;241m==\u001b[39m \u001b[38;5;28mlen\u001b[39m(indexer):\n\u001b[1;32m-> 6249\u001b[0m         \u001b[38;5;28;01mraise\u001b[39;00m \u001b[38;5;167;01mKeyError\u001b[39;00m(\u001b[38;5;124mf\u001b[39m\u001b[38;5;124m\"\u001b[39m\u001b[38;5;124mNone of [\u001b[39m\u001b[38;5;132;01m{\u001b[39;00mkey\u001b[38;5;132;01m}\u001b[39;00m\u001b[38;5;124m] are in the [\u001b[39m\u001b[38;5;132;01m{\u001b[39;00maxis_name\u001b[38;5;132;01m}\u001b[39;00m\u001b[38;5;124m]\u001b[39m\u001b[38;5;124m\"\u001b[39m)\n\u001b[0;32m   6251\u001b[0m     not_found \u001b[38;5;241m=\u001b[39m \u001b[38;5;28mlist\u001b[39m(ensure_index(key)[missing_mask\u001b[38;5;241m.\u001b[39mnonzero()[\u001b[38;5;241m0\u001b[39m]]\u001b[38;5;241m.\u001b[39munique())\n\u001b[0;32m   6252\u001b[0m     \u001b[38;5;28;01mraise\u001b[39;00m \u001b[38;5;167;01mKeyError\u001b[39;00m(\u001b[38;5;124mf\u001b[39m\u001b[38;5;124m\"\u001b[39m\u001b[38;5;132;01m{\u001b[39;00mnot_found\u001b[38;5;132;01m}\u001b[39;00m\u001b[38;5;124m not in index\u001b[39m\u001b[38;5;124m\"\u001b[39m)\n",
      "\u001b[1;31mKeyError\u001b[0m: \"None of [Index(['Payment_currency', 'Received_currency', 'Sender_bank_location',\\n       'Receiver_bank_location', 'Payment_type'],\\n      dtype='object')] are in the [columns]\""
     ]
    }
   ],
   "source": [
    "df = pd.get_dummies(data=df, columns=['Payment_currency', 'Received_currency', 'Sender_bank_location', 'Receiver_bank_location', 'Payment_type'], drop_first=True)"
   ]
  },
  {
   "cell_type": "code",
   "execution_count": 417,
   "id": "1d7486ad-1a4e-49b1-90aa-f8c5e1bd75b3",
   "metadata": {},
   "outputs": [
    {
     "name": "stderr",
     "output_type": "stream",
     "text": [
      "C:\\Users\\honer\\AppData\\Local\\Temp\\ipykernel_34620\\2261015548.py:1: FutureWarning: DataFrame.applymap has been deprecated. Use DataFrame.map instead.\n",
      "  df = df.applymap(lambda x: int(x) if isinstance(x, bool) else x)\n"
     ]
    }
   ],
   "source": [
    "df = df.applymap(lambda x: int(x) if isinstance(x, bool) else x)\n"
   ]
  },
  {
   "cell_type": "code",
   "execution_count": 439,
   "id": "9677941e-21a0-4c48-bb1a-f1030e0c656c",
   "metadata": {},
   "outputs": [],
   "source": [
    "df = df.drop(\"amount_bin\", axis=1)"
   ]
  },
  {
   "cell_type": "code",
   "execution_count": 425,
   "id": "a25bd938-0d81-42ba-950b-6389dd8b2087",
   "metadata": {},
   "outputs": [],
   "source": [
    "y = df[\"Is_laundering\"]\n",
    "y_type = df[\"Laundering_type\"]"
   ]
  },
  {
   "cell_type": "code",
   "execution_count": null,
   "id": "053a1308-6205-4ec7-9e96-5e11b7370671",
   "metadata": {},
   "outputs": [],
   "source": []
  },
  {
   "cell_type": "code",
   "execution_count": 427,
   "id": "1919d896-98ee-4b93-a732-6ee8f047a2db",
   "metadata": {},
   "outputs": [],
   "source": [
    "X = df.drop([\"Is_laundering\", \"Laundering_type\"], axis=1)"
   ]
  },
  {
   "cell_type": "code",
   "execution_count": 504,
   "id": "6702fd9f-b8a0-4e5c-922b-3726f77d9429",
   "metadata": {},
   "outputs": [],
   "source": [
    "X_train, X_test, y_train, y_test = train_test_split(X, y, test_size=0.25, random_state=111)"
   ]
  },
  {
   "cell_type": "code",
   "execution_count": 506,
   "id": "45ce588a-ba7f-44bd-b512-382051a67fb6",
   "metadata": {},
   "outputs": [
    {
     "name": "stdout",
     "output_type": "stream",
     "text": [
      "Is_laundering\n",
      "0    0.950436\n",
      "1    0.049564\n",
      "Name: proportion, dtype: float64\n"
     ]
    }
   ],
   "source": [
    "to_drop = y_train[y_train == 0].index\n",
    "drop_indices = np.random.choice(to_drop, size=int(0.8 * len(to_drop)), replace=False)\n",
    "X_train = X_train.drop(drop_indices)\n",
    "y_train = y_train.drop(drop_indices)\n",
    "print(y_train.value_counts(normalize=True))"
   ]
  },
  {
   "cell_type": "code",
   "execution_count": 508,
   "id": "56e85890-de26-4f00-891a-44cd013cb982",
   "metadata": {},
   "outputs": [],
   "source": [
    "log_model = LogisticRegression()"
   ]
  },
  {
   "cell_type": "code",
   "execution_count": 524,
   "id": "73c4a766-b078-4fb1-b02a-f85c38a6dc4e",
   "metadata": {},
   "outputs": [],
   "source": [
    "param_grid = {\"penalty\": [\"l1\", \"l2\"], \"C\": np.logspace(0, 3, 8)}"
   ]
  },
  {
   "cell_type": "code",
   "execution_count": 526,
   "id": "d0e35e16-3b7b-4f0d-b0e9-a0b4bb64e596",
   "metadata": {},
   "outputs": [],
   "source": [
    "grid_log_model = GridSearchCV(log_model, param_grid=param_grid, verbose=2)"
   ]
  },
  {
   "cell_type": "code",
   "execution_count": 528,
   "id": "088d568f-7f1f-49f8-b00e-fc5e029d5fe8",
   "metadata": {},
   "outputs": [],
   "source": [
    "scaler = StandardScaler()"
   ]
  },
  {
   "cell_type": "code",
   "execution_count": 530,
   "id": "60e00bcb-2e0b-4733-bd9a-0472042e5b10",
   "metadata": {},
   "outputs": [],
   "source": [
    "scaled_X_train = scaler.fit_transform(X_train)\n",
    "scaled_X_test = scaler.transform(X_test)"
   ]
  },
  {
   "cell_type": "code",
   "execution_count": 532,
   "id": "e7f5982c-a880-4403-8848-7183384dfc29",
   "metadata": {},
   "outputs": [
    {
     "name": "stdout",
     "output_type": "stream",
     "text": [
      "Fitting 5 folds for each of 16 candidates, totalling 80 fits\n",
      "[CV] END ..................................C=1.0, penalty=l1; total time=   0.0s\n",
      "[CV] END ..................................C=1.0, penalty=l1; total time=   0.0s\n",
      "[CV] END ..................................C=1.0, penalty=l1; total time=   0.0s\n",
      "[CV] END ..................................C=1.0, penalty=l1; total time=   0.0s\n",
      "[CV] END ..................................C=1.0, penalty=l1; total time=   0.0s\n",
      "[CV] END ..................................C=1.0, penalty=l2; total time=   0.7s\n",
      "[CV] END ..................................C=1.0, penalty=l2; total time=   0.6s\n",
      "[CV] END ..................................C=1.0, penalty=l2; total time=   0.6s\n",
      "[CV] END ..................................C=1.0, penalty=l2; total time=   0.5s\n",
      "[CV] END ..................................C=1.0, penalty=l2; total time=   0.5s\n",
      "[CV] END ...................C=2.6826957952797255, penalty=l1; total time=   0.0s\n",
      "[CV] END ...................C=2.6826957952797255, penalty=l1; total time=   0.0s\n",
      "[CV] END ...................C=2.6826957952797255, penalty=l1; total time=   0.0s\n",
      "[CV] END ...................C=2.6826957952797255, penalty=l1; total time=   0.0s\n",
      "[CV] END ...................C=2.6826957952797255, penalty=l1; total time=   0.0s\n",
      "[CV] END ...................C=2.6826957952797255, penalty=l2; total time=   0.7s\n",
      "[CV] END ...................C=2.6826957952797255, penalty=l2; total time=   0.6s\n",
      "[CV] END ...................C=2.6826957952797255, penalty=l2; total time=   0.7s\n",
      "[CV] END ...................C=2.6826957952797255, penalty=l2; total time=   0.6s\n",
      "[CV] END ...................C=2.6826957952797255, penalty=l2; total time=   0.5s\n",
      "[CV] END ....................C=7.196856730011519, penalty=l1; total time=   0.0s\n",
      "[CV] END ....................C=7.196856730011519, penalty=l1; total time=   0.0s\n",
      "[CV] END ....................C=7.196856730011519, penalty=l1; total time=   0.0s\n",
      "[CV] END ....................C=7.196856730011519, penalty=l1; total time=   0.0s\n",
      "[CV] END ....................C=7.196856730011519, penalty=l1; total time=   0.0s\n",
      "[CV] END ....................C=7.196856730011519, penalty=l2; total time=   0.6s\n",
      "[CV] END ....................C=7.196856730011519, penalty=l2; total time=   0.6s\n",
      "[CV] END ....................C=7.196856730011519, penalty=l2; total time=   0.7s\n",
      "[CV] END ....................C=7.196856730011519, penalty=l2; total time=   0.6s\n",
      "[CV] END ....................C=7.196856730011519, penalty=l2; total time=   0.5s\n",
      "[CV] END ...................C=19.306977288832496, penalty=l1; total time=   0.0s\n",
      "[CV] END ...................C=19.306977288832496, penalty=l1; total time=   0.0s\n",
      "[CV] END ...................C=19.306977288832496, penalty=l1; total time=   0.0s\n",
      "[CV] END ...................C=19.306977288832496, penalty=l1; total time=   0.0s\n",
      "[CV] END ...................C=19.306977288832496, penalty=l1; total time=   0.0s\n",
      "[CV] END ...................C=19.306977288832496, penalty=l2; total time=   0.6s\n",
      "[CV] END ...................C=19.306977288832496, penalty=l2; total time=   0.6s\n",
      "[CV] END ...................C=19.306977288832496, penalty=l2; total time=   0.7s\n",
      "[CV] END ...................C=19.306977288832496, penalty=l2; total time=   0.6s\n",
      "[CV] END ...................C=19.306977288832496, penalty=l2; total time=   0.5s\n",
      "[CV] END .....................C=51.7947467923121, penalty=l1; total time=   0.0s\n",
      "[CV] END .....................C=51.7947467923121, penalty=l1; total time=   0.0s\n",
      "[CV] END .....................C=51.7947467923121, penalty=l1; total time=   0.0s\n",
      "[CV] END .....................C=51.7947467923121, penalty=l1; total time=   0.0s\n",
      "[CV] END .....................C=51.7947467923121, penalty=l1; total time=   0.0s\n",
      "[CV] END .....................C=51.7947467923121, penalty=l2; total time=   0.7s\n",
      "[CV] END .....................C=51.7947467923121, penalty=l2; total time=   0.6s\n",
      "[CV] END .....................C=51.7947467923121, penalty=l2; total time=   0.7s\n",
      "[CV] END .....................C=51.7947467923121, penalty=l2; total time=   0.6s\n",
      "[CV] END .....................C=51.7947467923121, penalty=l2; total time=   0.5s\n",
      "[CV] END ...................C=138.94954943731375, penalty=l1; total time=   0.0s\n",
      "[CV] END ...................C=138.94954943731375, penalty=l1; total time=   0.0s\n",
      "[CV] END ...................C=138.94954943731375, penalty=l1; total time=   0.0s\n",
      "[CV] END ...................C=138.94954943731375, penalty=l1; total time=   0.0s\n",
      "[CV] END ...................C=138.94954943731375, penalty=l1; total time=   0.0s\n",
      "[CV] END ...................C=138.94954943731375, penalty=l2; total time=   0.7s\n",
      "[CV] END ...................C=138.94954943731375, penalty=l2; total time=   0.6s\n",
      "[CV] END ...................C=138.94954943731375, penalty=l2; total time=   0.6s\n",
      "[CV] END ...................C=138.94954943731375, penalty=l2; total time=   0.5s\n",
      "[CV] END ...................C=138.94954943731375, penalty=l2; total time=   0.6s\n",
      "[CV] END ....................C=372.7593720314938, penalty=l1; total time=   0.0s\n",
      "[CV] END ....................C=372.7593720314938, penalty=l1; total time=   0.0s\n",
      "[CV] END ....................C=372.7593720314938, penalty=l1; total time=   0.0s\n",
      "[CV] END ....................C=372.7593720314938, penalty=l1; total time=   0.0s\n",
      "[CV] END ....................C=372.7593720314938, penalty=l1; total time=   0.0s\n",
      "[CV] END ....................C=372.7593720314938, penalty=l2; total time=   0.6s\n",
      "[CV] END ....................C=372.7593720314938, penalty=l2; total time=   0.6s\n",
      "[CV] END ....................C=372.7593720314938, penalty=l2; total time=   0.7s\n",
      "[CV] END ....................C=372.7593720314938, penalty=l2; total time=   0.6s\n",
      "[CV] END ....................C=372.7593720314938, penalty=l2; total time=   0.5s\n",
      "[CV] END ...............................C=1000.0, penalty=l1; total time=   0.0s\n",
      "[CV] END ...............................C=1000.0, penalty=l1; total time=   0.0s\n",
      "[CV] END ...............................C=1000.0, penalty=l1; total time=   0.0s\n",
      "[CV] END ...............................C=1000.0, penalty=l1; total time=   0.0s\n",
      "[CV] END ...............................C=1000.0, penalty=l1; total time=   0.0s\n",
      "[CV] END ...............................C=1000.0, penalty=l2; total time=   0.6s\n",
      "[CV] END ...............................C=1000.0, penalty=l2; total time=   0.6s\n",
      "[CV] END ...............................C=1000.0, penalty=l2; total time=   0.6s\n",
      "[CV] END ...............................C=1000.0, penalty=l2; total time=   0.6s\n",
      "[CV] END ...............................C=1000.0, penalty=l2; total time=   0.5s\n"
     ]
    },
    {
     "name": "stderr",
     "output_type": "stream",
     "text": [
      "C:\\Users\\honer\\anaconda3\\Lib\\site-packages\\sklearn\\model_selection\\_validation.py:547: FitFailedWarning: \n",
      "40 fits failed out of a total of 80.\n",
      "The score on these train-test partitions for these parameters will be set to nan.\n",
      "If these failures are not expected, you can try to debug them by setting error_score='raise'.\n",
      "\n",
      "Below are more details about the failures:\n",
      "--------------------------------------------------------------------------------\n",
      "40 fits failed with the following error:\n",
      "Traceback (most recent call last):\n",
      "  File \"C:\\Users\\honer\\anaconda3\\Lib\\site-packages\\sklearn\\model_selection\\_validation.py\", line 895, in _fit_and_score\n",
      "    estimator.fit(X_train, y_train, **fit_params)\n",
      "  File \"C:\\Users\\honer\\anaconda3\\Lib\\site-packages\\sklearn\\base.py\", line 1474, in wrapper\n",
      "    return fit_method(estimator, *args, **kwargs)\n",
      "           ^^^^^^^^^^^^^^^^^^^^^^^^^^^^^^^^^^^^^^\n",
      "  File \"C:\\Users\\honer\\anaconda3\\Lib\\site-packages\\sklearn\\linear_model\\_logistic.py\", line 1172, in fit\n",
      "    solver = _check_solver(self.solver, self.penalty, self.dual)\n",
      "             ^^^^^^^^^^^^^^^^^^^^^^^^^^^^^^^^^^^^^^^^^^^^^^^^^^^\n",
      "  File \"C:\\Users\\honer\\anaconda3\\Lib\\site-packages\\sklearn\\linear_model\\_logistic.py\", line 67, in _check_solver\n",
      "    raise ValueError(\n",
      "ValueError: Solver lbfgs supports only 'l2' or None penalties, got l1 penalty.\n",
      "\n",
      "  warnings.warn(some_fits_failed_message, FitFailedWarning)\n",
      "C:\\Users\\honer\\anaconda3\\Lib\\site-packages\\sklearn\\model_selection\\_search.py:1051: UserWarning: One or more of the test scores are non-finite: [       nan 0.95206476        nan 0.95206476        nan 0.95206476\n",
      "        nan 0.95206476        nan 0.95206476        nan 0.95206476\n",
      "        nan 0.95206476        nan 0.95206476]\n",
      "  warnings.warn(\n"
     ]
    },
    {
     "data": {
      "text/html": [
       "<style>#sk-container-id-3 {\n",
       "  /* Definition of color scheme common for light and dark mode */\n",
       "  --sklearn-color-text: black;\n",
       "  --sklearn-color-line: gray;\n",
       "  /* Definition of color scheme for unfitted estimators */\n",
       "  --sklearn-color-unfitted-level-0: #fff5e6;\n",
       "  --sklearn-color-unfitted-level-1: #f6e4d2;\n",
       "  --sklearn-color-unfitted-level-2: #ffe0b3;\n",
       "  --sklearn-color-unfitted-level-3: chocolate;\n",
       "  /* Definition of color scheme for fitted estimators */\n",
       "  --sklearn-color-fitted-level-0: #f0f8ff;\n",
       "  --sklearn-color-fitted-level-1: #d4ebff;\n",
       "  --sklearn-color-fitted-level-2: #b3dbfd;\n",
       "  --sklearn-color-fitted-level-3: cornflowerblue;\n",
       "\n",
       "  /* Specific color for light theme */\n",
       "  --sklearn-color-text-on-default-background: var(--sg-text-color, var(--theme-code-foreground, var(--jp-content-font-color1, black)));\n",
       "  --sklearn-color-background: var(--sg-background-color, var(--theme-background, var(--jp-layout-color0, white)));\n",
       "  --sklearn-color-border-box: var(--sg-text-color, var(--theme-code-foreground, var(--jp-content-font-color1, black)));\n",
       "  --sklearn-color-icon: #696969;\n",
       "\n",
       "  @media (prefers-color-scheme: dark) {\n",
       "    /* Redefinition of color scheme for dark theme */\n",
       "    --sklearn-color-text-on-default-background: var(--sg-text-color, var(--theme-code-foreground, var(--jp-content-font-color1, white)));\n",
       "    --sklearn-color-background: var(--sg-background-color, var(--theme-background, var(--jp-layout-color0, #111)));\n",
       "    --sklearn-color-border-box: var(--sg-text-color, var(--theme-code-foreground, var(--jp-content-font-color1, white)));\n",
       "    --sklearn-color-icon: #878787;\n",
       "  }\n",
       "}\n",
       "\n",
       "#sk-container-id-3 {\n",
       "  color: var(--sklearn-color-text);\n",
       "}\n",
       "\n",
       "#sk-container-id-3 pre {\n",
       "  padding: 0;\n",
       "}\n",
       "\n",
       "#sk-container-id-3 input.sk-hidden--visually {\n",
       "  border: 0;\n",
       "  clip: rect(1px 1px 1px 1px);\n",
       "  clip: rect(1px, 1px, 1px, 1px);\n",
       "  height: 1px;\n",
       "  margin: -1px;\n",
       "  overflow: hidden;\n",
       "  padding: 0;\n",
       "  position: absolute;\n",
       "  width: 1px;\n",
       "}\n",
       "\n",
       "#sk-container-id-3 div.sk-dashed-wrapped {\n",
       "  border: 1px dashed var(--sklearn-color-line);\n",
       "  margin: 0 0.4em 0.5em 0.4em;\n",
       "  box-sizing: border-box;\n",
       "  padding-bottom: 0.4em;\n",
       "  background-color: var(--sklearn-color-background);\n",
       "}\n",
       "\n",
       "#sk-container-id-3 div.sk-container {\n",
       "  /* jupyter's `normalize.less` sets `[hidden] { display: none; }`\n",
       "     but bootstrap.min.css set `[hidden] { display: none !important; }`\n",
       "     so we also need the `!important` here to be able to override the\n",
       "     default hidden behavior on the sphinx rendered scikit-learn.org.\n",
       "     See: https://github.com/scikit-learn/scikit-learn/issues/21755 */\n",
       "  display: inline-block !important;\n",
       "  position: relative;\n",
       "}\n",
       "\n",
       "#sk-container-id-3 div.sk-text-repr-fallback {\n",
       "  display: none;\n",
       "}\n",
       "\n",
       "div.sk-parallel-item,\n",
       "div.sk-serial,\n",
       "div.sk-item {\n",
       "  /* draw centered vertical line to link estimators */\n",
       "  background-image: linear-gradient(var(--sklearn-color-text-on-default-background), var(--sklearn-color-text-on-default-background));\n",
       "  background-size: 2px 100%;\n",
       "  background-repeat: no-repeat;\n",
       "  background-position: center center;\n",
       "}\n",
       "\n",
       "/* Parallel-specific style estimator block */\n",
       "\n",
       "#sk-container-id-3 div.sk-parallel-item::after {\n",
       "  content: \"\";\n",
       "  width: 100%;\n",
       "  border-bottom: 2px solid var(--sklearn-color-text-on-default-background);\n",
       "  flex-grow: 1;\n",
       "}\n",
       "\n",
       "#sk-container-id-3 div.sk-parallel {\n",
       "  display: flex;\n",
       "  align-items: stretch;\n",
       "  justify-content: center;\n",
       "  background-color: var(--sklearn-color-background);\n",
       "  position: relative;\n",
       "}\n",
       "\n",
       "#sk-container-id-3 div.sk-parallel-item {\n",
       "  display: flex;\n",
       "  flex-direction: column;\n",
       "}\n",
       "\n",
       "#sk-container-id-3 div.sk-parallel-item:first-child::after {\n",
       "  align-self: flex-end;\n",
       "  width: 50%;\n",
       "}\n",
       "\n",
       "#sk-container-id-3 div.sk-parallel-item:last-child::after {\n",
       "  align-self: flex-start;\n",
       "  width: 50%;\n",
       "}\n",
       "\n",
       "#sk-container-id-3 div.sk-parallel-item:only-child::after {\n",
       "  width: 0;\n",
       "}\n",
       "\n",
       "/* Serial-specific style estimator block */\n",
       "\n",
       "#sk-container-id-3 div.sk-serial {\n",
       "  display: flex;\n",
       "  flex-direction: column;\n",
       "  align-items: center;\n",
       "  background-color: var(--sklearn-color-background);\n",
       "  padding-right: 1em;\n",
       "  padding-left: 1em;\n",
       "}\n",
       "\n",
       "\n",
       "/* Toggleable style: style used for estimator/Pipeline/ColumnTransformer box that is\n",
       "clickable and can be expanded/collapsed.\n",
       "- Pipeline and ColumnTransformer use this feature and define the default style\n",
       "- Estimators will overwrite some part of the style using the `sk-estimator` class\n",
       "*/\n",
       "\n",
       "/* Pipeline and ColumnTransformer style (default) */\n",
       "\n",
       "#sk-container-id-3 div.sk-toggleable {\n",
       "  /* Default theme specific background. It is overwritten whether we have a\n",
       "  specific estimator or a Pipeline/ColumnTransformer */\n",
       "  background-color: var(--sklearn-color-background);\n",
       "}\n",
       "\n",
       "/* Toggleable label */\n",
       "#sk-container-id-3 label.sk-toggleable__label {\n",
       "  cursor: pointer;\n",
       "  display: block;\n",
       "  width: 100%;\n",
       "  margin-bottom: 0;\n",
       "  padding: 0.5em;\n",
       "  box-sizing: border-box;\n",
       "  text-align: center;\n",
       "}\n",
       "\n",
       "#sk-container-id-3 label.sk-toggleable__label-arrow:before {\n",
       "  /* Arrow on the left of the label */\n",
       "  content: \"▸\";\n",
       "  float: left;\n",
       "  margin-right: 0.25em;\n",
       "  color: var(--sklearn-color-icon);\n",
       "}\n",
       "\n",
       "#sk-container-id-3 label.sk-toggleable__label-arrow:hover:before {\n",
       "  color: var(--sklearn-color-text);\n",
       "}\n",
       "\n",
       "/* Toggleable content - dropdown */\n",
       "\n",
       "#sk-container-id-3 div.sk-toggleable__content {\n",
       "  max-height: 0;\n",
       "  max-width: 0;\n",
       "  overflow: hidden;\n",
       "  text-align: left;\n",
       "  /* unfitted */\n",
       "  background-color: var(--sklearn-color-unfitted-level-0);\n",
       "}\n",
       "\n",
       "#sk-container-id-3 div.sk-toggleable__content.fitted {\n",
       "  /* fitted */\n",
       "  background-color: var(--sklearn-color-fitted-level-0);\n",
       "}\n",
       "\n",
       "#sk-container-id-3 div.sk-toggleable__content pre {\n",
       "  margin: 0.2em;\n",
       "  border-radius: 0.25em;\n",
       "  color: var(--sklearn-color-text);\n",
       "  /* unfitted */\n",
       "  background-color: var(--sklearn-color-unfitted-level-0);\n",
       "}\n",
       "\n",
       "#sk-container-id-3 div.sk-toggleable__content.fitted pre {\n",
       "  /* unfitted */\n",
       "  background-color: var(--sklearn-color-fitted-level-0);\n",
       "}\n",
       "\n",
       "#sk-container-id-3 input.sk-toggleable__control:checked~div.sk-toggleable__content {\n",
       "  /* Expand drop-down */\n",
       "  max-height: 200px;\n",
       "  max-width: 100%;\n",
       "  overflow: auto;\n",
       "}\n",
       "\n",
       "#sk-container-id-3 input.sk-toggleable__control:checked~label.sk-toggleable__label-arrow:before {\n",
       "  content: \"▾\";\n",
       "}\n",
       "\n",
       "/* Pipeline/ColumnTransformer-specific style */\n",
       "\n",
       "#sk-container-id-3 div.sk-label input.sk-toggleable__control:checked~label.sk-toggleable__label {\n",
       "  color: var(--sklearn-color-text);\n",
       "  background-color: var(--sklearn-color-unfitted-level-2);\n",
       "}\n",
       "\n",
       "#sk-container-id-3 div.sk-label.fitted input.sk-toggleable__control:checked~label.sk-toggleable__label {\n",
       "  background-color: var(--sklearn-color-fitted-level-2);\n",
       "}\n",
       "\n",
       "/* Estimator-specific style */\n",
       "\n",
       "/* Colorize estimator box */\n",
       "#sk-container-id-3 div.sk-estimator input.sk-toggleable__control:checked~label.sk-toggleable__label {\n",
       "  /* unfitted */\n",
       "  background-color: var(--sklearn-color-unfitted-level-2);\n",
       "}\n",
       "\n",
       "#sk-container-id-3 div.sk-estimator.fitted input.sk-toggleable__control:checked~label.sk-toggleable__label {\n",
       "  /* fitted */\n",
       "  background-color: var(--sklearn-color-fitted-level-2);\n",
       "}\n",
       "\n",
       "#sk-container-id-3 div.sk-label label.sk-toggleable__label,\n",
       "#sk-container-id-3 div.sk-label label {\n",
       "  /* The background is the default theme color */\n",
       "  color: var(--sklearn-color-text-on-default-background);\n",
       "}\n",
       "\n",
       "/* On hover, darken the color of the background */\n",
       "#sk-container-id-3 div.sk-label:hover label.sk-toggleable__label {\n",
       "  color: var(--sklearn-color-text);\n",
       "  background-color: var(--sklearn-color-unfitted-level-2);\n",
       "}\n",
       "\n",
       "/* Label box, darken color on hover, fitted */\n",
       "#sk-container-id-3 div.sk-label.fitted:hover label.sk-toggleable__label.fitted {\n",
       "  color: var(--sklearn-color-text);\n",
       "  background-color: var(--sklearn-color-fitted-level-2);\n",
       "}\n",
       "\n",
       "/* Estimator label */\n",
       "\n",
       "#sk-container-id-3 div.sk-label label {\n",
       "  font-family: monospace;\n",
       "  font-weight: bold;\n",
       "  display: inline-block;\n",
       "  line-height: 1.2em;\n",
       "}\n",
       "\n",
       "#sk-container-id-3 div.sk-label-container {\n",
       "  text-align: center;\n",
       "}\n",
       "\n",
       "/* Estimator-specific */\n",
       "#sk-container-id-3 div.sk-estimator {\n",
       "  font-family: monospace;\n",
       "  border: 1px dotted var(--sklearn-color-border-box);\n",
       "  border-radius: 0.25em;\n",
       "  box-sizing: border-box;\n",
       "  margin-bottom: 0.5em;\n",
       "  /* unfitted */\n",
       "  background-color: var(--sklearn-color-unfitted-level-0);\n",
       "}\n",
       "\n",
       "#sk-container-id-3 div.sk-estimator.fitted {\n",
       "  /* fitted */\n",
       "  background-color: var(--sklearn-color-fitted-level-0);\n",
       "}\n",
       "\n",
       "/* on hover */\n",
       "#sk-container-id-3 div.sk-estimator:hover {\n",
       "  /* unfitted */\n",
       "  background-color: var(--sklearn-color-unfitted-level-2);\n",
       "}\n",
       "\n",
       "#sk-container-id-3 div.sk-estimator.fitted:hover {\n",
       "  /* fitted */\n",
       "  background-color: var(--sklearn-color-fitted-level-2);\n",
       "}\n",
       "\n",
       "/* Specification for estimator info (e.g. \"i\" and \"?\") */\n",
       "\n",
       "/* Common style for \"i\" and \"?\" */\n",
       "\n",
       ".sk-estimator-doc-link,\n",
       "a:link.sk-estimator-doc-link,\n",
       "a:visited.sk-estimator-doc-link {\n",
       "  float: right;\n",
       "  font-size: smaller;\n",
       "  line-height: 1em;\n",
       "  font-family: monospace;\n",
       "  background-color: var(--sklearn-color-background);\n",
       "  border-radius: 1em;\n",
       "  height: 1em;\n",
       "  width: 1em;\n",
       "  text-decoration: none !important;\n",
       "  margin-left: 1ex;\n",
       "  /* unfitted */\n",
       "  border: var(--sklearn-color-unfitted-level-1) 1pt solid;\n",
       "  color: var(--sklearn-color-unfitted-level-1);\n",
       "}\n",
       "\n",
       ".sk-estimator-doc-link.fitted,\n",
       "a:link.sk-estimator-doc-link.fitted,\n",
       "a:visited.sk-estimator-doc-link.fitted {\n",
       "  /* fitted */\n",
       "  border: var(--sklearn-color-fitted-level-1) 1pt solid;\n",
       "  color: var(--sklearn-color-fitted-level-1);\n",
       "}\n",
       "\n",
       "/* On hover */\n",
       "div.sk-estimator:hover .sk-estimator-doc-link:hover,\n",
       ".sk-estimator-doc-link:hover,\n",
       "div.sk-label-container:hover .sk-estimator-doc-link:hover,\n",
       ".sk-estimator-doc-link:hover {\n",
       "  /* unfitted */\n",
       "  background-color: var(--sklearn-color-unfitted-level-3);\n",
       "  color: var(--sklearn-color-background);\n",
       "  text-decoration: none;\n",
       "}\n",
       "\n",
       "div.sk-estimator.fitted:hover .sk-estimator-doc-link.fitted:hover,\n",
       ".sk-estimator-doc-link.fitted:hover,\n",
       "div.sk-label-container:hover .sk-estimator-doc-link.fitted:hover,\n",
       ".sk-estimator-doc-link.fitted:hover {\n",
       "  /* fitted */\n",
       "  background-color: var(--sklearn-color-fitted-level-3);\n",
       "  color: var(--sklearn-color-background);\n",
       "  text-decoration: none;\n",
       "}\n",
       "\n",
       "/* Span, style for the box shown on hovering the info icon */\n",
       ".sk-estimator-doc-link span {\n",
       "  display: none;\n",
       "  z-index: 9999;\n",
       "  position: relative;\n",
       "  font-weight: normal;\n",
       "  right: .2ex;\n",
       "  padding: .5ex;\n",
       "  margin: .5ex;\n",
       "  width: min-content;\n",
       "  min-width: 20ex;\n",
       "  max-width: 50ex;\n",
       "  color: var(--sklearn-color-text);\n",
       "  box-shadow: 2pt 2pt 4pt #999;\n",
       "  /* unfitted */\n",
       "  background: var(--sklearn-color-unfitted-level-0);\n",
       "  border: .5pt solid var(--sklearn-color-unfitted-level-3);\n",
       "}\n",
       "\n",
       ".sk-estimator-doc-link.fitted span {\n",
       "  /* fitted */\n",
       "  background: var(--sklearn-color-fitted-level-0);\n",
       "  border: var(--sklearn-color-fitted-level-3);\n",
       "}\n",
       "\n",
       ".sk-estimator-doc-link:hover span {\n",
       "  display: block;\n",
       "}\n",
       "\n",
       "/* \"?\"-specific style due to the `<a>` HTML tag */\n",
       "\n",
       "#sk-container-id-3 a.estimator_doc_link {\n",
       "  float: right;\n",
       "  font-size: 1rem;\n",
       "  line-height: 1em;\n",
       "  font-family: monospace;\n",
       "  background-color: var(--sklearn-color-background);\n",
       "  border-radius: 1rem;\n",
       "  height: 1rem;\n",
       "  width: 1rem;\n",
       "  text-decoration: none;\n",
       "  /* unfitted */\n",
       "  color: var(--sklearn-color-unfitted-level-1);\n",
       "  border: var(--sklearn-color-unfitted-level-1) 1pt solid;\n",
       "}\n",
       "\n",
       "#sk-container-id-3 a.estimator_doc_link.fitted {\n",
       "  /* fitted */\n",
       "  border: var(--sklearn-color-fitted-level-1) 1pt solid;\n",
       "  color: var(--sklearn-color-fitted-level-1);\n",
       "}\n",
       "\n",
       "/* On hover */\n",
       "#sk-container-id-3 a.estimator_doc_link:hover {\n",
       "  /* unfitted */\n",
       "  background-color: var(--sklearn-color-unfitted-level-3);\n",
       "  color: var(--sklearn-color-background);\n",
       "  text-decoration: none;\n",
       "}\n",
       "\n",
       "#sk-container-id-3 a.estimator_doc_link.fitted:hover {\n",
       "  /* fitted */\n",
       "  background-color: var(--sklearn-color-fitted-level-3);\n",
       "}\n",
       "</style><div id=\"sk-container-id-3\" class=\"sk-top-container\"><div class=\"sk-text-repr-fallback\"><pre>GridSearchCV(estimator=LogisticRegression(),\n",
       "             param_grid={&#x27;C&#x27;: array([   1.        ,    2.6826958 ,    7.19685673,   19.30697729,\n",
       "         51.79474679,  138.94954944,  372.75937203, 1000.        ]),\n",
       "                         &#x27;penalty&#x27;: [&#x27;l1&#x27;, &#x27;l2&#x27;]},\n",
       "             verbose=2)</pre><b>In a Jupyter environment, please rerun this cell to show the HTML representation or trust the notebook. <br />On GitHub, the HTML representation is unable to render, please try loading this page with nbviewer.org.</b></div><div class=\"sk-container\" hidden><div class=\"sk-item sk-dashed-wrapped\"><div class=\"sk-label-container\"><div class=\"sk-label fitted sk-toggleable\"><input class=\"sk-toggleable__control sk-hidden--visually\" id=\"sk-estimator-id-7\" type=\"checkbox\" ><label for=\"sk-estimator-id-7\" class=\"sk-toggleable__label fitted sk-toggleable__label-arrow fitted\">&nbsp;&nbsp;GridSearchCV<a class=\"sk-estimator-doc-link fitted\" rel=\"noreferrer\" target=\"_blank\" href=\"https://scikit-learn.org/1.4/modules/generated/sklearn.model_selection.GridSearchCV.html\">?<span>Documentation for GridSearchCV</span></a><span class=\"sk-estimator-doc-link fitted\">i<span>Fitted</span></span></label><div class=\"sk-toggleable__content fitted\"><pre>GridSearchCV(estimator=LogisticRegression(),\n",
       "             param_grid={&#x27;C&#x27;: array([   1.        ,    2.6826958 ,    7.19685673,   19.30697729,\n",
       "         51.79474679,  138.94954944,  372.75937203, 1000.        ]),\n",
       "                         &#x27;penalty&#x27;: [&#x27;l1&#x27;, &#x27;l2&#x27;]},\n",
       "             verbose=2)</pre></div> </div></div><div class=\"sk-parallel\"><div class=\"sk-parallel-item\"><div class=\"sk-item\"><div class=\"sk-label-container\"><div class=\"sk-label fitted sk-toggleable\"><input class=\"sk-toggleable__control sk-hidden--visually\" id=\"sk-estimator-id-8\" type=\"checkbox\" ><label for=\"sk-estimator-id-8\" class=\"sk-toggleable__label fitted sk-toggleable__label-arrow fitted\">estimator: LogisticRegression</label><div class=\"sk-toggleable__content fitted\"><pre>LogisticRegression()</pre></div> </div></div><div class=\"sk-serial\"><div class=\"sk-item\"><div class=\"sk-estimator fitted sk-toggleable\"><input class=\"sk-toggleable__control sk-hidden--visually\" id=\"sk-estimator-id-9\" type=\"checkbox\" ><label for=\"sk-estimator-id-9\" class=\"sk-toggleable__label fitted sk-toggleable__label-arrow fitted\">&nbsp;LogisticRegression<a class=\"sk-estimator-doc-link fitted\" rel=\"noreferrer\" target=\"_blank\" href=\"https://scikit-learn.org/1.4/modules/generated/sklearn.linear_model.LogisticRegression.html\">?<span>Documentation for LogisticRegression</span></a></label><div class=\"sk-toggleable__content fitted\"><pre>LogisticRegression()</pre></div> </div></div></div></div></div></div></div></div></div>"
      ],
      "text/plain": [
       "GridSearchCV(estimator=LogisticRegression(),\n",
       "             param_grid={'C': array([   1.        ,    2.6826958 ,    7.19685673,   19.30697729,\n",
       "         51.79474679,  138.94954944,  372.75937203, 1000.        ]),\n",
       "                         'penalty': ['l1', 'l2']},\n",
       "             verbose=2)"
      ]
     },
     "execution_count": 532,
     "metadata": {},
     "output_type": "execute_result"
    }
   ],
   "source": [
    "grid_log_model.fit(scaled_X_train,y_train)"
   ]
  },
  {
   "cell_type": "code",
   "execution_count": 534,
   "id": "50409ce1-180a-4560-a67d-fff0ca556a68",
   "metadata": {},
   "outputs": [
    {
     "data": {
      "text/plain": [
       "{'C': 1.0, 'penalty': 'l2'}"
      ]
     },
     "execution_count": 534,
     "metadata": {},
     "output_type": "execute_result"
    }
   ],
   "source": [
    "grid_log_model.best_params_"
   ]
  },
  {
   "cell_type": "code",
   "execution_count": 536,
   "id": "6c4d95be-2076-4130-bce2-ba44ba49bfb3",
   "metadata": {},
   "outputs": [],
   "source": [
    "y_pred = grid_log_model.predict(scaled_X_test)"
   ]
  },
  {
   "cell_type": "code",
   "execution_count": 538,
   "id": "cc31e5f6-35d9-4b1a-9884-f94bcb10659a",
   "metadata": {},
   "outputs": [
    {
     "data": {
      "text/plain": [
       "array([0, 0, 0, ..., 0, 0, 0], dtype=int64)"
      ]
     },
     "execution_count": 538,
     "metadata": {},
     "output_type": "execute_result"
    }
   ],
   "source": [
    "y_pred"
   ]
  },
  {
   "cell_type": "code",
   "execution_count": 540,
   "id": "5c65ab92-277f-49f9-8f95-c4770885708d",
   "metadata": {},
   "outputs": [
    {
     "data": {
      "text/plain": [
       "0.9887634827783175"
      ]
     },
     "execution_count": 540,
     "metadata": {},
     "output_type": "execute_result"
    }
   ],
   "source": [
    "accuracy_score(y_test,y_pred)"
   ]
  },
  {
   "cell_type": "code",
   "execution_count": 542,
   "id": "f222b5ed-7680-411b-abce-6de3869e577e",
   "metadata": {},
   "outputs": [
    {
     "data": {
      "text/plain": [
       "array([[237005,    392],\n",
       "       [  2303,    143]], dtype=int64)"
      ]
     },
     "execution_count": 542,
     "metadata": {},
     "output_type": "execute_result"
    }
   ],
   "source": [
    "confusion_matrix(y_test,y_pred)"
   ]
  },
  {
   "cell_type": "code",
   "execution_count": 544,
   "id": "1cbee373-8a8b-4a78-8e45-af7d36207704",
   "metadata": {},
   "outputs": [
    {
     "name": "stdout",
     "output_type": "stream",
     "text": [
      "              precision    recall  f1-score   support\n",
      "\n",
      "           0       0.99      1.00      0.99    237397\n",
      "           1       0.27      0.06      0.10      2446\n",
      "\n",
      "    accuracy                           0.99    239843\n",
      "   macro avg       0.63      0.53      0.55    239843\n",
      "weighted avg       0.98      0.99      0.99    239843\n",
      "\n"
     ]
    }
   ],
   "source": [
    "print(classification_report(y_test,y_pred))"
   ]
  },
  {
   "cell_type": "code",
   "execution_count": 546,
   "id": "a0af1627-ec66-4ba8-a847-6a50fa5b06e0",
   "metadata": {},
   "outputs": [
    {
     "data": {
      "text/plain": [
       "7427"
      ]
     },
     "execution_count": 546,
     "metadata": {},
     "output_type": "execute_result"
    }
   ],
   "source": [
    "y_train.sum()"
   ]
  },
  {
   "cell_type": "code",
   "execution_count": 548,
   "id": "bc569b5c-830c-44fd-ae76-e3f06b1afacf",
   "metadata": {},
   "outputs": [
    {
     "data": {
      "text/plain": [
       "149848"
      ]
     },
     "execution_count": 548,
     "metadata": {},
     "output_type": "execute_result"
    }
   ],
   "source": [
    "len(y_train)"
   ]
  },
  {
   "cell_type": "code",
   "execution_count": 550,
   "id": "016f0606-a83c-4f7b-94c7-9a39179a3004",
   "metadata": {},
   "outputs": [
    {
     "data": {
      "text/plain": [
       "535"
      ]
     },
     "execution_count": 550,
     "metadata": {},
     "output_type": "execute_result"
    }
   ],
   "source": [
    "y_pred.sum()"
   ]
  },
  {
   "cell_type": "code",
   "execution_count": 560,
   "id": "60ce8b82-3a4c-48f7-a061-6ca6db0a0316",
   "metadata": {},
   "outputs": [],
   "source": [
    "knn_model = KNeighborsClassifier()\n",
    "grid_knn_model = GridSearchCV(knn_model, verbose=2, param_grid={\"n_neighbors\": [2, 3, 5, 8, 11]})"
   ]
  },
  {
   "cell_type": "code",
   "execution_count": 562,
   "id": "bac3c079-1742-4d5b-94a4-8ff2221b637c",
   "metadata": {},
   "outputs": [
    {
     "name": "stdout",
     "output_type": "stream",
     "text": [
      "Fitting 5 folds for each of 5 candidates, totalling 25 fits\n",
      "[CV] END ......................................n_neighbors=2; total time=   6.8s\n",
      "[CV] END ......................................n_neighbors=2; total time=   6.2s\n",
      "[CV] END ......................................n_neighbors=2; total time=   6.2s\n",
      "[CV] END ......................................n_neighbors=2; total time=   6.2s\n",
      "[CV] END ......................................n_neighbors=2; total time=   6.3s\n",
      "[CV] END ......................................n_neighbors=3; total time=   6.8s\n",
      "[CV] END ......................................n_neighbors=3; total time=   6.7s\n",
      "[CV] END ......................................n_neighbors=3; total time=   6.5s\n",
      "[CV] END ......................................n_neighbors=3; total time=   6.3s\n",
      "[CV] END ......................................n_neighbors=3; total time=   6.0s\n",
      "[CV] END ......................................n_neighbors=5; total time=   6.2s\n",
      "[CV] END ......................................n_neighbors=5; total time=   6.0s\n",
      "[CV] END ......................................n_neighbors=5; total time=   6.0s\n",
      "[CV] END ......................................n_neighbors=5; total time=   6.1s\n",
      "[CV] END ......................................n_neighbors=5; total time=   5.9s\n",
      "[CV] END ......................................n_neighbors=8; total time=   6.2s\n",
      "[CV] END ......................................n_neighbors=8; total time=   6.2s\n",
      "[CV] END ......................................n_neighbors=8; total time=   6.2s\n",
      "[CV] END ......................................n_neighbors=8; total time=   6.2s\n",
      "[CV] END ......................................n_neighbors=8; total time=   6.2s\n",
      "[CV] END .....................................n_neighbors=11; total time=   6.4s\n",
      "[CV] END .....................................n_neighbors=11; total time=   6.3s\n",
      "[CV] END .....................................n_neighbors=11; total time=   6.3s\n",
      "[CV] END .....................................n_neighbors=11; total time=   6.3s\n",
      "[CV] END .....................................n_neighbors=11; total time=   6.2s\n"
     ]
    },
    {
     "data": {
      "text/html": [
       "<style>#sk-container-id-4 {\n",
       "  /* Definition of color scheme common for light and dark mode */\n",
       "  --sklearn-color-text: black;\n",
       "  --sklearn-color-line: gray;\n",
       "  /* Definition of color scheme for unfitted estimators */\n",
       "  --sklearn-color-unfitted-level-0: #fff5e6;\n",
       "  --sklearn-color-unfitted-level-1: #f6e4d2;\n",
       "  --sklearn-color-unfitted-level-2: #ffe0b3;\n",
       "  --sklearn-color-unfitted-level-3: chocolate;\n",
       "  /* Definition of color scheme for fitted estimators */\n",
       "  --sklearn-color-fitted-level-0: #f0f8ff;\n",
       "  --sklearn-color-fitted-level-1: #d4ebff;\n",
       "  --sklearn-color-fitted-level-2: #b3dbfd;\n",
       "  --sklearn-color-fitted-level-3: cornflowerblue;\n",
       "\n",
       "  /* Specific color for light theme */\n",
       "  --sklearn-color-text-on-default-background: var(--sg-text-color, var(--theme-code-foreground, var(--jp-content-font-color1, black)));\n",
       "  --sklearn-color-background: var(--sg-background-color, var(--theme-background, var(--jp-layout-color0, white)));\n",
       "  --sklearn-color-border-box: var(--sg-text-color, var(--theme-code-foreground, var(--jp-content-font-color1, black)));\n",
       "  --sklearn-color-icon: #696969;\n",
       "\n",
       "  @media (prefers-color-scheme: dark) {\n",
       "    /* Redefinition of color scheme for dark theme */\n",
       "    --sklearn-color-text-on-default-background: var(--sg-text-color, var(--theme-code-foreground, var(--jp-content-font-color1, white)));\n",
       "    --sklearn-color-background: var(--sg-background-color, var(--theme-background, var(--jp-layout-color0, #111)));\n",
       "    --sklearn-color-border-box: var(--sg-text-color, var(--theme-code-foreground, var(--jp-content-font-color1, white)));\n",
       "    --sklearn-color-icon: #878787;\n",
       "  }\n",
       "}\n",
       "\n",
       "#sk-container-id-4 {\n",
       "  color: var(--sklearn-color-text);\n",
       "}\n",
       "\n",
       "#sk-container-id-4 pre {\n",
       "  padding: 0;\n",
       "}\n",
       "\n",
       "#sk-container-id-4 input.sk-hidden--visually {\n",
       "  border: 0;\n",
       "  clip: rect(1px 1px 1px 1px);\n",
       "  clip: rect(1px, 1px, 1px, 1px);\n",
       "  height: 1px;\n",
       "  margin: -1px;\n",
       "  overflow: hidden;\n",
       "  padding: 0;\n",
       "  position: absolute;\n",
       "  width: 1px;\n",
       "}\n",
       "\n",
       "#sk-container-id-4 div.sk-dashed-wrapped {\n",
       "  border: 1px dashed var(--sklearn-color-line);\n",
       "  margin: 0 0.4em 0.5em 0.4em;\n",
       "  box-sizing: border-box;\n",
       "  padding-bottom: 0.4em;\n",
       "  background-color: var(--sklearn-color-background);\n",
       "}\n",
       "\n",
       "#sk-container-id-4 div.sk-container {\n",
       "  /* jupyter's `normalize.less` sets `[hidden] { display: none; }`\n",
       "     but bootstrap.min.css set `[hidden] { display: none !important; }`\n",
       "     so we also need the `!important` here to be able to override the\n",
       "     default hidden behavior on the sphinx rendered scikit-learn.org.\n",
       "     See: https://github.com/scikit-learn/scikit-learn/issues/21755 */\n",
       "  display: inline-block !important;\n",
       "  position: relative;\n",
       "}\n",
       "\n",
       "#sk-container-id-4 div.sk-text-repr-fallback {\n",
       "  display: none;\n",
       "}\n",
       "\n",
       "div.sk-parallel-item,\n",
       "div.sk-serial,\n",
       "div.sk-item {\n",
       "  /* draw centered vertical line to link estimators */\n",
       "  background-image: linear-gradient(var(--sklearn-color-text-on-default-background), var(--sklearn-color-text-on-default-background));\n",
       "  background-size: 2px 100%;\n",
       "  background-repeat: no-repeat;\n",
       "  background-position: center center;\n",
       "}\n",
       "\n",
       "/* Parallel-specific style estimator block */\n",
       "\n",
       "#sk-container-id-4 div.sk-parallel-item::after {\n",
       "  content: \"\";\n",
       "  width: 100%;\n",
       "  border-bottom: 2px solid var(--sklearn-color-text-on-default-background);\n",
       "  flex-grow: 1;\n",
       "}\n",
       "\n",
       "#sk-container-id-4 div.sk-parallel {\n",
       "  display: flex;\n",
       "  align-items: stretch;\n",
       "  justify-content: center;\n",
       "  background-color: var(--sklearn-color-background);\n",
       "  position: relative;\n",
       "}\n",
       "\n",
       "#sk-container-id-4 div.sk-parallel-item {\n",
       "  display: flex;\n",
       "  flex-direction: column;\n",
       "}\n",
       "\n",
       "#sk-container-id-4 div.sk-parallel-item:first-child::after {\n",
       "  align-self: flex-end;\n",
       "  width: 50%;\n",
       "}\n",
       "\n",
       "#sk-container-id-4 div.sk-parallel-item:last-child::after {\n",
       "  align-self: flex-start;\n",
       "  width: 50%;\n",
       "}\n",
       "\n",
       "#sk-container-id-4 div.sk-parallel-item:only-child::after {\n",
       "  width: 0;\n",
       "}\n",
       "\n",
       "/* Serial-specific style estimator block */\n",
       "\n",
       "#sk-container-id-4 div.sk-serial {\n",
       "  display: flex;\n",
       "  flex-direction: column;\n",
       "  align-items: center;\n",
       "  background-color: var(--sklearn-color-background);\n",
       "  padding-right: 1em;\n",
       "  padding-left: 1em;\n",
       "}\n",
       "\n",
       "\n",
       "/* Toggleable style: style used for estimator/Pipeline/ColumnTransformer box that is\n",
       "clickable and can be expanded/collapsed.\n",
       "- Pipeline and ColumnTransformer use this feature and define the default style\n",
       "- Estimators will overwrite some part of the style using the `sk-estimator` class\n",
       "*/\n",
       "\n",
       "/* Pipeline and ColumnTransformer style (default) */\n",
       "\n",
       "#sk-container-id-4 div.sk-toggleable {\n",
       "  /* Default theme specific background. It is overwritten whether we have a\n",
       "  specific estimator or a Pipeline/ColumnTransformer */\n",
       "  background-color: var(--sklearn-color-background);\n",
       "}\n",
       "\n",
       "/* Toggleable label */\n",
       "#sk-container-id-4 label.sk-toggleable__label {\n",
       "  cursor: pointer;\n",
       "  display: block;\n",
       "  width: 100%;\n",
       "  margin-bottom: 0;\n",
       "  padding: 0.5em;\n",
       "  box-sizing: border-box;\n",
       "  text-align: center;\n",
       "}\n",
       "\n",
       "#sk-container-id-4 label.sk-toggleable__label-arrow:before {\n",
       "  /* Arrow on the left of the label */\n",
       "  content: \"▸\";\n",
       "  float: left;\n",
       "  margin-right: 0.25em;\n",
       "  color: var(--sklearn-color-icon);\n",
       "}\n",
       "\n",
       "#sk-container-id-4 label.sk-toggleable__label-arrow:hover:before {\n",
       "  color: var(--sklearn-color-text);\n",
       "}\n",
       "\n",
       "/* Toggleable content - dropdown */\n",
       "\n",
       "#sk-container-id-4 div.sk-toggleable__content {\n",
       "  max-height: 0;\n",
       "  max-width: 0;\n",
       "  overflow: hidden;\n",
       "  text-align: left;\n",
       "  /* unfitted */\n",
       "  background-color: var(--sklearn-color-unfitted-level-0);\n",
       "}\n",
       "\n",
       "#sk-container-id-4 div.sk-toggleable__content.fitted {\n",
       "  /* fitted */\n",
       "  background-color: var(--sklearn-color-fitted-level-0);\n",
       "}\n",
       "\n",
       "#sk-container-id-4 div.sk-toggleable__content pre {\n",
       "  margin: 0.2em;\n",
       "  border-radius: 0.25em;\n",
       "  color: var(--sklearn-color-text);\n",
       "  /* unfitted */\n",
       "  background-color: var(--sklearn-color-unfitted-level-0);\n",
       "}\n",
       "\n",
       "#sk-container-id-4 div.sk-toggleable__content.fitted pre {\n",
       "  /* unfitted */\n",
       "  background-color: var(--sklearn-color-fitted-level-0);\n",
       "}\n",
       "\n",
       "#sk-container-id-4 input.sk-toggleable__control:checked~div.sk-toggleable__content {\n",
       "  /* Expand drop-down */\n",
       "  max-height: 200px;\n",
       "  max-width: 100%;\n",
       "  overflow: auto;\n",
       "}\n",
       "\n",
       "#sk-container-id-4 input.sk-toggleable__control:checked~label.sk-toggleable__label-arrow:before {\n",
       "  content: \"▾\";\n",
       "}\n",
       "\n",
       "/* Pipeline/ColumnTransformer-specific style */\n",
       "\n",
       "#sk-container-id-4 div.sk-label input.sk-toggleable__control:checked~label.sk-toggleable__label {\n",
       "  color: var(--sklearn-color-text);\n",
       "  background-color: var(--sklearn-color-unfitted-level-2);\n",
       "}\n",
       "\n",
       "#sk-container-id-4 div.sk-label.fitted input.sk-toggleable__control:checked~label.sk-toggleable__label {\n",
       "  background-color: var(--sklearn-color-fitted-level-2);\n",
       "}\n",
       "\n",
       "/* Estimator-specific style */\n",
       "\n",
       "/* Colorize estimator box */\n",
       "#sk-container-id-4 div.sk-estimator input.sk-toggleable__control:checked~label.sk-toggleable__label {\n",
       "  /* unfitted */\n",
       "  background-color: var(--sklearn-color-unfitted-level-2);\n",
       "}\n",
       "\n",
       "#sk-container-id-4 div.sk-estimator.fitted input.sk-toggleable__control:checked~label.sk-toggleable__label {\n",
       "  /* fitted */\n",
       "  background-color: var(--sklearn-color-fitted-level-2);\n",
       "}\n",
       "\n",
       "#sk-container-id-4 div.sk-label label.sk-toggleable__label,\n",
       "#sk-container-id-4 div.sk-label label {\n",
       "  /* The background is the default theme color */\n",
       "  color: var(--sklearn-color-text-on-default-background);\n",
       "}\n",
       "\n",
       "/* On hover, darken the color of the background */\n",
       "#sk-container-id-4 div.sk-label:hover label.sk-toggleable__label {\n",
       "  color: var(--sklearn-color-text);\n",
       "  background-color: var(--sklearn-color-unfitted-level-2);\n",
       "}\n",
       "\n",
       "/* Label box, darken color on hover, fitted */\n",
       "#sk-container-id-4 div.sk-label.fitted:hover label.sk-toggleable__label.fitted {\n",
       "  color: var(--sklearn-color-text);\n",
       "  background-color: var(--sklearn-color-fitted-level-2);\n",
       "}\n",
       "\n",
       "/* Estimator label */\n",
       "\n",
       "#sk-container-id-4 div.sk-label label {\n",
       "  font-family: monospace;\n",
       "  font-weight: bold;\n",
       "  display: inline-block;\n",
       "  line-height: 1.2em;\n",
       "}\n",
       "\n",
       "#sk-container-id-4 div.sk-label-container {\n",
       "  text-align: center;\n",
       "}\n",
       "\n",
       "/* Estimator-specific */\n",
       "#sk-container-id-4 div.sk-estimator {\n",
       "  font-family: monospace;\n",
       "  border: 1px dotted var(--sklearn-color-border-box);\n",
       "  border-radius: 0.25em;\n",
       "  box-sizing: border-box;\n",
       "  margin-bottom: 0.5em;\n",
       "  /* unfitted */\n",
       "  background-color: var(--sklearn-color-unfitted-level-0);\n",
       "}\n",
       "\n",
       "#sk-container-id-4 div.sk-estimator.fitted {\n",
       "  /* fitted */\n",
       "  background-color: var(--sklearn-color-fitted-level-0);\n",
       "}\n",
       "\n",
       "/* on hover */\n",
       "#sk-container-id-4 div.sk-estimator:hover {\n",
       "  /* unfitted */\n",
       "  background-color: var(--sklearn-color-unfitted-level-2);\n",
       "}\n",
       "\n",
       "#sk-container-id-4 div.sk-estimator.fitted:hover {\n",
       "  /* fitted */\n",
       "  background-color: var(--sklearn-color-fitted-level-2);\n",
       "}\n",
       "\n",
       "/* Specification for estimator info (e.g. \"i\" and \"?\") */\n",
       "\n",
       "/* Common style for \"i\" and \"?\" */\n",
       "\n",
       ".sk-estimator-doc-link,\n",
       "a:link.sk-estimator-doc-link,\n",
       "a:visited.sk-estimator-doc-link {\n",
       "  float: right;\n",
       "  font-size: smaller;\n",
       "  line-height: 1em;\n",
       "  font-family: monospace;\n",
       "  background-color: var(--sklearn-color-background);\n",
       "  border-radius: 1em;\n",
       "  height: 1em;\n",
       "  width: 1em;\n",
       "  text-decoration: none !important;\n",
       "  margin-left: 1ex;\n",
       "  /* unfitted */\n",
       "  border: var(--sklearn-color-unfitted-level-1) 1pt solid;\n",
       "  color: var(--sklearn-color-unfitted-level-1);\n",
       "}\n",
       "\n",
       ".sk-estimator-doc-link.fitted,\n",
       "a:link.sk-estimator-doc-link.fitted,\n",
       "a:visited.sk-estimator-doc-link.fitted {\n",
       "  /* fitted */\n",
       "  border: var(--sklearn-color-fitted-level-1) 1pt solid;\n",
       "  color: var(--sklearn-color-fitted-level-1);\n",
       "}\n",
       "\n",
       "/* On hover */\n",
       "div.sk-estimator:hover .sk-estimator-doc-link:hover,\n",
       ".sk-estimator-doc-link:hover,\n",
       "div.sk-label-container:hover .sk-estimator-doc-link:hover,\n",
       ".sk-estimator-doc-link:hover {\n",
       "  /* unfitted */\n",
       "  background-color: var(--sklearn-color-unfitted-level-3);\n",
       "  color: var(--sklearn-color-background);\n",
       "  text-decoration: none;\n",
       "}\n",
       "\n",
       "div.sk-estimator.fitted:hover .sk-estimator-doc-link.fitted:hover,\n",
       ".sk-estimator-doc-link.fitted:hover,\n",
       "div.sk-label-container:hover .sk-estimator-doc-link.fitted:hover,\n",
       ".sk-estimator-doc-link.fitted:hover {\n",
       "  /* fitted */\n",
       "  background-color: var(--sklearn-color-fitted-level-3);\n",
       "  color: var(--sklearn-color-background);\n",
       "  text-decoration: none;\n",
       "}\n",
       "\n",
       "/* Span, style for the box shown on hovering the info icon */\n",
       ".sk-estimator-doc-link span {\n",
       "  display: none;\n",
       "  z-index: 9999;\n",
       "  position: relative;\n",
       "  font-weight: normal;\n",
       "  right: .2ex;\n",
       "  padding: .5ex;\n",
       "  margin: .5ex;\n",
       "  width: min-content;\n",
       "  min-width: 20ex;\n",
       "  max-width: 50ex;\n",
       "  color: var(--sklearn-color-text);\n",
       "  box-shadow: 2pt 2pt 4pt #999;\n",
       "  /* unfitted */\n",
       "  background: var(--sklearn-color-unfitted-level-0);\n",
       "  border: .5pt solid var(--sklearn-color-unfitted-level-3);\n",
       "}\n",
       "\n",
       ".sk-estimator-doc-link.fitted span {\n",
       "  /* fitted */\n",
       "  background: var(--sklearn-color-fitted-level-0);\n",
       "  border: var(--sklearn-color-fitted-level-3);\n",
       "}\n",
       "\n",
       ".sk-estimator-doc-link:hover span {\n",
       "  display: block;\n",
       "}\n",
       "\n",
       "/* \"?\"-specific style due to the `<a>` HTML tag */\n",
       "\n",
       "#sk-container-id-4 a.estimator_doc_link {\n",
       "  float: right;\n",
       "  font-size: 1rem;\n",
       "  line-height: 1em;\n",
       "  font-family: monospace;\n",
       "  background-color: var(--sklearn-color-background);\n",
       "  border-radius: 1rem;\n",
       "  height: 1rem;\n",
       "  width: 1rem;\n",
       "  text-decoration: none;\n",
       "  /* unfitted */\n",
       "  color: var(--sklearn-color-unfitted-level-1);\n",
       "  border: var(--sklearn-color-unfitted-level-1) 1pt solid;\n",
       "}\n",
       "\n",
       "#sk-container-id-4 a.estimator_doc_link.fitted {\n",
       "  /* fitted */\n",
       "  border: var(--sklearn-color-fitted-level-1) 1pt solid;\n",
       "  color: var(--sklearn-color-fitted-level-1);\n",
       "}\n",
       "\n",
       "/* On hover */\n",
       "#sk-container-id-4 a.estimator_doc_link:hover {\n",
       "  /* unfitted */\n",
       "  background-color: var(--sklearn-color-unfitted-level-3);\n",
       "  color: var(--sklearn-color-background);\n",
       "  text-decoration: none;\n",
       "}\n",
       "\n",
       "#sk-container-id-4 a.estimator_doc_link.fitted:hover {\n",
       "  /* fitted */\n",
       "  background-color: var(--sklearn-color-fitted-level-3);\n",
       "}\n",
       "</style><div id=\"sk-container-id-4\" class=\"sk-top-container\"><div class=\"sk-text-repr-fallback\"><pre>GridSearchCV(estimator=KNeighborsClassifier(),\n",
       "             param_grid={&#x27;n_neighbors&#x27;: [2, 3, 5, 8, 11]}, verbose=2)</pre><b>In a Jupyter environment, please rerun this cell to show the HTML representation or trust the notebook. <br />On GitHub, the HTML representation is unable to render, please try loading this page with nbviewer.org.</b></div><div class=\"sk-container\" hidden><div class=\"sk-item sk-dashed-wrapped\"><div class=\"sk-label-container\"><div class=\"sk-label fitted sk-toggleable\"><input class=\"sk-toggleable__control sk-hidden--visually\" id=\"sk-estimator-id-10\" type=\"checkbox\" ><label for=\"sk-estimator-id-10\" class=\"sk-toggleable__label fitted sk-toggleable__label-arrow fitted\">&nbsp;&nbsp;GridSearchCV<a class=\"sk-estimator-doc-link fitted\" rel=\"noreferrer\" target=\"_blank\" href=\"https://scikit-learn.org/1.4/modules/generated/sklearn.model_selection.GridSearchCV.html\">?<span>Documentation for GridSearchCV</span></a><span class=\"sk-estimator-doc-link fitted\">i<span>Fitted</span></span></label><div class=\"sk-toggleable__content fitted\"><pre>GridSearchCV(estimator=KNeighborsClassifier(),\n",
       "             param_grid={&#x27;n_neighbors&#x27;: [2, 3, 5, 8, 11]}, verbose=2)</pre></div> </div></div><div class=\"sk-parallel\"><div class=\"sk-parallel-item\"><div class=\"sk-item\"><div class=\"sk-label-container\"><div class=\"sk-label fitted sk-toggleable\"><input class=\"sk-toggleable__control sk-hidden--visually\" id=\"sk-estimator-id-11\" type=\"checkbox\" ><label for=\"sk-estimator-id-11\" class=\"sk-toggleable__label fitted sk-toggleable__label-arrow fitted\">estimator: KNeighborsClassifier</label><div class=\"sk-toggleable__content fitted\"><pre>KNeighborsClassifier()</pre></div> </div></div><div class=\"sk-serial\"><div class=\"sk-item\"><div class=\"sk-estimator fitted sk-toggleable\"><input class=\"sk-toggleable__control sk-hidden--visually\" id=\"sk-estimator-id-12\" type=\"checkbox\" ><label for=\"sk-estimator-id-12\" class=\"sk-toggleable__label fitted sk-toggleable__label-arrow fitted\">&nbsp;KNeighborsClassifier<a class=\"sk-estimator-doc-link fitted\" rel=\"noreferrer\" target=\"_blank\" href=\"https://scikit-learn.org/1.4/modules/generated/sklearn.neighbors.KNeighborsClassifier.html\">?<span>Documentation for KNeighborsClassifier</span></a></label><div class=\"sk-toggleable__content fitted\"><pre>KNeighborsClassifier()</pre></div> </div></div></div></div></div></div></div></div></div>"
      ],
      "text/plain": [
       "GridSearchCV(estimator=KNeighborsClassifier(),\n",
       "             param_grid={'n_neighbors': [2, 3, 5, 8, 11]}, verbose=2)"
      ]
     },
     "execution_count": 562,
     "metadata": {},
     "output_type": "execute_result"
    }
   ],
   "source": [
    "grid_knn_model.fit(scaled_X_train,y_train)"
   ]
  },
  {
   "cell_type": "code",
   "execution_count": 574,
   "id": "7ced7e79-2a80-411a-802d-e8f3b04aae00",
   "metadata": {},
   "outputs": [],
   "source": [
    "y_pred = grid_knn_model.predict(scaled_X_test)"
   ]
  },
  {
   "cell_type": "code",
   "execution_count": 575,
   "id": "ff1f0435-44e0-405b-9940-e11e55933b4c",
   "metadata": {},
   "outputs": [
    {
     "data": {
      "text/plain": [
       "array([[237103,    294],\n",
       "       [  2234,    212]], dtype=int64)"
      ]
     },
     "execution_count": 575,
     "metadata": {},
     "output_type": "execute_result"
    }
   ],
   "source": [
    "confusion_matrix(y_test,y_pred)"
   ]
  },
  {
   "cell_type": "code",
   "execution_count": 578,
   "id": "e90c5a06-3e61-4c2a-a13a-723c9c0603f5",
   "metadata": {},
   "outputs": [
    {
     "name": "stdout",
     "output_type": "stream",
     "text": [
      "              precision    recall  f1-score   support\n",
      "\n",
      "           0       0.99      1.00      0.99    237397\n",
      "           1       0.42      0.09      0.14      2446\n",
      "\n",
      "    accuracy                           0.99    239843\n",
      "   macro avg       0.70      0.54      0.57    239843\n",
      "weighted avg       0.98      0.99      0.99    239843\n",
      "\n"
     ]
    }
   ],
   "source": [
    "print(classification_report(y_test,y_pred))"
   ]
  },
  {
   "cell_type": "code",
   "execution_count": 598,
   "id": "0896b059-c6bb-40a2-b0d3-17a8087268b1",
   "metadata": {},
   "outputs": [],
   "source": [
    "svm = SVC()\n",
    "param_grid = {'C':[0.01,0.1,1],'kernel':['rbf','poly']}\n",
    "grid_svm_model = GridSearchCV(svm,param_grid, verbose=2)"
   ]
  },
  {
   "cell_type": "code",
   "execution_count": 600,
   "id": "65b690c3-09dd-4233-b7a2-ae940227841d",
   "metadata": {},
   "outputs": [
    {
     "name": "stdout",
     "output_type": "stream",
     "text": [
      "Fitting 5 folds for each of 6 candidates, totalling 30 fits\n",
      "[CV] END ..............................C=0.01, kernel=linear; total time= 8.1min\n"
     ]
    },
    {
     "ename": "KeyboardInterrupt",
     "evalue": "",
     "output_type": "error",
     "traceback": [
      "\u001b[1;31m---------------------------------------------------------------------------\u001b[0m",
      "\u001b[1;31mKeyboardInterrupt\u001b[0m                         Traceback (most recent call last)",
      "Cell \u001b[1;32mIn[600], line 1\u001b[0m\n\u001b[1;32m----> 1\u001b[0m grid_svm_model\u001b[38;5;241m.\u001b[39mfit(scaled_X_train, y_train)\n",
      "File \u001b[1;32m~\\anaconda3\\Lib\\site-packages\\sklearn\\base.py:1474\u001b[0m, in \u001b[0;36m_fit_context.<locals>.decorator.<locals>.wrapper\u001b[1;34m(estimator, *args, **kwargs)\u001b[0m\n\u001b[0;32m   1467\u001b[0m     estimator\u001b[38;5;241m.\u001b[39m_validate_params()\n\u001b[0;32m   1469\u001b[0m \u001b[38;5;28;01mwith\u001b[39;00m config_context(\n\u001b[0;32m   1470\u001b[0m     skip_parameter_validation\u001b[38;5;241m=\u001b[39m(\n\u001b[0;32m   1471\u001b[0m         prefer_skip_nested_validation \u001b[38;5;129;01mor\u001b[39;00m global_skip_validation\n\u001b[0;32m   1472\u001b[0m     )\n\u001b[0;32m   1473\u001b[0m ):\n\u001b[1;32m-> 1474\u001b[0m     \u001b[38;5;28;01mreturn\u001b[39;00m fit_method(estimator, \u001b[38;5;241m*\u001b[39margs, \u001b[38;5;241m*\u001b[39m\u001b[38;5;241m*\u001b[39mkwargs)\n",
      "File \u001b[1;32m~\\anaconda3\\Lib\\site-packages\\sklearn\\model_selection\\_search.py:970\u001b[0m, in \u001b[0;36mBaseSearchCV.fit\u001b[1;34m(self, X, y, **params)\u001b[0m\n\u001b[0;32m    964\u001b[0m     results \u001b[38;5;241m=\u001b[39m \u001b[38;5;28mself\u001b[39m\u001b[38;5;241m.\u001b[39m_format_results(\n\u001b[0;32m    965\u001b[0m         all_candidate_params, n_splits, all_out, all_more_results\n\u001b[0;32m    966\u001b[0m     )\n\u001b[0;32m    968\u001b[0m     \u001b[38;5;28;01mreturn\u001b[39;00m results\n\u001b[1;32m--> 970\u001b[0m \u001b[38;5;28mself\u001b[39m\u001b[38;5;241m.\u001b[39m_run_search(evaluate_candidates)\n\u001b[0;32m    972\u001b[0m \u001b[38;5;66;03m# multimetric is determined here because in the case of a callable\u001b[39;00m\n\u001b[0;32m    973\u001b[0m \u001b[38;5;66;03m# self.scoring the return type is only known after calling\u001b[39;00m\n\u001b[0;32m    974\u001b[0m first_test_score \u001b[38;5;241m=\u001b[39m all_out[\u001b[38;5;241m0\u001b[39m][\u001b[38;5;124m\"\u001b[39m\u001b[38;5;124mtest_scores\u001b[39m\u001b[38;5;124m\"\u001b[39m]\n",
      "File \u001b[1;32m~\\anaconda3\\Lib\\site-packages\\sklearn\\model_selection\\_search.py:1527\u001b[0m, in \u001b[0;36mGridSearchCV._run_search\u001b[1;34m(self, evaluate_candidates)\u001b[0m\n\u001b[0;32m   1525\u001b[0m \u001b[38;5;28;01mdef\u001b[39;00m \u001b[38;5;21m_run_search\u001b[39m(\u001b[38;5;28mself\u001b[39m, evaluate_candidates):\n\u001b[0;32m   1526\u001b[0m \u001b[38;5;250m    \u001b[39m\u001b[38;5;124;03m\"\"\"Search all candidates in param_grid\"\"\"\u001b[39;00m\n\u001b[1;32m-> 1527\u001b[0m     evaluate_candidates(ParameterGrid(\u001b[38;5;28mself\u001b[39m\u001b[38;5;241m.\u001b[39mparam_grid))\n",
      "File \u001b[1;32m~\\anaconda3\\Lib\\site-packages\\sklearn\\model_selection\\_search.py:916\u001b[0m, in \u001b[0;36mBaseSearchCV.fit.<locals>.evaluate_candidates\u001b[1;34m(candidate_params, cv, more_results)\u001b[0m\n\u001b[0;32m    908\u001b[0m \u001b[38;5;28;01mif\u001b[39;00m \u001b[38;5;28mself\u001b[39m\u001b[38;5;241m.\u001b[39mverbose \u001b[38;5;241m>\u001b[39m \u001b[38;5;241m0\u001b[39m:\n\u001b[0;32m    909\u001b[0m     \u001b[38;5;28mprint\u001b[39m(\n\u001b[0;32m    910\u001b[0m         \u001b[38;5;124m\"\u001b[39m\u001b[38;5;124mFitting \u001b[39m\u001b[38;5;132;01m{0}\u001b[39;00m\u001b[38;5;124m folds for each of \u001b[39m\u001b[38;5;132;01m{1}\u001b[39;00m\u001b[38;5;124m candidates,\u001b[39m\u001b[38;5;124m\"\u001b[39m\n\u001b[0;32m    911\u001b[0m         \u001b[38;5;124m\"\u001b[39m\u001b[38;5;124m totalling \u001b[39m\u001b[38;5;132;01m{2}\u001b[39;00m\u001b[38;5;124m fits\u001b[39m\u001b[38;5;124m\"\u001b[39m\u001b[38;5;241m.\u001b[39mformat(\n\u001b[0;32m    912\u001b[0m             n_splits, n_candidates, n_candidates \u001b[38;5;241m*\u001b[39m n_splits\n\u001b[0;32m    913\u001b[0m         )\n\u001b[0;32m    914\u001b[0m     )\n\u001b[1;32m--> 916\u001b[0m out \u001b[38;5;241m=\u001b[39m parallel(\n\u001b[0;32m    917\u001b[0m     delayed(_fit_and_score)(\n\u001b[0;32m    918\u001b[0m         clone(base_estimator),\n\u001b[0;32m    919\u001b[0m         X,\n\u001b[0;32m    920\u001b[0m         y,\n\u001b[0;32m    921\u001b[0m         train\u001b[38;5;241m=\u001b[39mtrain,\n\u001b[0;32m    922\u001b[0m         test\u001b[38;5;241m=\u001b[39mtest,\n\u001b[0;32m    923\u001b[0m         parameters\u001b[38;5;241m=\u001b[39mparameters,\n\u001b[0;32m    924\u001b[0m         split_progress\u001b[38;5;241m=\u001b[39m(split_idx, n_splits),\n\u001b[0;32m    925\u001b[0m         candidate_progress\u001b[38;5;241m=\u001b[39m(cand_idx, n_candidates),\n\u001b[0;32m    926\u001b[0m         \u001b[38;5;241m*\u001b[39m\u001b[38;5;241m*\u001b[39mfit_and_score_kwargs,\n\u001b[0;32m    927\u001b[0m     )\n\u001b[0;32m    928\u001b[0m     \u001b[38;5;28;01mfor\u001b[39;00m (cand_idx, parameters), (split_idx, (train, test)) \u001b[38;5;129;01min\u001b[39;00m product(\n\u001b[0;32m    929\u001b[0m         \u001b[38;5;28menumerate\u001b[39m(candidate_params),\n\u001b[0;32m    930\u001b[0m         \u001b[38;5;28menumerate\u001b[39m(cv\u001b[38;5;241m.\u001b[39msplit(X, y, \u001b[38;5;241m*\u001b[39m\u001b[38;5;241m*\u001b[39mrouted_params\u001b[38;5;241m.\u001b[39msplitter\u001b[38;5;241m.\u001b[39msplit)),\n\u001b[0;32m    931\u001b[0m     )\n\u001b[0;32m    932\u001b[0m )\n\u001b[0;32m    934\u001b[0m \u001b[38;5;28;01mif\u001b[39;00m \u001b[38;5;28mlen\u001b[39m(out) \u001b[38;5;241m<\u001b[39m \u001b[38;5;241m1\u001b[39m:\n\u001b[0;32m    935\u001b[0m     \u001b[38;5;28;01mraise\u001b[39;00m \u001b[38;5;167;01mValueError\u001b[39;00m(\n\u001b[0;32m    936\u001b[0m         \u001b[38;5;124m\"\u001b[39m\u001b[38;5;124mNo fits were performed. \u001b[39m\u001b[38;5;124m\"\u001b[39m\n\u001b[0;32m    937\u001b[0m         \u001b[38;5;124m\"\u001b[39m\u001b[38;5;124mWas the CV iterator empty? \u001b[39m\u001b[38;5;124m\"\u001b[39m\n\u001b[0;32m    938\u001b[0m         \u001b[38;5;124m\"\u001b[39m\u001b[38;5;124mWere there no candidates?\u001b[39m\u001b[38;5;124m\"\u001b[39m\n\u001b[0;32m    939\u001b[0m     )\n",
      "File \u001b[1;32m~\\anaconda3\\Lib\\site-packages\\sklearn\\utils\\parallel.py:67\u001b[0m, in \u001b[0;36mParallel.__call__\u001b[1;34m(self, iterable)\u001b[0m\n\u001b[0;32m     62\u001b[0m config \u001b[38;5;241m=\u001b[39m get_config()\n\u001b[0;32m     63\u001b[0m iterable_with_config \u001b[38;5;241m=\u001b[39m (\n\u001b[0;32m     64\u001b[0m     (_with_config(delayed_func, config), args, kwargs)\n\u001b[0;32m     65\u001b[0m     \u001b[38;5;28;01mfor\u001b[39;00m delayed_func, args, kwargs \u001b[38;5;129;01min\u001b[39;00m iterable\n\u001b[0;32m     66\u001b[0m )\n\u001b[1;32m---> 67\u001b[0m \u001b[38;5;28;01mreturn\u001b[39;00m \u001b[38;5;28msuper\u001b[39m()\u001b[38;5;241m.\u001b[39m\u001b[38;5;21m__call__\u001b[39m(iterable_with_config)\n",
      "File \u001b[1;32m~\\anaconda3\\Lib\\site-packages\\joblib\\parallel.py:1918\u001b[0m, in \u001b[0;36mParallel.__call__\u001b[1;34m(self, iterable)\u001b[0m\n\u001b[0;32m   1916\u001b[0m     output \u001b[38;5;241m=\u001b[39m \u001b[38;5;28mself\u001b[39m\u001b[38;5;241m.\u001b[39m_get_sequential_output(iterable)\n\u001b[0;32m   1917\u001b[0m     \u001b[38;5;28mnext\u001b[39m(output)\n\u001b[1;32m-> 1918\u001b[0m     \u001b[38;5;28;01mreturn\u001b[39;00m output \u001b[38;5;28;01mif\u001b[39;00m \u001b[38;5;28mself\u001b[39m\u001b[38;5;241m.\u001b[39mreturn_generator \u001b[38;5;28;01melse\u001b[39;00m \u001b[38;5;28mlist\u001b[39m(output)\n\u001b[0;32m   1920\u001b[0m \u001b[38;5;66;03m# Let's create an ID that uniquely identifies the current call. If the\u001b[39;00m\n\u001b[0;32m   1921\u001b[0m \u001b[38;5;66;03m# call is interrupted early and that the same instance is immediately\u001b[39;00m\n\u001b[0;32m   1922\u001b[0m \u001b[38;5;66;03m# re-used, this id will be used to prevent workers that were\u001b[39;00m\n\u001b[0;32m   1923\u001b[0m \u001b[38;5;66;03m# concurrently finalizing a task from the previous call to run the\u001b[39;00m\n\u001b[0;32m   1924\u001b[0m \u001b[38;5;66;03m# callback.\u001b[39;00m\n\u001b[0;32m   1925\u001b[0m \u001b[38;5;28;01mwith\u001b[39;00m \u001b[38;5;28mself\u001b[39m\u001b[38;5;241m.\u001b[39m_lock:\n",
      "File \u001b[1;32m~\\anaconda3\\Lib\\site-packages\\joblib\\parallel.py:1847\u001b[0m, in \u001b[0;36mParallel._get_sequential_output\u001b[1;34m(self, iterable)\u001b[0m\n\u001b[0;32m   1845\u001b[0m \u001b[38;5;28mself\u001b[39m\u001b[38;5;241m.\u001b[39mn_dispatched_batches \u001b[38;5;241m+\u001b[39m\u001b[38;5;241m=\u001b[39m \u001b[38;5;241m1\u001b[39m\n\u001b[0;32m   1846\u001b[0m \u001b[38;5;28mself\u001b[39m\u001b[38;5;241m.\u001b[39mn_dispatched_tasks \u001b[38;5;241m+\u001b[39m\u001b[38;5;241m=\u001b[39m \u001b[38;5;241m1\u001b[39m\n\u001b[1;32m-> 1847\u001b[0m res \u001b[38;5;241m=\u001b[39m func(\u001b[38;5;241m*\u001b[39margs, \u001b[38;5;241m*\u001b[39m\u001b[38;5;241m*\u001b[39mkwargs)\n\u001b[0;32m   1848\u001b[0m \u001b[38;5;28mself\u001b[39m\u001b[38;5;241m.\u001b[39mn_completed_tasks \u001b[38;5;241m+\u001b[39m\u001b[38;5;241m=\u001b[39m \u001b[38;5;241m1\u001b[39m\n\u001b[0;32m   1849\u001b[0m \u001b[38;5;28mself\u001b[39m\u001b[38;5;241m.\u001b[39mprint_progress()\n",
      "File \u001b[1;32m~\\anaconda3\\Lib\\site-packages\\sklearn\\utils\\parallel.py:129\u001b[0m, in \u001b[0;36m_FuncWrapper.__call__\u001b[1;34m(self, *args, **kwargs)\u001b[0m\n\u001b[0;32m    127\u001b[0m     config \u001b[38;5;241m=\u001b[39m {}\n\u001b[0;32m    128\u001b[0m \u001b[38;5;28;01mwith\u001b[39;00m config_context(\u001b[38;5;241m*\u001b[39m\u001b[38;5;241m*\u001b[39mconfig):\n\u001b[1;32m--> 129\u001b[0m     \u001b[38;5;28;01mreturn\u001b[39;00m \u001b[38;5;28mself\u001b[39m\u001b[38;5;241m.\u001b[39mfunction(\u001b[38;5;241m*\u001b[39margs, \u001b[38;5;241m*\u001b[39m\u001b[38;5;241m*\u001b[39mkwargs)\n",
      "File \u001b[1;32m~\\anaconda3\\Lib\\site-packages\\sklearn\\model_selection\\_validation.py:895\u001b[0m, in \u001b[0;36m_fit_and_score\u001b[1;34m(estimator, X, y, scorer, train, test, verbose, parameters, fit_params, score_params, return_train_score, return_parameters, return_n_test_samples, return_times, return_estimator, split_progress, candidate_progress, error_score)\u001b[0m\n\u001b[0;32m    893\u001b[0m         estimator\u001b[38;5;241m.\u001b[39mfit(X_train, \u001b[38;5;241m*\u001b[39m\u001b[38;5;241m*\u001b[39mfit_params)\n\u001b[0;32m    894\u001b[0m     \u001b[38;5;28;01melse\u001b[39;00m:\n\u001b[1;32m--> 895\u001b[0m         estimator\u001b[38;5;241m.\u001b[39mfit(X_train, y_train, \u001b[38;5;241m*\u001b[39m\u001b[38;5;241m*\u001b[39mfit_params)\n\u001b[0;32m    897\u001b[0m \u001b[38;5;28;01mexcept\u001b[39;00m \u001b[38;5;167;01mException\u001b[39;00m:\n\u001b[0;32m    898\u001b[0m     \u001b[38;5;66;03m# Note fit time as time until error\u001b[39;00m\n\u001b[0;32m    899\u001b[0m     fit_time \u001b[38;5;241m=\u001b[39m time\u001b[38;5;241m.\u001b[39mtime() \u001b[38;5;241m-\u001b[39m start_time\n",
      "File \u001b[1;32m~\\anaconda3\\Lib\\site-packages\\sklearn\\base.py:1474\u001b[0m, in \u001b[0;36m_fit_context.<locals>.decorator.<locals>.wrapper\u001b[1;34m(estimator, *args, **kwargs)\u001b[0m\n\u001b[0;32m   1467\u001b[0m     estimator\u001b[38;5;241m.\u001b[39m_validate_params()\n\u001b[0;32m   1469\u001b[0m \u001b[38;5;28;01mwith\u001b[39;00m config_context(\n\u001b[0;32m   1470\u001b[0m     skip_parameter_validation\u001b[38;5;241m=\u001b[39m(\n\u001b[0;32m   1471\u001b[0m         prefer_skip_nested_validation \u001b[38;5;129;01mor\u001b[39;00m global_skip_validation\n\u001b[0;32m   1472\u001b[0m     )\n\u001b[0;32m   1473\u001b[0m ):\n\u001b[1;32m-> 1474\u001b[0m     \u001b[38;5;28;01mreturn\u001b[39;00m fit_method(estimator, \u001b[38;5;241m*\u001b[39margs, \u001b[38;5;241m*\u001b[39m\u001b[38;5;241m*\u001b[39mkwargs)\n",
      "File \u001b[1;32m~\\anaconda3\\Lib\\site-packages\\sklearn\\svm\\_base.py:250\u001b[0m, in \u001b[0;36mBaseLibSVM.fit\u001b[1;34m(self, X, y, sample_weight)\u001b[0m\n\u001b[0;32m    247\u001b[0m     \u001b[38;5;28mprint\u001b[39m(\u001b[38;5;124m\"\u001b[39m\u001b[38;5;124m[LibSVM]\u001b[39m\u001b[38;5;124m\"\u001b[39m, end\u001b[38;5;241m=\u001b[39m\u001b[38;5;124m\"\u001b[39m\u001b[38;5;124m\"\u001b[39m)\n\u001b[0;32m    249\u001b[0m seed \u001b[38;5;241m=\u001b[39m rnd\u001b[38;5;241m.\u001b[39mrandint(np\u001b[38;5;241m.\u001b[39miinfo(\u001b[38;5;124m\"\u001b[39m\u001b[38;5;124mi\u001b[39m\u001b[38;5;124m\"\u001b[39m)\u001b[38;5;241m.\u001b[39mmax)\n\u001b[1;32m--> 250\u001b[0m fit(X, y, sample_weight, solver_type, kernel, random_seed\u001b[38;5;241m=\u001b[39mseed)\n\u001b[0;32m    251\u001b[0m \u001b[38;5;66;03m# see comment on the other call to np.iinfo in this file\u001b[39;00m\n\u001b[0;32m    253\u001b[0m \u001b[38;5;28mself\u001b[39m\u001b[38;5;241m.\u001b[39mshape_fit_ \u001b[38;5;241m=\u001b[39m X\u001b[38;5;241m.\u001b[39mshape \u001b[38;5;28;01mif\u001b[39;00m \u001b[38;5;28mhasattr\u001b[39m(X, \u001b[38;5;124m\"\u001b[39m\u001b[38;5;124mshape\u001b[39m\u001b[38;5;124m\"\u001b[39m) \u001b[38;5;28;01melse\u001b[39;00m (n_samples,)\n",
      "File \u001b[1;32m~\\anaconda3\\Lib\\site-packages\\sklearn\\svm\\_base.py:329\u001b[0m, in \u001b[0;36mBaseLibSVM._dense_fit\u001b[1;34m(self, X, y, sample_weight, solver_type, kernel, random_seed)\u001b[0m\n\u001b[0;32m    315\u001b[0m libsvm\u001b[38;5;241m.\u001b[39mset_verbosity_wrap(\u001b[38;5;28mself\u001b[39m\u001b[38;5;241m.\u001b[39mverbose)\n\u001b[0;32m    317\u001b[0m \u001b[38;5;66;03m# we don't pass **self.get_params() to allow subclasses to\u001b[39;00m\n\u001b[0;32m    318\u001b[0m \u001b[38;5;66;03m# add other parameters to __init__\u001b[39;00m\n\u001b[0;32m    319\u001b[0m (\n\u001b[0;32m    320\u001b[0m     \u001b[38;5;28mself\u001b[39m\u001b[38;5;241m.\u001b[39msupport_,\n\u001b[0;32m    321\u001b[0m     \u001b[38;5;28mself\u001b[39m\u001b[38;5;241m.\u001b[39msupport_vectors_,\n\u001b[0;32m    322\u001b[0m     \u001b[38;5;28mself\u001b[39m\u001b[38;5;241m.\u001b[39m_n_support,\n\u001b[0;32m    323\u001b[0m     \u001b[38;5;28mself\u001b[39m\u001b[38;5;241m.\u001b[39mdual_coef_,\n\u001b[0;32m    324\u001b[0m     \u001b[38;5;28mself\u001b[39m\u001b[38;5;241m.\u001b[39mintercept_,\n\u001b[0;32m    325\u001b[0m     \u001b[38;5;28mself\u001b[39m\u001b[38;5;241m.\u001b[39m_probA,\n\u001b[0;32m    326\u001b[0m     \u001b[38;5;28mself\u001b[39m\u001b[38;5;241m.\u001b[39m_probB,\n\u001b[0;32m    327\u001b[0m     \u001b[38;5;28mself\u001b[39m\u001b[38;5;241m.\u001b[39mfit_status_,\n\u001b[0;32m    328\u001b[0m     \u001b[38;5;28mself\u001b[39m\u001b[38;5;241m.\u001b[39m_num_iter,\n\u001b[1;32m--> 329\u001b[0m ) \u001b[38;5;241m=\u001b[39m libsvm\u001b[38;5;241m.\u001b[39mfit(\n\u001b[0;32m    330\u001b[0m     X,\n\u001b[0;32m    331\u001b[0m     y,\n\u001b[0;32m    332\u001b[0m     svm_type\u001b[38;5;241m=\u001b[39msolver_type,\n\u001b[0;32m    333\u001b[0m     sample_weight\u001b[38;5;241m=\u001b[39msample_weight,\n\u001b[0;32m    334\u001b[0m     class_weight\u001b[38;5;241m=\u001b[39m\u001b[38;5;28mgetattr\u001b[39m(\u001b[38;5;28mself\u001b[39m, \u001b[38;5;124m\"\u001b[39m\u001b[38;5;124mclass_weight_\u001b[39m\u001b[38;5;124m\"\u001b[39m, np\u001b[38;5;241m.\u001b[39mempty(\u001b[38;5;241m0\u001b[39m)),\n\u001b[0;32m    335\u001b[0m     kernel\u001b[38;5;241m=\u001b[39mkernel,\n\u001b[0;32m    336\u001b[0m     C\u001b[38;5;241m=\u001b[39m\u001b[38;5;28mself\u001b[39m\u001b[38;5;241m.\u001b[39mC,\n\u001b[0;32m    337\u001b[0m     nu\u001b[38;5;241m=\u001b[39m\u001b[38;5;28mself\u001b[39m\u001b[38;5;241m.\u001b[39mnu,\n\u001b[0;32m    338\u001b[0m     probability\u001b[38;5;241m=\u001b[39m\u001b[38;5;28mself\u001b[39m\u001b[38;5;241m.\u001b[39mprobability,\n\u001b[0;32m    339\u001b[0m     degree\u001b[38;5;241m=\u001b[39m\u001b[38;5;28mself\u001b[39m\u001b[38;5;241m.\u001b[39mdegree,\n\u001b[0;32m    340\u001b[0m     shrinking\u001b[38;5;241m=\u001b[39m\u001b[38;5;28mself\u001b[39m\u001b[38;5;241m.\u001b[39mshrinking,\n\u001b[0;32m    341\u001b[0m     tol\u001b[38;5;241m=\u001b[39m\u001b[38;5;28mself\u001b[39m\u001b[38;5;241m.\u001b[39mtol,\n\u001b[0;32m    342\u001b[0m     cache_size\u001b[38;5;241m=\u001b[39m\u001b[38;5;28mself\u001b[39m\u001b[38;5;241m.\u001b[39mcache_size,\n\u001b[0;32m    343\u001b[0m     coef0\u001b[38;5;241m=\u001b[39m\u001b[38;5;28mself\u001b[39m\u001b[38;5;241m.\u001b[39mcoef0,\n\u001b[0;32m    344\u001b[0m     gamma\u001b[38;5;241m=\u001b[39m\u001b[38;5;28mself\u001b[39m\u001b[38;5;241m.\u001b[39m_gamma,\n\u001b[0;32m    345\u001b[0m     epsilon\u001b[38;5;241m=\u001b[39m\u001b[38;5;28mself\u001b[39m\u001b[38;5;241m.\u001b[39mepsilon,\n\u001b[0;32m    346\u001b[0m     max_iter\u001b[38;5;241m=\u001b[39m\u001b[38;5;28mself\u001b[39m\u001b[38;5;241m.\u001b[39mmax_iter,\n\u001b[0;32m    347\u001b[0m     random_seed\u001b[38;5;241m=\u001b[39mrandom_seed,\n\u001b[0;32m    348\u001b[0m )\n\u001b[0;32m    350\u001b[0m \u001b[38;5;28mself\u001b[39m\u001b[38;5;241m.\u001b[39m_warn_from_fit_status()\n",
      "\u001b[1;31mKeyboardInterrupt\u001b[0m: "
     ]
    }
   ],
   "source": [
    "grid_svm_model.fit(scaled_X_train, y_train)"
   ]
  },
  {
   "cell_type": "code",
   "execution_count": 602,
   "id": "19ff1eeb-fbad-4f56-82cf-588acf0a79df",
   "metadata": {},
   "outputs": [
    {
     "ename": "AttributeError",
     "evalue": "'GridSearchCV' object has no attribute 'best_params_'",
     "output_type": "error",
     "traceback": [
      "\u001b[1;31m---------------------------------------------------------------------------\u001b[0m",
      "\u001b[1;31mAttributeError\u001b[0m                            Traceback (most recent call last)",
      "Cell \u001b[1;32mIn[602], line 1\u001b[0m\n\u001b[1;32m----> 1\u001b[0m grid_svm_model\u001b[38;5;241m.\u001b[39mbest_params_\n",
      "\u001b[1;31mAttributeError\u001b[0m: 'GridSearchCV' object has no attribute 'best_params_'"
     ]
    }
   ],
   "source": [
    "grid_svm_model.best_params_"
   ]
  },
  {
   "cell_type": "code",
   "execution_count": null,
   "id": "c63718b8-39ae-4674-b389-040598c3d74d",
   "metadata": {},
   "outputs": [],
   "source": [
    "y_pred = grid_svm_model.predict(scaled_X_test)"
   ]
  },
  {
   "cell_type": "code",
   "execution_count": null,
   "id": "c9ed9fff-a842-4f51-802f-2a375da2d102",
   "metadata": {},
   "outputs": [],
   "source": [
    "accuracy_score(y_test,y_pred)"
   ]
  },
  {
   "cell_type": "code",
   "execution_count": null,
   "id": "65852011-066d-4842-9f47-b6c9ce87bbc6",
   "metadata": {},
   "outputs": [],
   "source": [
    "confusion_matrix(y_test,y_pred)"
   ]
  },
  {
   "cell_type": "code",
   "execution_count": null,
   "id": "547ae955-7948-48c1-b38d-a8856c56d564",
   "metadata": {},
   "outputs": [],
   "source": [
    "print(classification_report(y_test,y_pred))"
   ]
  },
  {
   "cell_type": "code",
   "execution_count": 604,
   "id": "28809116-9915-4f17-b09d-7ca50fbdf749",
   "metadata": {},
   "outputs": [],
   "source": [
    "n_estimators=[64,100,128,200]\n",
    "max_features= [2,3,4]\n",
    "bootstrap = [True,False]\n",
    "oob_score = [True,False]\n",
    "param_grid = {'n_estimators':n_estimators,\n",
    "             'max_features':max_features,\n",
    "             'bootstrap':bootstrap,\n",
    "             'oob_score':oob_score}"
   ]
  },
  {
   "cell_type": "code",
   "execution_count": 614,
   "id": "20ff18ae-576e-4c8d-bde2-255c696c9368",
   "metadata": {},
   "outputs": [],
   "source": [
    "rfc = RandomForestClassifier()"
   ]
  },
  {
   "cell_type": "code",
   "execution_count": 618,
   "id": "b1b22b3e-1404-4df9-90e5-9b66d981323c",
   "metadata": {},
   "outputs": [],
   "source": [
    "grid_rfc_model = GridSearchCV(rfc, param_grid=param_grid, verbose=2)"
   ]
  },
  {
   "cell_type": "code",
   "execution_count": 622,
   "id": "3e06a865-2a9f-4015-b91b-e34e82a93f12",
   "metadata": {},
   "outputs": [
    {
     "name": "stdout",
     "output_type": "stream",
     "text": [
      "Fitting 5 folds for each of 48 candidates, totalling 240 fits\n",
      "[CV] END bootstrap=True, max_features=2, n_estimators=64, oob_score=True; total time=  16.9s\n",
      "[CV] END bootstrap=True, max_features=2, n_estimators=64, oob_score=True; total time=  17.3s\n",
      "[CV] END bootstrap=True, max_features=2, n_estimators=64, oob_score=True; total time=  17.3s\n",
      "[CV] END bootstrap=True, max_features=2, n_estimators=64, oob_score=True; total time=  16.6s\n",
      "[CV] END bootstrap=True, max_features=2, n_estimators=64, oob_score=True; total time=  17.1s\n",
      "[CV] END bootstrap=True, max_features=2, n_estimators=64, oob_score=False; total time=  15.7s\n",
      "[CV] END bootstrap=True, max_features=2, n_estimators=64, oob_score=False; total time=  15.3s\n",
      "[CV] END bootstrap=True, max_features=2, n_estimators=64, oob_score=False; total time=  15.7s\n",
      "[CV] END bootstrap=True, max_features=2, n_estimators=64, oob_score=False; total time=  15.7s\n",
      "[CV] END bootstrap=True, max_features=2, n_estimators=64, oob_score=False; total time=  16.0s\n",
      "[CV] END bootstrap=True, max_features=2, n_estimators=100, oob_score=True; total time=  29.3s\n",
      "[CV] END bootstrap=True, max_features=2, n_estimators=100, oob_score=True; total time=  28.3s\n",
      "[CV] END bootstrap=True, max_features=2, n_estimators=100, oob_score=True; total time=  27.9s\n",
      "[CV] END bootstrap=True, max_features=2, n_estimators=100, oob_score=True; total time=  26.0s\n",
      "[CV] END bootstrap=True, max_features=2, n_estimators=100, oob_score=True; total time=  28.2s\n",
      "[CV] END bootstrap=True, max_features=2, n_estimators=100, oob_score=False; total time=  24.8s\n",
      "[CV] END bootstrap=True, max_features=2, n_estimators=100, oob_score=False; total time=  24.2s\n",
      "[CV] END bootstrap=True, max_features=2, n_estimators=100, oob_score=False; total time=  23.9s\n",
      "[CV] END bootstrap=True, max_features=2, n_estimators=100, oob_score=False; total time=  26.3s\n",
      "[CV] END bootstrap=True, max_features=2, n_estimators=100, oob_score=False; total time=  26.6s\n",
      "[CV] END bootstrap=True, max_features=2, n_estimators=128, oob_score=True; total time=  34.7s\n",
      "[CV] END bootstrap=True, max_features=2, n_estimators=128, oob_score=True; total time=  34.8s\n",
      "[CV] END bootstrap=True, max_features=2, n_estimators=128, oob_score=True; total time=  34.2s\n",
      "[CV] END bootstrap=True, max_features=2, n_estimators=128, oob_score=True; total time=  37.2s\n",
      "[CV] END bootstrap=True, max_features=2, n_estimators=128, oob_score=True; total time=  37.7s\n",
      "[CV] END bootstrap=True, max_features=2, n_estimators=128, oob_score=False; total time=  32.0s\n",
      "[CV] END bootstrap=True, max_features=2, n_estimators=128, oob_score=False; total time=  32.0s\n",
      "[CV] END bootstrap=True, max_features=2, n_estimators=128, oob_score=False; total time=  32.4s\n",
      "[CV] END bootstrap=True, max_features=2, n_estimators=128, oob_score=False; total time=  32.0s\n",
      "[CV] END bootstrap=True, max_features=2, n_estimators=128, oob_score=False; total time=  34.9s\n",
      "[CV] END bootstrap=True, max_features=2, n_estimators=200, oob_score=True; total time=  55.3s\n",
      "[CV] END bootstrap=True, max_features=2, n_estimators=200, oob_score=True; total time=  54.0s\n",
      "[CV] END bootstrap=True, max_features=2, n_estimators=200, oob_score=True; total time=  55.3s\n",
      "[CV] END bootstrap=True, max_features=2, n_estimators=200, oob_score=True; total time=  57.5s\n",
      "[CV] END bootstrap=True, max_features=2, n_estimators=200, oob_score=True; total time=  56.2s\n",
      "[CV] END bootstrap=True, max_features=2, n_estimators=200, oob_score=False; total time=  52.7s\n",
      "[CV] END bootstrap=True, max_features=2, n_estimators=200, oob_score=False; total time=  53.5s\n",
      "[CV] END bootstrap=True, max_features=2, n_estimators=200, oob_score=False; total time=  52.9s\n",
      "[CV] END bootstrap=True, max_features=2, n_estimators=200, oob_score=False; total time=  51.8s\n",
      "[CV] END bootstrap=True, max_features=2, n_estimators=200, oob_score=False; total time=  52.1s\n",
      "[CV] END bootstrap=True, max_features=3, n_estimators=64, oob_score=True; total time=  18.1s\n",
      "[CV] END bootstrap=True, max_features=3, n_estimators=64, oob_score=True; total time=  17.9s\n",
      "[CV] END bootstrap=True, max_features=3, n_estimators=64, oob_score=True; total time=  19.0s\n",
      "[CV] END bootstrap=True, max_features=3, n_estimators=64, oob_score=True; total time=  18.9s\n",
      "[CV] END bootstrap=True, max_features=3, n_estimators=64, oob_score=True; total time=  18.7s\n",
      "[CV] END bootstrap=True, max_features=3, n_estimators=64, oob_score=False; total time=  17.1s\n",
      "[CV] END bootstrap=True, max_features=3, n_estimators=64, oob_score=False; total time=  16.9s\n",
      "[CV] END bootstrap=True, max_features=3, n_estimators=64, oob_score=False; total time=  17.3s\n",
      "[CV] END bootstrap=True, max_features=3, n_estimators=64, oob_score=False; total time=  16.5s\n",
      "[CV] END bootstrap=True, max_features=3, n_estimators=64, oob_score=False; total time=  18.0s\n",
      "[CV] END bootstrap=True, max_features=3, n_estimators=100, oob_score=True; total time=  28.2s\n",
      "[CV] END bootstrap=True, max_features=3, n_estimators=100, oob_score=True; total time=  29.6s\n",
      "[CV] END bootstrap=True, max_features=3, n_estimators=100, oob_score=True; total time=  27.7s\n",
      "[CV] END bootstrap=True, max_features=3, n_estimators=100, oob_score=True; total time=  28.9s\n",
      "[CV] END bootstrap=True, max_features=3, n_estimators=100, oob_score=True; total time=  27.5s\n",
      "[CV] END bootstrap=True, max_features=3, n_estimators=100, oob_score=False; total time=  26.2s\n",
      "[CV] END bootstrap=True, max_features=3, n_estimators=100, oob_score=False; total time=  27.7s\n",
      "[CV] END bootstrap=True, max_features=3, n_estimators=100, oob_score=False; total time=  27.3s\n",
      "[CV] END bootstrap=True, max_features=3, n_estimators=100, oob_score=False; total time=  26.6s\n",
      "[CV] END bootstrap=True, max_features=3, n_estimators=100, oob_score=False; total time=  27.3s\n",
      "[CV] END bootstrap=True, max_features=3, n_estimators=128, oob_score=True; total time=  37.1s\n",
      "[CV] END bootstrap=True, max_features=3, n_estimators=128, oob_score=True; total time=  37.2s\n",
      "[CV] END bootstrap=True, max_features=3, n_estimators=128, oob_score=True; total time=  34.0s\n",
      "[CV] END bootstrap=True, max_features=3, n_estimators=128, oob_score=True; total time=  33.5s\n",
      "[CV] END bootstrap=True, max_features=3, n_estimators=128, oob_score=True; total time=  34.1s\n",
      "[CV] END bootstrap=True, max_features=3, n_estimators=128, oob_score=False; total time=  31.3s\n",
      "[CV] END bootstrap=True, max_features=3, n_estimators=128, oob_score=False; total time=  31.4s\n",
      "[CV] END bootstrap=True, max_features=3, n_estimators=128, oob_score=False; total time=  33.0s\n",
      "[CV] END bootstrap=True, max_features=3, n_estimators=128, oob_score=False; total time=  31.5s\n",
      "[CV] END bootstrap=True, max_features=3, n_estimators=128, oob_score=False; total time=  31.3s\n",
      "[CV] END bootstrap=True, max_features=3, n_estimators=200, oob_score=True; total time=  53.3s\n",
      "[CV] END bootstrap=True, max_features=3, n_estimators=200, oob_score=True; total time=  52.9s\n",
      "[CV] END bootstrap=True, max_features=3, n_estimators=200, oob_score=True; total time=  56.9s\n",
      "[CV] END bootstrap=True, max_features=3, n_estimators=200, oob_score=True; total time=  57.1s\n",
      "[CV] END bootstrap=True, max_features=3, n_estimators=200, oob_score=True; total time=  57.6s\n",
      "[CV] END bootstrap=True, max_features=3, n_estimators=200, oob_score=False; total time=  52.5s\n",
      "[CV] END bootstrap=True, max_features=3, n_estimators=200, oob_score=False; total time=  52.6s\n",
      "[CV] END bootstrap=True, max_features=3, n_estimators=200, oob_score=False; total time=  52.6s\n",
      "[CV] END bootstrap=True, max_features=3, n_estimators=200, oob_score=False; total time=  56.8s\n",
      "[CV] END bootstrap=True, max_features=3, n_estimators=200, oob_score=False; total time=  53.0s\n",
      "[CV] END bootstrap=True, max_features=4, n_estimators=64, oob_score=True; total time=  18.4s\n",
      "[CV] END bootstrap=True, max_features=4, n_estimators=64, oob_score=True; total time=  18.5s\n",
      "[CV] END bootstrap=True, max_features=4, n_estimators=64, oob_score=True; total time=  17.8s\n",
      "[CV] END bootstrap=True, max_features=4, n_estimators=64, oob_score=True; total time=  18.7s\n",
      "[CV] END bootstrap=True, max_features=4, n_estimators=64, oob_score=True; total time=  19.1s\n",
      "[CV] END bootstrap=True, max_features=4, n_estimators=64, oob_score=False; total time=  17.2s\n",
      "[CV] END bootstrap=True, max_features=4, n_estimators=64, oob_score=False; total time=  17.1s\n",
      "[CV] END bootstrap=True, max_features=4, n_estimators=64, oob_score=False; total time=  17.0s\n",
      "[CV] END bootstrap=True, max_features=4, n_estimators=64, oob_score=False; total time=  16.9s\n",
      "[CV] END bootstrap=True, max_features=4, n_estimators=64, oob_score=False; total time=  16.9s\n",
      "[CV] END bootstrap=True, max_features=4, n_estimators=100, oob_score=True; total time=  28.8s\n",
      "[CV] END bootstrap=True, max_features=4, n_estimators=100, oob_score=True; total time=  28.3s\n",
      "[CV] END bootstrap=True, max_features=4, n_estimators=100, oob_score=True; total time=  29.2s\n",
      "[CV] END bootstrap=True, max_features=4, n_estimators=100, oob_score=True; total time=  30.1s\n",
      "[CV] END bootstrap=True, max_features=4, n_estimators=100, oob_score=True; total time=  28.8s\n",
      "[CV] END bootstrap=True, max_features=4, n_estimators=100, oob_score=False; total time=  26.3s\n",
      "[CV] END bootstrap=True, max_features=4, n_estimators=100, oob_score=False; total time=  26.6s\n",
      "[CV] END bootstrap=True, max_features=4, n_estimators=100, oob_score=False; total time=  26.4s\n",
      "[CV] END bootstrap=True, max_features=4, n_estimators=100, oob_score=False; total time=  26.7s\n",
      "[CV] END bootstrap=True, max_features=4, n_estimators=100, oob_score=False; total time=  26.7s\n",
      "[CV] END bootstrap=True, max_features=4, n_estimators=128, oob_score=True; total time=  37.6s\n",
      "[CV] END bootstrap=True, max_features=4, n_estimators=128, oob_score=True; total time=  36.7s\n",
      "[CV] END bootstrap=True, max_features=4, n_estimators=128, oob_score=True; total time=  36.4s\n",
      "[CV] END bootstrap=True, max_features=4, n_estimators=128, oob_score=True; total time=  37.9s\n",
      "[CV] END bootstrap=True, max_features=4, n_estimators=128, oob_score=True; total time=  37.3s\n",
      "[CV] END bootstrap=True, max_features=4, n_estimators=128, oob_score=False; total time=  33.9s\n",
      "[CV] END bootstrap=True, max_features=4, n_estimators=128, oob_score=False; total time=  33.6s\n",
      "[CV] END bootstrap=True, max_features=4, n_estimators=128, oob_score=False; total time=  35.6s\n",
      "[CV] END bootstrap=True, max_features=4, n_estimators=128, oob_score=False; total time=  34.1s\n",
      "[CV] END bootstrap=True, max_features=4, n_estimators=128, oob_score=False; total time=  34.8s\n",
      "[CV] END bootstrap=True, max_features=4, n_estimators=200, oob_score=True; total time=  57.8s\n",
      "[CV] END bootstrap=True, max_features=4, n_estimators=200, oob_score=True; total time=  56.3s\n",
      "[CV] END bootstrap=True, max_features=4, n_estimators=200, oob_score=True; total time=  56.8s\n",
      "[CV] END bootstrap=True, max_features=4, n_estimators=200, oob_score=True; total time=  58.6s\n",
      "[CV] END bootstrap=True, max_features=4, n_estimators=200, oob_score=True; total time=  58.1s\n",
      "[CV] END bootstrap=True, max_features=4, n_estimators=200, oob_score=False; total time=  53.4s\n",
      "[CV] END bootstrap=True, max_features=4, n_estimators=200, oob_score=False; total time=  53.2s\n",
      "[CV] END bootstrap=True, max_features=4, n_estimators=200, oob_score=False; total time=  52.4s\n",
      "[CV] END bootstrap=True, max_features=4, n_estimators=200, oob_score=False; total time=  54.2s\n",
      "[CV] END bootstrap=True, max_features=4, n_estimators=200, oob_score=False; total time=  53.2s\n",
      "[CV] END bootstrap=False, max_features=2, n_estimators=64, oob_score=True; total time=   0.0s\n",
      "[CV] END bootstrap=False, max_features=2, n_estimators=64, oob_score=True; total time=   0.0s\n",
      "[CV] END bootstrap=False, max_features=2, n_estimators=64, oob_score=True; total time=   0.0s\n",
      "[CV] END bootstrap=False, max_features=2, n_estimators=64, oob_score=True; total time=   0.0s\n",
      "[CV] END bootstrap=False, max_features=2, n_estimators=64, oob_score=True; total time=   0.0s\n",
      "[CV] END bootstrap=False, max_features=2, n_estimators=64, oob_score=False; total time=  25.7s\n",
      "[CV] END bootstrap=False, max_features=2, n_estimators=64, oob_score=False; total time=  26.2s\n",
      "[CV] END bootstrap=False, max_features=2, n_estimators=64, oob_score=False; total time=  26.4s\n",
      "[CV] END bootstrap=False, max_features=2, n_estimators=64, oob_score=False; total time=  26.1s\n",
      "[CV] END bootstrap=False, max_features=2, n_estimators=64, oob_score=False; total time=  26.0s\n",
      "[CV] END bootstrap=False, max_features=2, n_estimators=100, oob_score=True; total time=   0.0s\n",
      "[CV] END bootstrap=False, max_features=2, n_estimators=100, oob_score=True; total time=   0.0s\n",
      "[CV] END bootstrap=False, max_features=2, n_estimators=100, oob_score=True; total time=   0.0s\n",
      "[CV] END bootstrap=False, max_features=2, n_estimators=100, oob_score=True; total time=   0.0s\n",
      "[CV] END bootstrap=False, max_features=2, n_estimators=100, oob_score=True; total time=   0.0s\n",
      "[CV] END bootstrap=False, max_features=2, n_estimators=100, oob_score=False; total time=  41.0s\n",
      "[CV] END bootstrap=False, max_features=2, n_estimators=100, oob_score=False; total time=  40.0s\n",
      "[CV] END bootstrap=False, max_features=2, n_estimators=100, oob_score=False; total time=  41.4s\n",
      "[CV] END bootstrap=False, max_features=2, n_estimators=100, oob_score=False; total time=  41.4s\n",
      "[CV] END bootstrap=False, max_features=2, n_estimators=100, oob_score=False; total time=  42.9s\n",
      "[CV] END bootstrap=False, max_features=2, n_estimators=128, oob_score=True; total time=   0.0s\n",
      "[CV] END bootstrap=False, max_features=2, n_estimators=128, oob_score=True; total time=   0.0s\n",
      "[CV] END bootstrap=False, max_features=2, n_estimators=128, oob_score=True; total time=   0.0s\n",
      "[CV] END bootstrap=False, max_features=2, n_estimators=128, oob_score=True; total time=   0.0s\n",
      "[CV] END bootstrap=False, max_features=2, n_estimators=128, oob_score=True; total time=   0.0s\n",
      "[CV] END bootstrap=False, max_features=2, n_estimators=128, oob_score=False; total time=  53.8s\n",
      "[CV] END bootstrap=False, max_features=2, n_estimators=128, oob_score=False; total time=  53.1s\n",
      "[CV] END bootstrap=False, max_features=2, n_estimators=128, oob_score=False; total time=  52.1s\n",
      "[CV] END bootstrap=False, max_features=2, n_estimators=128, oob_score=False; total time=  52.9s\n",
      "[CV] END bootstrap=False, max_features=2, n_estimators=128, oob_score=False; total time=  52.8s\n",
      "[CV] END bootstrap=False, max_features=2, n_estimators=200, oob_score=True; total time=   0.0s\n",
      "[CV] END bootstrap=False, max_features=2, n_estimators=200, oob_score=True; total time=   0.0s\n",
      "[CV] END bootstrap=False, max_features=2, n_estimators=200, oob_score=True; total time=   0.0s\n",
      "[CV] END bootstrap=False, max_features=2, n_estimators=200, oob_score=True; total time=   0.0s\n",
      "[CV] END bootstrap=False, max_features=2, n_estimators=200, oob_score=True; total time=   0.0s\n",
      "[CV] END bootstrap=False, max_features=2, n_estimators=200, oob_score=False; total time= 1.4min\n",
      "[CV] END bootstrap=False, max_features=2, n_estimators=200, oob_score=False; total time= 1.4min\n",
      "[CV] END bootstrap=False, max_features=2, n_estimators=200, oob_score=False; total time= 1.4min\n",
      "[CV] END bootstrap=False, max_features=2, n_estimators=200, oob_score=False; total time= 1.4min\n",
      "[CV] END bootstrap=False, max_features=2, n_estimators=200, oob_score=False; total time= 1.4min\n",
      "[CV] END bootstrap=False, max_features=3, n_estimators=64, oob_score=True; total time=   0.0s\n",
      "[CV] END bootstrap=False, max_features=3, n_estimators=64, oob_score=True; total time=   0.0s\n",
      "[CV] END bootstrap=False, max_features=3, n_estimators=64, oob_score=True; total time=   0.0s\n",
      "[CV] END bootstrap=False, max_features=3, n_estimators=64, oob_score=True; total time=   0.0s\n",
      "[CV] END bootstrap=False, max_features=3, n_estimators=64, oob_score=True; total time=   0.0s\n",
      "[CV] END bootstrap=False, max_features=3, n_estimators=64, oob_score=False; total time=  27.4s\n",
      "[CV] END bootstrap=False, max_features=3, n_estimators=64, oob_score=False; total time=  25.8s\n",
      "[CV] END bootstrap=False, max_features=3, n_estimators=64, oob_score=False; total time=  25.7s\n",
      "[CV] END bootstrap=False, max_features=3, n_estimators=64, oob_score=False; total time=  25.5s\n",
      "[CV] END bootstrap=False, max_features=3, n_estimators=64, oob_score=False; total time=  26.6s\n",
      "[CV] END bootstrap=False, max_features=3, n_estimators=100, oob_score=True; total time=   0.0s\n",
      "[CV] END bootstrap=False, max_features=3, n_estimators=100, oob_score=True; total time=   0.0s\n",
      "[CV] END bootstrap=False, max_features=3, n_estimators=100, oob_score=True; total time=   0.0s\n",
      "[CV] END bootstrap=False, max_features=3, n_estimators=100, oob_score=True; total time=   0.0s\n",
      "[CV] END bootstrap=False, max_features=3, n_estimators=100, oob_score=True; total time=   0.0s\n",
      "[CV] END bootstrap=False, max_features=3, n_estimators=100, oob_score=False; total time=  42.5s\n",
      "[CV] END bootstrap=False, max_features=3, n_estimators=100, oob_score=False; total time=  44.5s\n",
      "[CV] END bootstrap=False, max_features=3, n_estimators=100, oob_score=False; total time=  42.7s\n",
      "[CV] END bootstrap=False, max_features=3, n_estimators=100, oob_score=False; total time=  42.8s\n",
      "[CV] END bootstrap=False, max_features=3, n_estimators=100, oob_score=False; total time=  41.8s\n",
      "[CV] END bootstrap=False, max_features=3, n_estimators=128, oob_score=True; total time=   0.0s\n",
      "[CV] END bootstrap=False, max_features=3, n_estimators=128, oob_score=True; total time=   0.0s\n",
      "[CV] END bootstrap=False, max_features=3, n_estimators=128, oob_score=True; total time=   0.0s\n",
      "[CV] END bootstrap=False, max_features=3, n_estimators=128, oob_score=True; total time=   0.0s\n",
      "[CV] END bootstrap=False, max_features=3, n_estimators=128, oob_score=True; total time=   0.0s\n",
      "[CV] END bootstrap=False, max_features=3, n_estimators=128, oob_score=False; total time=  53.0s\n",
      "[CV] END bootstrap=False, max_features=3, n_estimators=128, oob_score=False; total time=  51.4s\n",
      "[CV] END bootstrap=False, max_features=3, n_estimators=128, oob_score=False; total time=  48.8s\n",
      "[CV] END bootstrap=False, max_features=3, n_estimators=128, oob_score=False; total time=  49.7s\n",
      "[CV] END bootstrap=False, max_features=3, n_estimators=128, oob_score=False; total time=  53.6s\n",
      "[CV] END bootstrap=False, max_features=3, n_estimators=200, oob_score=True; total time=   0.0s\n",
      "[CV] END bootstrap=False, max_features=3, n_estimators=200, oob_score=True; total time=   0.0s\n",
      "[CV] END bootstrap=False, max_features=3, n_estimators=200, oob_score=True; total time=   0.0s\n",
      "[CV] END bootstrap=False, max_features=3, n_estimators=200, oob_score=True; total time=   0.0s\n",
      "[CV] END bootstrap=False, max_features=3, n_estimators=200, oob_score=True; total time=   0.0s\n",
      "[CV] END bootstrap=False, max_features=3, n_estimators=200, oob_score=False; total time= 1.4min\n",
      "[CV] END bootstrap=False, max_features=3, n_estimators=200, oob_score=False; total time= 1.4min\n",
      "[CV] END bootstrap=False, max_features=3, n_estimators=200, oob_score=False; total time= 1.4min\n",
      "[CV] END bootstrap=False, max_features=3, n_estimators=200, oob_score=False; total time= 1.4min\n",
      "[CV] END bootstrap=False, max_features=3, n_estimators=200, oob_score=False; total time= 1.4min\n",
      "[CV] END bootstrap=False, max_features=4, n_estimators=64, oob_score=True; total time=   0.0s\n",
      "[CV] END bootstrap=False, max_features=4, n_estimators=64, oob_score=True; total time=   0.0s\n",
      "[CV] END bootstrap=False, max_features=4, n_estimators=64, oob_score=True; total time=   0.0s\n",
      "[CV] END bootstrap=False, max_features=4, n_estimators=64, oob_score=True; total time=   0.0s\n",
      "[CV] END bootstrap=False, max_features=4, n_estimators=64, oob_score=True; total time=   0.0s\n",
      "[CV] END bootstrap=False, max_features=4, n_estimators=64, oob_score=False; total time=  27.3s\n",
      "[CV] END bootstrap=False, max_features=4, n_estimators=64, oob_score=False; total time=  27.1s\n",
      "[CV] END bootstrap=False, max_features=4, n_estimators=64, oob_score=False; total time=  27.1s\n",
      "[CV] END bootstrap=False, max_features=4, n_estimators=64, oob_score=False; total time=  28.7s\n",
      "[CV] END bootstrap=False, max_features=4, n_estimators=64, oob_score=False; total time=  29.1s\n",
      "[CV] END bootstrap=False, max_features=4, n_estimators=100, oob_score=True; total time=   0.0s\n",
      "[CV] END bootstrap=False, max_features=4, n_estimators=100, oob_score=True; total time=   0.0s\n",
      "[CV] END bootstrap=False, max_features=4, n_estimators=100, oob_score=True; total time=   0.0s\n",
      "[CV] END bootstrap=False, max_features=4, n_estimators=100, oob_score=True; total time=   0.0s\n",
      "[CV] END bootstrap=False, max_features=4, n_estimators=100, oob_score=True; total time=   0.0s\n",
      "[CV] END bootstrap=False, max_features=4, n_estimators=100, oob_score=False; total time=  43.3s\n",
      "[CV] END bootstrap=False, max_features=4, n_estimators=100, oob_score=False; total time=  41.8s\n",
      "[CV] END bootstrap=False, max_features=4, n_estimators=100, oob_score=False; total time=  41.1s\n",
      "[CV] END bootstrap=False, max_features=4, n_estimators=100, oob_score=False; total time=  41.9s\n",
      "[CV] END bootstrap=False, max_features=4, n_estimators=100, oob_score=False; total time=  42.3s\n",
      "[CV] END bootstrap=False, max_features=4, n_estimators=128, oob_score=True; total time=   0.0s\n",
      "[CV] END bootstrap=False, max_features=4, n_estimators=128, oob_score=True; total time=   0.0s\n",
      "[CV] END bootstrap=False, max_features=4, n_estimators=128, oob_score=True; total time=   0.0s\n",
      "[CV] END bootstrap=False, max_features=4, n_estimators=128, oob_score=True; total time=   0.0s\n",
      "[CV] END bootstrap=False, max_features=4, n_estimators=128, oob_score=True; total time=   0.0s\n",
      "[CV] END bootstrap=False, max_features=4, n_estimators=128, oob_score=False; total time=  51.9s\n",
      "[CV] END bootstrap=False, max_features=4, n_estimators=128, oob_score=False; total time=  50.0s\n",
      "[CV] END bootstrap=False, max_features=4, n_estimators=128, oob_score=False; total time=  49.9s\n",
      "[CV] END bootstrap=False, max_features=4, n_estimators=128, oob_score=False; total time=  51.6s\n",
      "[CV] END bootstrap=False, max_features=4, n_estimators=128, oob_score=False; total time=  50.3s\n",
      "[CV] END bootstrap=False, max_features=4, n_estimators=200, oob_score=True; total time=   0.0s\n",
      "[CV] END bootstrap=False, max_features=4, n_estimators=200, oob_score=True; total time=   0.0s\n",
      "[CV] END bootstrap=False, max_features=4, n_estimators=200, oob_score=True; total time=   0.0s\n",
      "[CV] END bootstrap=False, max_features=4, n_estimators=200, oob_score=True; total time=   0.0s\n",
      "[CV] END bootstrap=False, max_features=4, n_estimators=200, oob_score=True; total time=   0.0s\n",
      "[CV] END bootstrap=False, max_features=4, n_estimators=200, oob_score=False; total time= 1.3min\n",
      "[CV] END bootstrap=False, max_features=4, n_estimators=200, oob_score=False; total time= 1.3min\n",
      "[CV] END bootstrap=False, max_features=4, n_estimators=200, oob_score=False; total time= 1.3min\n",
      "[CV] END bootstrap=False, max_features=4, n_estimators=200, oob_score=False; total time= 1.3min\n",
      "[CV] END bootstrap=False, max_features=4, n_estimators=200, oob_score=False; total time= 1.3min\n"
     ]
    },
    {
     "name": "stderr",
     "output_type": "stream",
     "text": [
      "C:\\Users\\honer\\anaconda3\\Lib\\site-packages\\sklearn\\model_selection\\_validation.py:547: FitFailedWarning: \n",
      "60 fits failed out of a total of 240.\n",
      "The score on these train-test partitions for these parameters will be set to nan.\n",
      "If these failures are not expected, you can try to debug them by setting error_score='raise'.\n",
      "\n",
      "Below are more details about the failures:\n",
      "--------------------------------------------------------------------------------\n",
      "60 fits failed with the following error:\n",
      "Traceback (most recent call last):\n",
      "  File \"C:\\Users\\honer\\anaconda3\\Lib\\site-packages\\sklearn\\model_selection\\_validation.py\", line 895, in _fit_and_score\n",
      "    estimator.fit(X_train, y_train, **fit_params)\n",
      "  File \"C:\\Users\\honer\\anaconda3\\Lib\\site-packages\\sklearn\\base.py\", line 1474, in wrapper\n",
      "    return fit_method(estimator, *args, **kwargs)\n",
      "           ^^^^^^^^^^^^^^^^^^^^^^^^^^^^^^^^^^^^^^\n",
      "  File \"C:\\Users\\honer\\anaconda3\\Lib\\site-packages\\sklearn\\ensemble\\_forest.py\", line 450, in fit\n",
      "    raise ValueError(\"Out of bag estimation only available if bootstrap=True\")\n",
      "ValueError: Out of bag estimation only available if bootstrap=True\n",
      "\n",
      "  warnings.warn(some_fits_failed_message, FitFailedWarning)\n",
      "C:\\Users\\honer\\anaconda3\\Lib\\site-packages\\sklearn\\model_selection\\_search.py:1051: UserWarning: One or more of the test scores are non-finite: [0.93064973 0.9303561  0.92980221 0.92983558 0.92954862 0.92966874\n",
      " 0.92946854 0.92931505 0.93086996 0.93054296 0.93027602 0.93016258\n",
      " 0.92974882 0.92983558 0.92953527 0.92938846 0.93090332 0.93085661\n",
      " 0.93008917 0.93010919 0.92964205 0.92987562 0.9295286  0.92964872\n",
      "        nan 0.92436337        nan 0.92435002        nan 0.92442343\n",
      "        nan 0.92435669        nan 0.92452353        nan 0.92459026\n",
      "        nan 0.92455022        nan 0.92446347        nan 0.92455689\n",
      "        nan 0.9245302         nan 0.92459693        nan 0.92472373]\n",
      "  warnings.warn(\n"
     ]
    },
    {
     "data": {
      "text/html": [
       "<style>#sk-container-id-5 {\n",
       "  /* Definition of color scheme common for light and dark mode */\n",
       "  --sklearn-color-text: black;\n",
       "  --sklearn-color-line: gray;\n",
       "  /* Definition of color scheme for unfitted estimators */\n",
       "  --sklearn-color-unfitted-level-0: #fff5e6;\n",
       "  --sklearn-color-unfitted-level-1: #f6e4d2;\n",
       "  --sklearn-color-unfitted-level-2: #ffe0b3;\n",
       "  --sklearn-color-unfitted-level-3: chocolate;\n",
       "  /* Definition of color scheme for fitted estimators */\n",
       "  --sklearn-color-fitted-level-0: #f0f8ff;\n",
       "  --sklearn-color-fitted-level-1: #d4ebff;\n",
       "  --sklearn-color-fitted-level-2: #b3dbfd;\n",
       "  --sklearn-color-fitted-level-3: cornflowerblue;\n",
       "\n",
       "  /* Specific color for light theme */\n",
       "  --sklearn-color-text-on-default-background: var(--sg-text-color, var(--theme-code-foreground, var(--jp-content-font-color1, black)));\n",
       "  --sklearn-color-background: var(--sg-background-color, var(--theme-background, var(--jp-layout-color0, white)));\n",
       "  --sklearn-color-border-box: var(--sg-text-color, var(--theme-code-foreground, var(--jp-content-font-color1, black)));\n",
       "  --sklearn-color-icon: #696969;\n",
       "\n",
       "  @media (prefers-color-scheme: dark) {\n",
       "    /* Redefinition of color scheme for dark theme */\n",
       "    --sklearn-color-text-on-default-background: var(--sg-text-color, var(--theme-code-foreground, var(--jp-content-font-color1, white)));\n",
       "    --sklearn-color-background: var(--sg-background-color, var(--theme-background, var(--jp-layout-color0, #111)));\n",
       "    --sklearn-color-border-box: var(--sg-text-color, var(--theme-code-foreground, var(--jp-content-font-color1, white)));\n",
       "    --sklearn-color-icon: #878787;\n",
       "  }\n",
       "}\n",
       "\n",
       "#sk-container-id-5 {\n",
       "  color: var(--sklearn-color-text);\n",
       "}\n",
       "\n",
       "#sk-container-id-5 pre {\n",
       "  padding: 0;\n",
       "}\n",
       "\n",
       "#sk-container-id-5 input.sk-hidden--visually {\n",
       "  border: 0;\n",
       "  clip: rect(1px 1px 1px 1px);\n",
       "  clip: rect(1px, 1px, 1px, 1px);\n",
       "  height: 1px;\n",
       "  margin: -1px;\n",
       "  overflow: hidden;\n",
       "  padding: 0;\n",
       "  position: absolute;\n",
       "  width: 1px;\n",
       "}\n",
       "\n",
       "#sk-container-id-5 div.sk-dashed-wrapped {\n",
       "  border: 1px dashed var(--sklearn-color-line);\n",
       "  margin: 0 0.4em 0.5em 0.4em;\n",
       "  box-sizing: border-box;\n",
       "  padding-bottom: 0.4em;\n",
       "  background-color: var(--sklearn-color-background);\n",
       "}\n",
       "\n",
       "#sk-container-id-5 div.sk-container {\n",
       "  /* jupyter's `normalize.less` sets `[hidden] { display: none; }`\n",
       "     but bootstrap.min.css set `[hidden] { display: none !important; }`\n",
       "     so we also need the `!important` here to be able to override the\n",
       "     default hidden behavior on the sphinx rendered scikit-learn.org.\n",
       "     See: https://github.com/scikit-learn/scikit-learn/issues/21755 */\n",
       "  display: inline-block !important;\n",
       "  position: relative;\n",
       "}\n",
       "\n",
       "#sk-container-id-5 div.sk-text-repr-fallback {\n",
       "  display: none;\n",
       "}\n",
       "\n",
       "div.sk-parallel-item,\n",
       "div.sk-serial,\n",
       "div.sk-item {\n",
       "  /* draw centered vertical line to link estimators */\n",
       "  background-image: linear-gradient(var(--sklearn-color-text-on-default-background), var(--sklearn-color-text-on-default-background));\n",
       "  background-size: 2px 100%;\n",
       "  background-repeat: no-repeat;\n",
       "  background-position: center center;\n",
       "}\n",
       "\n",
       "/* Parallel-specific style estimator block */\n",
       "\n",
       "#sk-container-id-5 div.sk-parallel-item::after {\n",
       "  content: \"\";\n",
       "  width: 100%;\n",
       "  border-bottom: 2px solid var(--sklearn-color-text-on-default-background);\n",
       "  flex-grow: 1;\n",
       "}\n",
       "\n",
       "#sk-container-id-5 div.sk-parallel {\n",
       "  display: flex;\n",
       "  align-items: stretch;\n",
       "  justify-content: center;\n",
       "  background-color: var(--sklearn-color-background);\n",
       "  position: relative;\n",
       "}\n",
       "\n",
       "#sk-container-id-5 div.sk-parallel-item {\n",
       "  display: flex;\n",
       "  flex-direction: column;\n",
       "}\n",
       "\n",
       "#sk-container-id-5 div.sk-parallel-item:first-child::after {\n",
       "  align-self: flex-end;\n",
       "  width: 50%;\n",
       "}\n",
       "\n",
       "#sk-container-id-5 div.sk-parallel-item:last-child::after {\n",
       "  align-self: flex-start;\n",
       "  width: 50%;\n",
       "}\n",
       "\n",
       "#sk-container-id-5 div.sk-parallel-item:only-child::after {\n",
       "  width: 0;\n",
       "}\n",
       "\n",
       "/* Serial-specific style estimator block */\n",
       "\n",
       "#sk-container-id-5 div.sk-serial {\n",
       "  display: flex;\n",
       "  flex-direction: column;\n",
       "  align-items: center;\n",
       "  background-color: var(--sklearn-color-background);\n",
       "  padding-right: 1em;\n",
       "  padding-left: 1em;\n",
       "}\n",
       "\n",
       "\n",
       "/* Toggleable style: style used for estimator/Pipeline/ColumnTransformer box that is\n",
       "clickable and can be expanded/collapsed.\n",
       "- Pipeline and ColumnTransformer use this feature and define the default style\n",
       "- Estimators will overwrite some part of the style using the `sk-estimator` class\n",
       "*/\n",
       "\n",
       "/* Pipeline and ColumnTransformer style (default) */\n",
       "\n",
       "#sk-container-id-5 div.sk-toggleable {\n",
       "  /* Default theme specific background. It is overwritten whether we have a\n",
       "  specific estimator or a Pipeline/ColumnTransformer */\n",
       "  background-color: var(--sklearn-color-background);\n",
       "}\n",
       "\n",
       "/* Toggleable label */\n",
       "#sk-container-id-5 label.sk-toggleable__label {\n",
       "  cursor: pointer;\n",
       "  display: block;\n",
       "  width: 100%;\n",
       "  margin-bottom: 0;\n",
       "  padding: 0.5em;\n",
       "  box-sizing: border-box;\n",
       "  text-align: center;\n",
       "}\n",
       "\n",
       "#sk-container-id-5 label.sk-toggleable__label-arrow:before {\n",
       "  /* Arrow on the left of the label */\n",
       "  content: \"▸\";\n",
       "  float: left;\n",
       "  margin-right: 0.25em;\n",
       "  color: var(--sklearn-color-icon);\n",
       "}\n",
       "\n",
       "#sk-container-id-5 label.sk-toggleable__label-arrow:hover:before {\n",
       "  color: var(--sklearn-color-text);\n",
       "}\n",
       "\n",
       "/* Toggleable content - dropdown */\n",
       "\n",
       "#sk-container-id-5 div.sk-toggleable__content {\n",
       "  max-height: 0;\n",
       "  max-width: 0;\n",
       "  overflow: hidden;\n",
       "  text-align: left;\n",
       "  /* unfitted */\n",
       "  background-color: var(--sklearn-color-unfitted-level-0);\n",
       "}\n",
       "\n",
       "#sk-container-id-5 div.sk-toggleable__content.fitted {\n",
       "  /* fitted */\n",
       "  background-color: var(--sklearn-color-fitted-level-0);\n",
       "}\n",
       "\n",
       "#sk-container-id-5 div.sk-toggleable__content pre {\n",
       "  margin: 0.2em;\n",
       "  border-radius: 0.25em;\n",
       "  color: var(--sklearn-color-text);\n",
       "  /* unfitted */\n",
       "  background-color: var(--sklearn-color-unfitted-level-0);\n",
       "}\n",
       "\n",
       "#sk-container-id-5 div.sk-toggleable__content.fitted pre {\n",
       "  /* unfitted */\n",
       "  background-color: var(--sklearn-color-fitted-level-0);\n",
       "}\n",
       "\n",
       "#sk-container-id-5 input.sk-toggleable__control:checked~div.sk-toggleable__content {\n",
       "  /* Expand drop-down */\n",
       "  max-height: 200px;\n",
       "  max-width: 100%;\n",
       "  overflow: auto;\n",
       "}\n",
       "\n",
       "#sk-container-id-5 input.sk-toggleable__control:checked~label.sk-toggleable__label-arrow:before {\n",
       "  content: \"▾\";\n",
       "}\n",
       "\n",
       "/* Pipeline/ColumnTransformer-specific style */\n",
       "\n",
       "#sk-container-id-5 div.sk-label input.sk-toggleable__control:checked~label.sk-toggleable__label {\n",
       "  color: var(--sklearn-color-text);\n",
       "  background-color: var(--sklearn-color-unfitted-level-2);\n",
       "}\n",
       "\n",
       "#sk-container-id-5 div.sk-label.fitted input.sk-toggleable__control:checked~label.sk-toggleable__label {\n",
       "  background-color: var(--sklearn-color-fitted-level-2);\n",
       "}\n",
       "\n",
       "/* Estimator-specific style */\n",
       "\n",
       "/* Colorize estimator box */\n",
       "#sk-container-id-5 div.sk-estimator input.sk-toggleable__control:checked~label.sk-toggleable__label {\n",
       "  /* unfitted */\n",
       "  background-color: var(--sklearn-color-unfitted-level-2);\n",
       "}\n",
       "\n",
       "#sk-container-id-5 div.sk-estimator.fitted input.sk-toggleable__control:checked~label.sk-toggleable__label {\n",
       "  /* fitted */\n",
       "  background-color: var(--sklearn-color-fitted-level-2);\n",
       "}\n",
       "\n",
       "#sk-container-id-5 div.sk-label label.sk-toggleable__label,\n",
       "#sk-container-id-5 div.sk-label label {\n",
       "  /* The background is the default theme color */\n",
       "  color: var(--sklearn-color-text-on-default-background);\n",
       "}\n",
       "\n",
       "/* On hover, darken the color of the background */\n",
       "#sk-container-id-5 div.sk-label:hover label.sk-toggleable__label {\n",
       "  color: var(--sklearn-color-text);\n",
       "  background-color: var(--sklearn-color-unfitted-level-2);\n",
       "}\n",
       "\n",
       "/* Label box, darken color on hover, fitted */\n",
       "#sk-container-id-5 div.sk-label.fitted:hover label.sk-toggleable__label.fitted {\n",
       "  color: var(--sklearn-color-text);\n",
       "  background-color: var(--sklearn-color-fitted-level-2);\n",
       "}\n",
       "\n",
       "/* Estimator label */\n",
       "\n",
       "#sk-container-id-5 div.sk-label label {\n",
       "  font-family: monospace;\n",
       "  font-weight: bold;\n",
       "  display: inline-block;\n",
       "  line-height: 1.2em;\n",
       "}\n",
       "\n",
       "#sk-container-id-5 div.sk-label-container {\n",
       "  text-align: center;\n",
       "}\n",
       "\n",
       "/* Estimator-specific */\n",
       "#sk-container-id-5 div.sk-estimator {\n",
       "  font-family: monospace;\n",
       "  border: 1px dotted var(--sklearn-color-border-box);\n",
       "  border-radius: 0.25em;\n",
       "  box-sizing: border-box;\n",
       "  margin-bottom: 0.5em;\n",
       "  /* unfitted */\n",
       "  background-color: var(--sklearn-color-unfitted-level-0);\n",
       "}\n",
       "\n",
       "#sk-container-id-5 div.sk-estimator.fitted {\n",
       "  /* fitted */\n",
       "  background-color: var(--sklearn-color-fitted-level-0);\n",
       "}\n",
       "\n",
       "/* on hover */\n",
       "#sk-container-id-5 div.sk-estimator:hover {\n",
       "  /* unfitted */\n",
       "  background-color: var(--sklearn-color-unfitted-level-2);\n",
       "}\n",
       "\n",
       "#sk-container-id-5 div.sk-estimator.fitted:hover {\n",
       "  /* fitted */\n",
       "  background-color: var(--sklearn-color-fitted-level-2);\n",
       "}\n",
       "\n",
       "/* Specification for estimator info (e.g. \"i\" and \"?\") */\n",
       "\n",
       "/* Common style for \"i\" and \"?\" */\n",
       "\n",
       ".sk-estimator-doc-link,\n",
       "a:link.sk-estimator-doc-link,\n",
       "a:visited.sk-estimator-doc-link {\n",
       "  float: right;\n",
       "  font-size: smaller;\n",
       "  line-height: 1em;\n",
       "  font-family: monospace;\n",
       "  background-color: var(--sklearn-color-background);\n",
       "  border-radius: 1em;\n",
       "  height: 1em;\n",
       "  width: 1em;\n",
       "  text-decoration: none !important;\n",
       "  margin-left: 1ex;\n",
       "  /* unfitted */\n",
       "  border: var(--sklearn-color-unfitted-level-1) 1pt solid;\n",
       "  color: var(--sklearn-color-unfitted-level-1);\n",
       "}\n",
       "\n",
       ".sk-estimator-doc-link.fitted,\n",
       "a:link.sk-estimator-doc-link.fitted,\n",
       "a:visited.sk-estimator-doc-link.fitted {\n",
       "  /* fitted */\n",
       "  border: var(--sklearn-color-fitted-level-1) 1pt solid;\n",
       "  color: var(--sklearn-color-fitted-level-1);\n",
       "}\n",
       "\n",
       "/* On hover */\n",
       "div.sk-estimator:hover .sk-estimator-doc-link:hover,\n",
       ".sk-estimator-doc-link:hover,\n",
       "div.sk-label-container:hover .sk-estimator-doc-link:hover,\n",
       ".sk-estimator-doc-link:hover {\n",
       "  /* unfitted */\n",
       "  background-color: var(--sklearn-color-unfitted-level-3);\n",
       "  color: var(--sklearn-color-background);\n",
       "  text-decoration: none;\n",
       "}\n",
       "\n",
       "div.sk-estimator.fitted:hover .sk-estimator-doc-link.fitted:hover,\n",
       ".sk-estimator-doc-link.fitted:hover,\n",
       "div.sk-label-container:hover .sk-estimator-doc-link.fitted:hover,\n",
       ".sk-estimator-doc-link.fitted:hover {\n",
       "  /* fitted */\n",
       "  background-color: var(--sklearn-color-fitted-level-3);\n",
       "  color: var(--sklearn-color-background);\n",
       "  text-decoration: none;\n",
       "}\n",
       "\n",
       "/* Span, style for the box shown on hovering the info icon */\n",
       ".sk-estimator-doc-link span {\n",
       "  display: none;\n",
       "  z-index: 9999;\n",
       "  position: relative;\n",
       "  font-weight: normal;\n",
       "  right: .2ex;\n",
       "  padding: .5ex;\n",
       "  margin: .5ex;\n",
       "  width: min-content;\n",
       "  min-width: 20ex;\n",
       "  max-width: 50ex;\n",
       "  color: var(--sklearn-color-text);\n",
       "  box-shadow: 2pt 2pt 4pt #999;\n",
       "  /* unfitted */\n",
       "  background: var(--sklearn-color-unfitted-level-0);\n",
       "  border: .5pt solid var(--sklearn-color-unfitted-level-3);\n",
       "}\n",
       "\n",
       ".sk-estimator-doc-link.fitted span {\n",
       "  /* fitted */\n",
       "  background: var(--sklearn-color-fitted-level-0);\n",
       "  border: var(--sklearn-color-fitted-level-3);\n",
       "}\n",
       "\n",
       ".sk-estimator-doc-link:hover span {\n",
       "  display: block;\n",
       "}\n",
       "\n",
       "/* \"?\"-specific style due to the `<a>` HTML tag */\n",
       "\n",
       "#sk-container-id-5 a.estimator_doc_link {\n",
       "  float: right;\n",
       "  font-size: 1rem;\n",
       "  line-height: 1em;\n",
       "  font-family: monospace;\n",
       "  background-color: var(--sklearn-color-background);\n",
       "  border-radius: 1rem;\n",
       "  height: 1rem;\n",
       "  width: 1rem;\n",
       "  text-decoration: none;\n",
       "  /* unfitted */\n",
       "  color: var(--sklearn-color-unfitted-level-1);\n",
       "  border: var(--sklearn-color-unfitted-level-1) 1pt solid;\n",
       "}\n",
       "\n",
       "#sk-container-id-5 a.estimator_doc_link.fitted {\n",
       "  /* fitted */\n",
       "  border: var(--sklearn-color-fitted-level-1) 1pt solid;\n",
       "  color: var(--sklearn-color-fitted-level-1);\n",
       "}\n",
       "\n",
       "/* On hover */\n",
       "#sk-container-id-5 a.estimator_doc_link:hover {\n",
       "  /* unfitted */\n",
       "  background-color: var(--sklearn-color-unfitted-level-3);\n",
       "  color: var(--sklearn-color-background);\n",
       "  text-decoration: none;\n",
       "}\n",
       "\n",
       "#sk-container-id-5 a.estimator_doc_link.fitted:hover {\n",
       "  /* fitted */\n",
       "  background-color: var(--sklearn-color-fitted-level-3);\n",
       "}\n",
       "</style><div id=\"sk-container-id-5\" class=\"sk-top-container\"><div class=\"sk-text-repr-fallback\"><pre>GridSearchCV(estimator=RandomForestClassifier(),\n",
       "             param_grid={&#x27;bootstrap&#x27;: [True, False], &#x27;max_features&#x27;: [2, 3, 4],\n",
       "                         &#x27;n_estimators&#x27;: [64, 100, 128, 200],\n",
       "                         &#x27;oob_score&#x27;: [True, False]},\n",
       "             verbose=2)</pre><b>In a Jupyter environment, please rerun this cell to show the HTML representation or trust the notebook. <br />On GitHub, the HTML representation is unable to render, please try loading this page with nbviewer.org.</b></div><div class=\"sk-container\" hidden><div class=\"sk-item sk-dashed-wrapped\"><div class=\"sk-label-container\"><div class=\"sk-label fitted sk-toggleable\"><input class=\"sk-toggleable__control sk-hidden--visually\" id=\"sk-estimator-id-13\" type=\"checkbox\" ><label for=\"sk-estimator-id-13\" class=\"sk-toggleable__label fitted sk-toggleable__label-arrow fitted\">&nbsp;&nbsp;GridSearchCV<a class=\"sk-estimator-doc-link fitted\" rel=\"noreferrer\" target=\"_blank\" href=\"https://scikit-learn.org/1.4/modules/generated/sklearn.model_selection.GridSearchCV.html\">?<span>Documentation for GridSearchCV</span></a><span class=\"sk-estimator-doc-link fitted\">i<span>Fitted</span></span></label><div class=\"sk-toggleable__content fitted\"><pre>GridSearchCV(estimator=RandomForestClassifier(),\n",
       "             param_grid={&#x27;bootstrap&#x27;: [True, False], &#x27;max_features&#x27;: [2, 3, 4],\n",
       "                         &#x27;n_estimators&#x27;: [64, 100, 128, 200],\n",
       "                         &#x27;oob_score&#x27;: [True, False]},\n",
       "             verbose=2)</pre></div> </div></div><div class=\"sk-parallel\"><div class=\"sk-parallel-item\"><div class=\"sk-item\"><div class=\"sk-label-container\"><div class=\"sk-label fitted sk-toggleable\"><input class=\"sk-toggleable__control sk-hidden--visually\" id=\"sk-estimator-id-14\" type=\"checkbox\" ><label for=\"sk-estimator-id-14\" class=\"sk-toggleable__label fitted sk-toggleable__label-arrow fitted\">estimator: RandomForestClassifier</label><div class=\"sk-toggleable__content fitted\"><pre>RandomForestClassifier()</pre></div> </div></div><div class=\"sk-serial\"><div class=\"sk-item\"><div class=\"sk-estimator fitted sk-toggleable\"><input class=\"sk-toggleable__control sk-hidden--visually\" id=\"sk-estimator-id-15\" type=\"checkbox\" ><label for=\"sk-estimator-id-15\" class=\"sk-toggleable__label fitted sk-toggleable__label-arrow fitted\">&nbsp;RandomForestClassifier<a class=\"sk-estimator-doc-link fitted\" rel=\"noreferrer\" target=\"_blank\" href=\"https://scikit-learn.org/1.4/modules/generated/sklearn.ensemble.RandomForestClassifier.html\">?<span>Documentation for RandomForestClassifier</span></a></label><div class=\"sk-toggleable__content fitted\"><pre>RandomForestClassifier()</pre></div> </div></div></div></div></div></div></div></div></div>"
      ],
      "text/plain": [
       "GridSearchCV(estimator=RandomForestClassifier(),\n",
       "             param_grid={'bootstrap': [True, False], 'max_features': [2, 3, 4],\n",
       "                         'n_estimators': [64, 100, 128, 200],\n",
       "                         'oob_score': [True, False]},\n",
       "             verbose=2)"
      ]
     },
     "execution_count": 622,
     "metadata": {},
     "output_type": "execute_result"
    }
   ],
   "source": [
    "grid_rfc_model.fit(scaled_X_train, y_train)"
   ]
  },
  {
   "cell_type": "code",
   "execution_count": 626,
   "id": "853e4cb7-a0f9-4f42-9aea-b13d2244fc25",
   "metadata": {},
   "outputs": [],
   "source": [
    "y_pred = grid_rfc_model.predict(scaled_X_test)"
   ]
  },
  {
   "cell_type": "code",
   "execution_count": 628,
   "id": "245064c6-3bf7-4730-a1bf-59e0ee92cbf6",
   "metadata": {},
   "outputs": [
    {
     "data": {
      "text/plain": [
       "0.9612913447546937"
      ]
     },
     "execution_count": 628,
     "metadata": {},
     "output_type": "execute_result"
    }
   ],
   "source": [
    "accuracy_score(y_test,y_pred)"
   ]
  },
  {
   "cell_type": "code",
   "execution_count": 630,
   "id": "8bccc6c6-643b-4f36-b4d8-fa4171d285e7",
   "metadata": {},
   "outputs": [
    {
     "data": {
      "text/plain": [
       "array([[230115,   7282],\n",
       "       [  2002,    444]], dtype=int64)"
      ]
     },
     "execution_count": 630,
     "metadata": {},
     "output_type": "execute_result"
    }
   ],
   "source": [
    "confusion_matrix(y_test,y_pred)"
   ]
  },
  {
   "cell_type": "code",
   "execution_count": 632,
   "id": "88ca6cff-05cd-4fff-a644-be141a488b14",
   "metadata": {},
   "outputs": [
    {
     "name": "stdout",
     "output_type": "stream",
     "text": [
      "              precision    recall  f1-score   support\n",
      "\n",
      "           0       0.99      0.97      0.98    237397\n",
      "           1       0.06      0.18      0.09      2446\n",
      "\n",
      "    accuracy                           0.96    239843\n",
      "   macro avg       0.52      0.58      0.53    239843\n",
      "weighted avg       0.98      0.96      0.97    239843\n",
      "\n"
     ]
    }
   ],
   "source": [
    "print(classification_report(y_test,y_pred))"
   ]
  },
  {
   "cell_type": "code",
   "execution_count": 624,
   "id": "a1ad601a-6340-44cf-a624-61b0792db056",
   "metadata": {},
   "outputs": [
    {
     "data": {
      "text/plain": [
       "{'bootstrap': True, 'max_features': 4, 'n_estimators': 64, 'oob_score': True}"
      ]
     },
     "execution_count": 624,
     "metadata": {},
     "output_type": "execute_result"
    }
   ],
   "source": [
    "grid_rfc_model.best_params_"
   ]
  },
  {
   "cell_type": "code",
   "execution_count": 634,
   "id": "a987e5a9-c0b3-423b-8340-c8c4a585eb65",
   "metadata": {},
   "outputs": [],
   "source": [
    "param_grid = {\"n_estimators\":[1,10,40,100],'max_depth':[3,4,5, 6]}"
   ]
  },
  {
   "cell_type": "code",
   "execution_count": 644,
   "id": "c83458e8-e170-4b15-bb55-9b8369bb990a",
   "metadata": {},
   "outputs": [],
   "source": [
    "gb_model = GradientBoostingClassifier()"
   ]
  },
  {
   "cell_type": "code",
   "execution_count": 646,
   "id": "37ab3140-b340-4773-8fde-315e06c5d825",
   "metadata": {},
   "outputs": [],
   "source": [
    "grid_gb_model = GridSearchCV(gb_model,param_grid, verbose=2)"
   ]
  },
  {
   "cell_type": "code",
   "execution_count": 648,
   "id": "706d0f54-b541-4425-8963-1e8bfa746f23",
   "metadata": {},
   "outputs": [
    {
     "name": "stdout",
     "output_type": "stream",
     "text": [
      "Fitting 5 folds for each of 16 candidates, totalling 80 fits\n",
      "[CV] END ........................max_depth=3, n_estimators=1; total time=   0.3s\n",
      "[CV] END ........................max_depth=3, n_estimators=1; total time=   0.3s\n",
      "[CV] END ........................max_depth=3, n_estimators=1; total time=   0.3s\n",
      "[CV] END ........................max_depth=3, n_estimators=1; total time=   0.3s\n",
      "[CV] END ........................max_depth=3, n_estimators=1; total time=   0.3s\n",
      "[CV] END .......................max_depth=3, n_estimators=10; total time=   3.0s\n",
      "[CV] END .......................max_depth=3, n_estimators=10; total time=   2.9s\n",
      "[CV] END .......................max_depth=3, n_estimators=10; total time=   2.9s\n",
      "[CV] END .......................max_depth=3, n_estimators=10; total time=   2.9s\n",
      "[CV] END .......................max_depth=3, n_estimators=10; total time=   3.0s\n",
      "[CV] END .......................max_depth=3, n_estimators=40; total time=  12.2s\n",
      "[CV] END .......................max_depth=3, n_estimators=40; total time=  12.1s\n",
      "[CV] END .......................max_depth=3, n_estimators=40; total time=  12.0s\n",
      "[CV] END .......................max_depth=3, n_estimators=40; total time=  11.8s\n",
      "[CV] END .......................max_depth=3, n_estimators=40; total time=  12.1s\n",
      "[CV] END ......................max_depth=3, n_estimators=100; total time=  30.6s\n",
      "[CV] END ......................max_depth=3, n_estimators=100; total time=  30.8s\n",
      "[CV] END ......................max_depth=3, n_estimators=100; total time=  30.9s\n",
      "[CV] END ......................max_depth=3, n_estimators=100; total time=  31.0s\n",
      "[CV] END ......................max_depth=3, n_estimators=100; total time=  31.6s\n",
      "[CV] END ........................max_depth=4, n_estimators=1; total time=   0.4s\n",
      "[CV] END ........................max_depth=4, n_estimators=1; total time=   0.3s\n",
      "[CV] END ........................max_depth=4, n_estimators=1; total time=   0.3s\n",
      "[CV] END ........................max_depth=4, n_estimators=1; total time=   0.3s\n",
      "[CV] END ........................max_depth=4, n_estimators=1; total time=   0.3s\n",
      "[CV] END .......................max_depth=4, n_estimators=10; total time=   3.6s\n",
      "[CV] END .......................max_depth=4, n_estimators=10; total time=   3.7s\n",
      "[CV] END .......................max_depth=4, n_estimators=10; total time=   3.7s\n",
      "[CV] END .......................max_depth=4, n_estimators=10; total time=   3.7s\n",
      "[CV] END .......................max_depth=4, n_estimators=10; total time=   3.6s\n",
      "[CV] END .......................max_depth=4, n_estimators=40; total time=  15.2s\n",
      "[CV] END .......................max_depth=4, n_estimators=40; total time=  15.8s\n",
      "[CV] END .......................max_depth=4, n_estimators=40; total time=  15.4s\n",
      "[CV] END .......................max_depth=4, n_estimators=40; total time=  15.1s\n",
      "[CV] END .......................max_depth=4, n_estimators=40; total time=  15.7s\n",
      "[CV] END ......................max_depth=4, n_estimators=100; total time=  39.8s\n",
      "[CV] END ......................max_depth=4, n_estimators=100; total time=  40.4s\n",
      "[CV] END ......................max_depth=4, n_estimators=100; total time=  41.3s\n",
      "[CV] END ......................max_depth=4, n_estimators=100; total time= 1.0min\n",
      "[CV] END ......................max_depth=4, n_estimators=100; total time=  50.9s\n",
      "[CV] END ........................max_depth=5, n_estimators=1; total time=   0.7s\n",
      "[CV] END ........................max_depth=5, n_estimators=1; total time=   0.7s\n",
      "[CV] END ........................max_depth=5, n_estimators=1; total time=   0.6s\n",
      "[CV] END ........................max_depth=5, n_estimators=1; total time=   0.5s\n",
      "[CV] END ........................max_depth=5, n_estimators=1; total time=   0.4s\n",
      "[CV] END .......................max_depth=5, n_estimators=10; total time=   5.3s\n",
      "[CV] END .......................max_depth=5, n_estimators=10; total time=   5.2s\n",
      "[CV] END .......................max_depth=5, n_estimators=10; total time=   5.1s\n",
      "[CV] END .......................max_depth=5, n_estimators=10; total time=   4.9s\n",
      "[CV] END .......................max_depth=5, n_estimators=10; total time=   4.9s\n",
      "[CV] END .......................max_depth=5, n_estimators=40; total time=  20.1s\n",
      "[CV] END .......................max_depth=5, n_estimators=40; total time=  19.4s\n",
      "[CV] END .......................max_depth=5, n_estimators=40; total time=  19.6s\n",
      "[CV] END .......................max_depth=5, n_estimators=40; total time=  19.8s\n",
      "[CV] END .......................max_depth=5, n_estimators=40; total time=  20.5s\n",
      "[CV] END ......................max_depth=5, n_estimators=100; total time=  50.9s\n",
      "[CV] END ......................max_depth=5, n_estimators=100; total time=  50.5s\n",
      "[CV] END ......................max_depth=5, n_estimators=100; total time=  51.4s\n",
      "[CV] END ......................max_depth=5, n_estimators=100; total time=  51.8s\n",
      "[CV] END ......................max_depth=5, n_estimators=100; total time=  52.7s\n",
      "[CV] END ........................max_depth=6, n_estimators=1; total time=   0.5s\n",
      "[CV] END ........................max_depth=6, n_estimators=1; total time=   0.6s\n",
      "[CV] END ........................max_depth=6, n_estimators=1; total time=   0.5s\n",
      "[CV] END ........................max_depth=6, n_estimators=1; total time=   0.5s\n",
      "[CV] END ........................max_depth=6, n_estimators=1; total time=   0.5s\n",
      "[CV] END .......................max_depth=6, n_estimators=10; total time=   5.0s\n",
      "[CV] END .......................max_depth=6, n_estimators=10; total time=   5.6s\n",
      "[CV] END .......................max_depth=6, n_estimators=10; total time=   5.3s\n",
      "[CV] END .......................max_depth=6, n_estimators=10; total time=   5.4s\n",
      "[CV] END .......................max_depth=6, n_estimators=10; total time=   5.6s\n",
      "[CV] END .......................max_depth=6, n_estimators=40; total time=  22.3s\n",
      "[CV] END .......................max_depth=6, n_estimators=40; total time=  22.8s\n",
      "[CV] END .......................max_depth=6, n_estimators=40; total time=  22.2s\n",
      "[CV] END .......................max_depth=6, n_estimators=40; total time=  21.5s\n",
      "[CV] END .......................max_depth=6, n_estimators=40; total time=  21.9s\n",
      "[CV] END ......................max_depth=6, n_estimators=100; total time= 1.1min\n",
      "[CV] END ......................max_depth=6, n_estimators=100; total time= 1.1min\n",
      "[CV] END ......................max_depth=6, n_estimators=100; total time= 1.0min\n",
      "[CV] END ......................max_depth=6, n_estimators=100; total time=  57.1s\n",
      "[CV] END ......................max_depth=6, n_estimators=100; total time=  59.5s\n"
     ]
    },
    {
     "data": {
      "text/html": [
       "<style>#sk-container-id-6 {\n",
       "  /* Definition of color scheme common for light and dark mode */\n",
       "  --sklearn-color-text: black;\n",
       "  --sklearn-color-line: gray;\n",
       "  /* Definition of color scheme for unfitted estimators */\n",
       "  --sklearn-color-unfitted-level-0: #fff5e6;\n",
       "  --sklearn-color-unfitted-level-1: #f6e4d2;\n",
       "  --sklearn-color-unfitted-level-2: #ffe0b3;\n",
       "  --sklearn-color-unfitted-level-3: chocolate;\n",
       "  /* Definition of color scheme for fitted estimators */\n",
       "  --sklearn-color-fitted-level-0: #f0f8ff;\n",
       "  --sklearn-color-fitted-level-1: #d4ebff;\n",
       "  --sklearn-color-fitted-level-2: #b3dbfd;\n",
       "  --sklearn-color-fitted-level-3: cornflowerblue;\n",
       "\n",
       "  /* Specific color for light theme */\n",
       "  --sklearn-color-text-on-default-background: var(--sg-text-color, var(--theme-code-foreground, var(--jp-content-font-color1, black)));\n",
       "  --sklearn-color-background: var(--sg-background-color, var(--theme-background, var(--jp-layout-color0, white)));\n",
       "  --sklearn-color-border-box: var(--sg-text-color, var(--theme-code-foreground, var(--jp-content-font-color1, black)));\n",
       "  --sklearn-color-icon: #696969;\n",
       "\n",
       "  @media (prefers-color-scheme: dark) {\n",
       "    /* Redefinition of color scheme for dark theme */\n",
       "    --sklearn-color-text-on-default-background: var(--sg-text-color, var(--theme-code-foreground, var(--jp-content-font-color1, white)));\n",
       "    --sklearn-color-background: var(--sg-background-color, var(--theme-background, var(--jp-layout-color0, #111)));\n",
       "    --sklearn-color-border-box: var(--sg-text-color, var(--theme-code-foreground, var(--jp-content-font-color1, white)));\n",
       "    --sklearn-color-icon: #878787;\n",
       "  }\n",
       "}\n",
       "\n",
       "#sk-container-id-6 {\n",
       "  color: var(--sklearn-color-text);\n",
       "}\n",
       "\n",
       "#sk-container-id-6 pre {\n",
       "  padding: 0;\n",
       "}\n",
       "\n",
       "#sk-container-id-6 input.sk-hidden--visually {\n",
       "  border: 0;\n",
       "  clip: rect(1px 1px 1px 1px);\n",
       "  clip: rect(1px, 1px, 1px, 1px);\n",
       "  height: 1px;\n",
       "  margin: -1px;\n",
       "  overflow: hidden;\n",
       "  padding: 0;\n",
       "  position: absolute;\n",
       "  width: 1px;\n",
       "}\n",
       "\n",
       "#sk-container-id-6 div.sk-dashed-wrapped {\n",
       "  border: 1px dashed var(--sklearn-color-line);\n",
       "  margin: 0 0.4em 0.5em 0.4em;\n",
       "  box-sizing: border-box;\n",
       "  padding-bottom: 0.4em;\n",
       "  background-color: var(--sklearn-color-background);\n",
       "}\n",
       "\n",
       "#sk-container-id-6 div.sk-container {\n",
       "  /* jupyter's `normalize.less` sets `[hidden] { display: none; }`\n",
       "     but bootstrap.min.css set `[hidden] { display: none !important; }`\n",
       "     so we also need the `!important` here to be able to override the\n",
       "     default hidden behavior on the sphinx rendered scikit-learn.org.\n",
       "     See: https://github.com/scikit-learn/scikit-learn/issues/21755 */\n",
       "  display: inline-block !important;\n",
       "  position: relative;\n",
       "}\n",
       "\n",
       "#sk-container-id-6 div.sk-text-repr-fallback {\n",
       "  display: none;\n",
       "}\n",
       "\n",
       "div.sk-parallel-item,\n",
       "div.sk-serial,\n",
       "div.sk-item {\n",
       "  /* draw centered vertical line to link estimators */\n",
       "  background-image: linear-gradient(var(--sklearn-color-text-on-default-background), var(--sklearn-color-text-on-default-background));\n",
       "  background-size: 2px 100%;\n",
       "  background-repeat: no-repeat;\n",
       "  background-position: center center;\n",
       "}\n",
       "\n",
       "/* Parallel-specific style estimator block */\n",
       "\n",
       "#sk-container-id-6 div.sk-parallel-item::after {\n",
       "  content: \"\";\n",
       "  width: 100%;\n",
       "  border-bottom: 2px solid var(--sklearn-color-text-on-default-background);\n",
       "  flex-grow: 1;\n",
       "}\n",
       "\n",
       "#sk-container-id-6 div.sk-parallel {\n",
       "  display: flex;\n",
       "  align-items: stretch;\n",
       "  justify-content: center;\n",
       "  background-color: var(--sklearn-color-background);\n",
       "  position: relative;\n",
       "}\n",
       "\n",
       "#sk-container-id-6 div.sk-parallel-item {\n",
       "  display: flex;\n",
       "  flex-direction: column;\n",
       "}\n",
       "\n",
       "#sk-container-id-6 div.sk-parallel-item:first-child::after {\n",
       "  align-self: flex-end;\n",
       "  width: 50%;\n",
       "}\n",
       "\n",
       "#sk-container-id-6 div.sk-parallel-item:last-child::after {\n",
       "  align-self: flex-start;\n",
       "  width: 50%;\n",
       "}\n",
       "\n",
       "#sk-container-id-6 div.sk-parallel-item:only-child::after {\n",
       "  width: 0;\n",
       "}\n",
       "\n",
       "/* Serial-specific style estimator block */\n",
       "\n",
       "#sk-container-id-6 div.sk-serial {\n",
       "  display: flex;\n",
       "  flex-direction: column;\n",
       "  align-items: center;\n",
       "  background-color: var(--sklearn-color-background);\n",
       "  padding-right: 1em;\n",
       "  padding-left: 1em;\n",
       "}\n",
       "\n",
       "\n",
       "/* Toggleable style: style used for estimator/Pipeline/ColumnTransformer box that is\n",
       "clickable and can be expanded/collapsed.\n",
       "- Pipeline and ColumnTransformer use this feature and define the default style\n",
       "- Estimators will overwrite some part of the style using the `sk-estimator` class\n",
       "*/\n",
       "\n",
       "/* Pipeline and ColumnTransformer style (default) */\n",
       "\n",
       "#sk-container-id-6 div.sk-toggleable {\n",
       "  /* Default theme specific background. It is overwritten whether we have a\n",
       "  specific estimator or a Pipeline/ColumnTransformer */\n",
       "  background-color: var(--sklearn-color-background);\n",
       "}\n",
       "\n",
       "/* Toggleable label */\n",
       "#sk-container-id-6 label.sk-toggleable__label {\n",
       "  cursor: pointer;\n",
       "  display: block;\n",
       "  width: 100%;\n",
       "  margin-bottom: 0;\n",
       "  padding: 0.5em;\n",
       "  box-sizing: border-box;\n",
       "  text-align: center;\n",
       "}\n",
       "\n",
       "#sk-container-id-6 label.sk-toggleable__label-arrow:before {\n",
       "  /* Arrow on the left of the label */\n",
       "  content: \"▸\";\n",
       "  float: left;\n",
       "  margin-right: 0.25em;\n",
       "  color: var(--sklearn-color-icon);\n",
       "}\n",
       "\n",
       "#sk-container-id-6 label.sk-toggleable__label-arrow:hover:before {\n",
       "  color: var(--sklearn-color-text);\n",
       "}\n",
       "\n",
       "/* Toggleable content - dropdown */\n",
       "\n",
       "#sk-container-id-6 div.sk-toggleable__content {\n",
       "  max-height: 0;\n",
       "  max-width: 0;\n",
       "  overflow: hidden;\n",
       "  text-align: left;\n",
       "  /* unfitted */\n",
       "  background-color: var(--sklearn-color-unfitted-level-0);\n",
       "}\n",
       "\n",
       "#sk-container-id-6 div.sk-toggleable__content.fitted {\n",
       "  /* fitted */\n",
       "  background-color: var(--sklearn-color-fitted-level-0);\n",
       "}\n",
       "\n",
       "#sk-container-id-6 div.sk-toggleable__content pre {\n",
       "  margin: 0.2em;\n",
       "  border-radius: 0.25em;\n",
       "  color: var(--sklearn-color-text);\n",
       "  /* unfitted */\n",
       "  background-color: var(--sklearn-color-unfitted-level-0);\n",
       "}\n",
       "\n",
       "#sk-container-id-6 div.sk-toggleable__content.fitted pre {\n",
       "  /* unfitted */\n",
       "  background-color: var(--sklearn-color-fitted-level-0);\n",
       "}\n",
       "\n",
       "#sk-container-id-6 input.sk-toggleable__control:checked~div.sk-toggleable__content {\n",
       "  /* Expand drop-down */\n",
       "  max-height: 200px;\n",
       "  max-width: 100%;\n",
       "  overflow: auto;\n",
       "}\n",
       "\n",
       "#sk-container-id-6 input.sk-toggleable__control:checked~label.sk-toggleable__label-arrow:before {\n",
       "  content: \"▾\";\n",
       "}\n",
       "\n",
       "/* Pipeline/ColumnTransformer-specific style */\n",
       "\n",
       "#sk-container-id-6 div.sk-label input.sk-toggleable__control:checked~label.sk-toggleable__label {\n",
       "  color: var(--sklearn-color-text);\n",
       "  background-color: var(--sklearn-color-unfitted-level-2);\n",
       "}\n",
       "\n",
       "#sk-container-id-6 div.sk-label.fitted input.sk-toggleable__control:checked~label.sk-toggleable__label {\n",
       "  background-color: var(--sklearn-color-fitted-level-2);\n",
       "}\n",
       "\n",
       "/* Estimator-specific style */\n",
       "\n",
       "/* Colorize estimator box */\n",
       "#sk-container-id-6 div.sk-estimator input.sk-toggleable__control:checked~label.sk-toggleable__label {\n",
       "  /* unfitted */\n",
       "  background-color: var(--sklearn-color-unfitted-level-2);\n",
       "}\n",
       "\n",
       "#sk-container-id-6 div.sk-estimator.fitted input.sk-toggleable__control:checked~label.sk-toggleable__label {\n",
       "  /* fitted */\n",
       "  background-color: var(--sklearn-color-fitted-level-2);\n",
       "}\n",
       "\n",
       "#sk-container-id-6 div.sk-label label.sk-toggleable__label,\n",
       "#sk-container-id-6 div.sk-label label {\n",
       "  /* The background is the default theme color */\n",
       "  color: var(--sklearn-color-text-on-default-background);\n",
       "}\n",
       "\n",
       "/* On hover, darken the color of the background */\n",
       "#sk-container-id-6 div.sk-label:hover label.sk-toggleable__label {\n",
       "  color: var(--sklearn-color-text);\n",
       "  background-color: var(--sklearn-color-unfitted-level-2);\n",
       "}\n",
       "\n",
       "/* Label box, darken color on hover, fitted */\n",
       "#sk-container-id-6 div.sk-label.fitted:hover label.sk-toggleable__label.fitted {\n",
       "  color: var(--sklearn-color-text);\n",
       "  background-color: var(--sklearn-color-fitted-level-2);\n",
       "}\n",
       "\n",
       "/* Estimator label */\n",
       "\n",
       "#sk-container-id-6 div.sk-label label {\n",
       "  font-family: monospace;\n",
       "  font-weight: bold;\n",
       "  display: inline-block;\n",
       "  line-height: 1.2em;\n",
       "}\n",
       "\n",
       "#sk-container-id-6 div.sk-label-container {\n",
       "  text-align: center;\n",
       "}\n",
       "\n",
       "/* Estimator-specific */\n",
       "#sk-container-id-6 div.sk-estimator {\n",
       "  font-family: monospace;\n",
       "  border: 1px dotted var(--sklearn-color-border-box);\n",
       "  border-radius: 0.25em;\n",
       "  box-sizing: border-box;\n",
       "  margin-bottom: 0.5em;\n",
       "  /* unfitted */\n",
       "  background-color: var(--sklearn-color-unfitted-level-0);\n",
       "}\n",
       "\n",
       "#sk-container-id-6 div.sk-estimator.fitted {\n",
       "  /* fitted */\n",
       "  background-color: var(--sklearn-color-fitted-level-0);\n",
       "}\n",
       "\n",
       "/* on hover */\n",
       "#sk-container-id-6 div.sk-estimator:hover {\n",
       "  /* unfitted */\n",
       "  background-color: var(--sklearn-color-unfitted-level-2);\n",
       "}\n",
       "\n",
       "#sk-container-id-6 div.sk-estimator.fitted:hover {\n",
       "  /* fitted */\n",
       "  background-color: var(--sklearn-color-fitted-level-2);\n",
       "}\n",
       "\n",
       "/* Specification for estimator info (e.g. \"i\" and \"?\") */\n",
       "\n",
       "/* Common style for \"i\" and \"?\" */\n",
       "\n",
       ".sk-estimator-doc-link,\n",
       "a:link.sk-estimator-doc-link,\n",
       "a:visited.sk-estimator-doc-link {\n",
       "  float: right;\n",
       "  font-size: smaller;\n",
       "  line-height: 1em;\n",
       "  font-family: monospace;\n",
       "  background-color: var(--sklearn-color-background);\n",
       "  border-radius: 1em;\n",
       "  height: 1em;\n",
       "  width: 1em;\n",
       "  text-decoration: none !important;\n",
       "  margin-left: 1ex;\n",
       "  /* unfitted */\n",
       "  border: var(--sklearn-color-unfitted-level-1) 1pt solid;\n",
       "  color: var(--sklearn-color-unfitted-level-1);\n",
       "}\n",
       "\n",
       ".sk-estimator-doc-link.fitted,\n",
       "a:link.sk-estimator-doc-link.fitted,\n",
       "a:visited.sk-estimator-doc-link.fitted {\n",
       "  /* fitted */\n",
       "  border: var(--sklearn-color-fitted-level-1) 1pt solid;\n",
       "  color: var(--sklearn-color-fitted-level-1);\n",
       "}\n",
       "\n",
       "/* On hover */\n",
       "div.sk-estimator:hover .sk-estimator-doc-link:hover,\n",
       ".sk-estimator-doc-link:hover,\n",
       "div.sk-label-container:hover .sk-estimator-doc-link:hover,\n",
       ".sk-estimator-doc-link:hover {\n",
       "  /* unfitted */\n",
       "  background-color: var(--sklearn-color-unfitted-level-3);\n",
       "  color: var(--sklearn-color-background);\n",
       "  text-decoration: none;\n",
       "}\n",
       "\n",
       "div.sk-estimator.fitted:hover .sk-estimator-doc-link.fitted:hover,\n",
       ".sk-estimator-doc-link.fitted:hover,\n",
       "div.sk-label-container:hover .sk-estimator-doc-link.fitted:hover,\n",
       ".sk-estimator-doc-link.fitted:hover {\n",
       "  /* fitted */\n",
       "  background-color: var(--sklearn-color-fitted-level-3);\n",
       "  color: var(--sklearn-color-background);\n",
       "  text-decoration: none;\n",
       "}\n",
       "\n",
       "/* Span, style for the box shown on hovering the info icon */\n",
       ".sk-estimator-doc-link span {\n",
       "  display: none;\n",
       "  z-index: 9999;\n",
       "  position: relative;\n",
       "  font-weight: normal;\n",
       "  right: .2ex;\n",
       "  padding: .5ex;\n",
       "  margin: .5ex;\n",
       "  width: min-content;\n",
       "  min-width: 20ex;\n",
       "  max-width: 50ex;\n",
       "  color: var(--sklearn-color-text);\n",
       "  box-shadow: 2pt 2pt 4pt #999;\n",
       "  /* unfitted */\n",
       "  background: var(--sklearn-color-unfitted-level-0);\n",
       "  border: .5pt solid var(--sklearn-color-unfitted-level-3);\n",
       "}\n",
       "\n",
       ".sk-estimator-doc-link.fitted span {\n",
       "  /* fitted */\n",
       "  background: var(--sklearn-color-fitted-level-0);\n",
       "  border: var(--sklearn-color-fitted-level-3);\n",
       "}\n",
       "\n",
       ".sk-estimator-doc-link:hover span {\n",
       "  display: block;\n",
       "}\n",
       "\n",
       "/* \"?\"-specific style due to the `<a>` HTML tag */\n",
       "\n",
       "#sk-container-id-6 a.estimator_doc_link {\n",
       "  float: right;\n",
       "  font-size: 1rem;\n",
       "  line-height: 1em;\n",
       "  font-family: monospace;\n",
       "  background-color: var(--sklearn-color-background);\n",
       "  border-radius: 1rem;\n",
       "  height: 1rem;\n",
       "  width: 1rem;\n",
       "  text-decoration: none;\n",
       "  /* unfitted */\n",
       "  color: var(--sklearn-color-unfitted-level-1);\n",
       "  border: var(--sklearn-color-unfitted-level-1) 1pt solid;\n",
       "}\n",
       "\n",
       "#sk-container-id-6 a.estimator_doc_link.fitted {\n",
       "  /* fitted */\n",
       "  border: var(--sklearn-color-fitted-level-1) 1pt solid;\n",
       "  color: var(--sklearn-color-fitted-level-1);\n",
       "}\n",
       "\n",
       "/* On hover */\n",
       "#sk-container-id-6 a.estimator_doc_link:hover {\n",
       "  /* unfitted */\n",
       "  background-color: var(--sklearn-color-unfitted-level-3);\n",
       "  color: var(--sklearn-color-background);\n",
       "  text-decoration: none;\n",
       "}\n",
       "\n",
       "#sk-container-id-6 a.estimator_doc_link.fitted:hover {\n",
       "  /* fitted */\n",
       "  background-color: var(--sklearn-color-fitted-level-3);\n",
       "}\n",
       "</style><div id=\"sk-container-id-6\" class=\"sk-top-container\"><div class=\"sk-text-repr-fallback\"><pre>GridSearchCV(estimator=GradientBoostingClassifier(),\n",
       "             param_grid={&#x27;max_depth&#x27;: [3, 4, 5, 6],\n",
       "                         &#x27;n_estimators&#x27;: [1, 10, 40, 100]},\n",
       "             verbose=2)</pre><b>In a Jupyter environment, please rerun this cell to show the HTML representation or trust the notebook. <br />On GitHub, the HTML representation is unable to render, please try loading this page with nbviewer.org.</b></div><div class=\"sk-container\" hidden><div class=\"sk-item sk-dashed-wrapped\"><div class=\"sk-label-container\"><div class=\"sk-label fitted sk-toggleable\"><input class=\"sk-toggleable__control sk-hidden--visually\" id=\"sk-estimator-id-16\" type=\"checkbox\" ><label for=\"sk-estimator-id-16\" class=\"sk-toggleable__label fitted sk-toggleable__label-arrow fitted\">&nbsp;&nbsp;GridSearchCV<a class=\"sk-estimator-doc-link fitted\" rel=\"noreferrer\" target=\"_blank\" href=\"https://scikit-learn.org/1.4/modules/generated/sklearn.model_selection.GridSearchCV.html\">?<span>Documentation for GridSearchCV</span></a><span class=\"sk-estimator-doc-link fitted\">i<span>Fitted</span></span></label><div class=\"sk-toggleable__content fitted\"><pre>GridSearchCV(estimator=GradientBoostingClassifier(),\n",
       "             param_grid={&#x27;max_depth&#x27;: [3, 4, 5, 6],\n",
       "                         &#x27;n_estimators&#x27;: [1, 10, 40, 100]},\n",
       "             verbose=2)</pre></div> </div></div><div class=\"sk-parallel\"><div class=\"sk-parallel-item\"><div class=\"sk-item\"><div class=\"sk-label-container\"><div class=\"sk-label fitted sk-toggleable\"><input class=\"sk-toggleable__control sk-hidden--visually\" id=\"sk-estimator-id-17\" type=\"checkbox\" ><label for=\"sk-estimator-id-17\" class=\"sk-toggleable__label fitted sk-toggleable__label-arrow fitted\">estimator: GradientBoostingClassifier</label><div class=\"sk-toggleable__content fitted\"><pre>GradientBoostingClassifier()</pre></div> </div></div><div class=\"sk-serial\"><div class=\"sk-item\"><div class=\"sk-estimator fitted sk-toggleable\"><input class=\"sk-toggleable__control sk-hidden--visually\" id=\"sk-estimator-id-18\" type=\"checkbox\" ><label for=\"sk-estimator-id-18\" class=\"sk-toggleable__label fitted sk-toggleable__label-arrow fitted\">&nbsp;GradientBoostingClassifier<a class=\"sk-estimator-doc-link fitted\" rel=\"noreferrer\" target=\"_blank\" href=\"https://scikit-learn.org/1.4/modules/generated/sklearn.ensemble.GradientBoostingClassifier.html\">?<span>Documentation for GradientBoostingClassifier</span></a></label><div class=\"sk-toggleable__content fitted\"><pre>GradientBoostingClassifier()</pre></div> </div></div></div></div></div></div></div></div></div>"
      ],
      "text/plain": [
       "GridSearchCV(estimator=GradientBoostingClassifier(),\n",
       "             param_grid={'max_depth': [3, 4, 5, 6],\n",
       "                         'n_estimators': [1, 10, 40, 100]},\n",
       "             verbose=2)"
      ]
     },
     "execution_count": 648,
     "metadata": {},
     "output_type": "execute_result"
    }
   ],
   "source": [
    "grid_gb_model.fit(scaled_X_train, y_train)"
   ]
  },
  {
   "cell_type": "code",
   "execution_count": 652,
   "id": "60cdb5e4-78fb-49d7-9dc1-17ec0d493733",
   "metadata": {},
   "outputs": [],
   "source": [
    "y_pred = grid_gb_model.predict(scaled_X_test)"
   ]
  },
  {
   "cell_type": "code",
   "execution_count": 654,
   "id": "a7dc560c-064e-484f-86e5-9d89dcf5d81f",
   "metadata": {},
   "outputs": [
    {
     "data": {
      "text/plain": [
       "0.9904562568013242"
      ]
     },
     "execution_count": 654,
     "metadata": {},
     "output_type": "execute_result"
    }
   ],
   "source": [
    "accuracy_score(y_test,y_pred)"
   ]
  },
  {
   "cell_type": "code",
   "execution_count": 656,
   "id": "0b14e050-0ee8-4683-9f9e-8fa5b4829873",
   "metadata": {},
   "outputs": [
    {
     "data": {
      "text/plain": [
       "array([[237333,     64],\n",
       "       [  2225,    221]], dtype=int64)"
      ]
     },
     "execution_count": 656,
     "metadata": {},
     "output_type": "execute_result"
    }
   ],
   "source": [
    "confusion_matrix(y_test,y_pred)"
   ]
  },
  {
   "cell_type": "code",
   "execution_count": 658,
   "id": "28c1539d-2b67-4cd4-bc37-73382e97fabb",
   "metadata": {},
   "outputs": [
    {
     "name": "stdout",
     "output_type": "stream",
     "text": [
      "              precision    recall  f1-score   support\n",
      "\n",
      "           0       0.99      1.00      1.00    237397\n",
      "           1       0.78      0.09      0.16      2446\n",
      "\n",
      "    accuracy                           0.99    239843\n",
      "   macro avg       0.88      0.55      0.58    239843\n",
      "weighted avg       0.99      0.99      0.99    239843\n",
      "\n"
     ]
    }
   ],
   "source": [
    "print(classification_report(y_test,y_pred))"
   ]
  },
  {
   "cell_type": "code",
   "execution_count": 650,
   "id": "3c9d3495-40e9-4a99-aaed-9e34706f73c4",
   "metadata": {},
   "outputs": [
    {
     "data": {
      "text/plain": [
       "{'max_depth': 4, 'n_estimators': 40}"
      ]
     },
     "execution_count": 650,
     "metadata": {},
     "output_type": "execute_result"
    }
   ],
   "source": [
    "grid_gb_model.best_params_"
   ]
  },
  {
   "cell_type": "code",
   "execution_count": null,
   "id": "c3cf6697-83de-4176-a240-4deabc951692",
   "metadata": {},
   "outputs": [],
   "source": []
  },
  {
   "cell_type": "code",
   "execution_count": 669,
   "id": "a7a282bf-7a0f-49f2-9b70-71ad2769ba9f",
   "metadata": {},
   "outputs": [
    {
     "name": "stdout",
     "output_type": "stream",
     "text": [
      "Is_laundering\n",
      "0    0.989709\n",
      "1    0.010291\n",
      "Name: proportion, dtype: float64\n"
     ]
    }
   ],
   "source": [
    "df = pd.read_csv(\"Data/SAML-D.csv\")\n",
    "df = df.drop(\"Sender_account\", axis=1)\n",
    "df = df.drop(\"Receiver_account\", axis=1)\n",
    "non_laundering_indices = df[df[\"Is_laundering\"] == 0].index\n",
    "drop_indices = np.random.choice(non_laundering_indices, size=int(0.9 * len(non_laundering_indices)), replace=False)\n",
    "df = df.drop(drop_indices)\n",
    "print(df[\"Is_laundering\"].value_counts(normalize=True))\n",
    "df[\"Hour\"] = df[\"Time\"].apply(time_to_hour)\n",
    "df = df.drop([\"Time\", \"Date\"], axis=1)"
   ]
  },
  {
   "cell_type": "code",
   "execution_count": 679,
   "id": "5eec3aa1-0bee-4772-b81d-ec697f44c40f",
   "metadata": {},
   "outputs": [
    {
     "name": "stdout",
     "output_type": "stream",
     "text": [
      "<class 'pandas.core.frame.DataFrame'>\n",
      "Index: 959371 entries, 2 to 9504850\n",
      "Data columns (total 9 columns):\n",
      " #   Column                  Non-Null Count   Dtype  \n",
      "---  ------                  --------------   -----  \n",
      " 0   Amount                  959371 non-null  float64\n",
      " 1   Payment_currency        959371 non-null  object \n",
      " 2   Received_currency       959371 non-null  object \n",
      " 3   Sender_bank_location    959371 non-null  object \n",
      " 4   Receiver_bank_location  959371 non-null  object \n",
      " 5   Payment_type            959371 non-null  object \n",
      " 6   Is_laundering           959371 non-null  int64  \n",
      " 7   Laundering_type         959371 non-null  object \n",
      " 8   Hour                    959371 non-null  int64  \n",
      "dtypes: float64(1), int64(2), object(6)\n",
      "memory usage: 73.2+ MB\n"
     ]
    }
   ],
   "source": [
    "df.info()"
   ]
  },
  {
   "cell_type": "code",
   "execution_count": null,
   "id": "d6666654-2791-43d0-91ae-26a23448a5d1",
   "metadata": {},
   "outputs": [],
   "source": []
  },
  {
   "cell_type": "code",
   "execution_count": 681,
   "id": "1250dea9-fc97-4a78-8868-295cf0073ba1",
   "metadata": {},
   "outputs": [],
   "source": [
    "cat_cols = [\"Payment_currency\", \"Received_currency\", \"Sender_bank_location\", \"Receiver_bank_location\", \"Payment_type\"]\n",
    "cont_cols = [\"Amount\", \"Hour\"]\n",
    "y_col = [\"Is_laundering\"]"
   ]
  },
  {
   "cell_type": "code",
   "execution_count": 683,
   "id": "7223f68b-5bbf-4817-ae3a-6a1a913c8388",
   "metadata": {},
   "outputs": [],
   "source": [
    "for cat in cat_cols:\n",
    "    df[cat] = df[cat].astype('category')"
   ]
  },
  {
   "cell_type": "code",
   "execution_count": 689,
   "id": "e9cfe258-0172-4a22-9161-77bec58c16c6",
   "metadata": {},
   "outputs": [],
   "source": [
    "cats = np.stack([df[col].cat.codes.values for col in cat_cols], 1)"
   ]
  },
  {
   "cell_type": "code",
   "execution_count": null,
   "id": "51e82f5d-d08d-470a-860f-091aa7c9597a",
   "metadata": {},
   "outputs": [],
   "source": []
  },
  {
   "cell_type": "code",
   "execution_count": 693,
   "id": "1fb1e373-a0b9-4ad4-93a8-717dfaac68a6",
   "metadata": {},
   "outputs": [],
   "source": [
    "cats = torch.tensor(cats, dtype=torch.int64)"
   ]
  },
  {
   "cell_type": "code",
   "execution_count": 695,
   "id": "c208f8ce-0aa5-4a00-bdb6-7e5a2f5bfe2f",
   "metadata": {},
   "outputs": [
    {
     "data": {
      "text/plain": [
       "tensor([[10, 10, 16, 16,  3],\n",
       "        [10, 10, 16, 16,  1],\n",
       "        [10,  7, 16, 16,  4],\n",
       "        ...,\n",
       "        [10, 10, 16, 16,  4],\n",
       "        [10, 10, 16, 16,  0],\n",
       "        [10, 10, 16, 16,  0]])"
      ]
     },
     "execution_count": 695,
     "metadata": {},
     "output_type": "execute_result"
    }
   ],
   "source": [
    "cats"
   ]
  },
  {
   "cell_type": "code",
   "execution_count": 707,
   "id": "bafed660-d75a-4fed-bf51-dbfa9ce60528",
   "metadata": {},
   "outputs": [],
   "source": [
    "conts = np.stack([df[col].values for col in cont_cols], 1)\n",
    "conts = torch.tensor(conts, dtype=torch.float)\n"
   ]
  },
  {
   "cell_type": "code",
   "execution_count": 709,
   "id": "9d0d22cb-2628-46d2-a7cc-935e9b0267ca",
   "metadata": {},
   "outputs": [
    {
     "data": {
      "text/plain": [
       "'torch.FloatTensor'"
      ]
     },
     "execution_count": 709,
     "metadata": {},
     "output_type": "execute_result"
    }
   ],
   "source": [
    "conts.type()"
   ]
  },
  {
   "cell_type": "code",
   "execution_count": 715,
   "id": "e287d667-1535-47ca-a9b4-d00ddda505d6",
   "metadata": {},
   "outputs": [],
   "source": [
    "y = torch.tensor(df[y_col].values).flatten()\n"
   ]
  },
  {
   "cell_type": "code",
   "execution_count": 721,
   "id": "5ca031de-3c97-41b3-880a-eade336f3085",
   "metadata": {},
   "outputs": [
    {
     "data": {
      "text/plain": [
       "torch.Size([959371])"
      ]
     },
     "execution_count": 721,
     "metadata": {},
     "output_type": "execute_result"
    }
   ],
   "source": [
    "y.shape"
   ]
  },
  {
   "cell_type": "code",
   "execution_count": 723,
   "id": "46d46328-7ff8-414e-8708-c7ba9d1d1d40",
   "metadata": {},
   "outputs": [
    {
     "data": {
      "text/plain": [
       "[(13, 7), (13, 7), (18, 9), (18, 9), (7, 4)]"
      ]
     },
     "execution_count": 723,
     "metadata": {},
     "output_type": "execute_result"
    }
   ],
   "source": [
    "cat_szs = [len(df[col].cat.categories) for col in cat_cols]\n",
    "emb_szs = [(size, min(50, (size+1)//2)) for size in cat_szs]\n",
    "emb_szs"
   ]
  },
  {
   "cell_type": "code",
   "execution_count": 1053,
   "id": "a7bf376c-069c-4b73-9595-d703a1fbcc20",
   "metadata": {},
   "outputs": [
    {
     "data": {
      "text/plain": [
       "' ---Credit to Pierian Data Inc. for network structure '"
      ]
     },
     "execution_count": 1053,
     "metadata": {},
     "output_type": "execute_result"
    }
   ],
   "source": [
    "class TabularModel(nn.Module):\n",
    "\n",
    "    def __init__(self, emb_szs, n_cont, out_sz=2, layers=[120, 84], p=0.5):\n",
    "        super().__init__()\n",
    "        self.embeds = nn.ModuleList([nn.Embedding(ni, nf) for ni,nf in emb_szs])\n",
    "        self.emb_drop = nn.Dropout(p)\n",
    "        self.bn_cont = nn.BatchNorm1d(n_cont)\n",
    "        \n",
    "        layerlist = []\n",
    "        n_emb = sum((nf for ni,nf in emb_szs))\n",
    "        n_in = n_emb + n_cont\n",
    "        \n",
    "        for i in layers:\n",
    "            layerlist.append(nn.Linear(n_in,i)) \n",
    "            layerlist.append(nn.LeakyReLU(negative_slope=0.02, inplace=True))\n",
    "            layerlist.append(nn.BatchNorm1d(i))\n",
    "            layerlist.append(nn.Dropout(p))\n",
    "            n_in = i\n",
    "        layerlist.append(nn.Linear(layers[-1],out_sz))\n",
    "            \n",
    "        self.layers = nn.Sequential(*layerlist)\n",
    "    \n",
    "    def forward(self, x_cat, x_cont):\n",
    "        embeddings = []\n",
    "        for i,e in enumerate(self.embeds):\n",
    "            embeddings.append(e(x_cat[:,i]))\n",
    "        x = torch.cat(embeddings, 1)\n",
    "        x = self.emb_drop(x)\n",
    "        \n",
    "        x_cont = self.bn_cont(x_cont)\n",
    "        x = torch.cat([x, x_cont], 1)\n",
    "        x = self.layers(x)\n",
    "        return x\n",
    "\n",
    "\"\"\" ---Credit to Pierian Data Inc. for network structure \"\"\""
   ]
  },
  {
   "cell_type": "code",
   "execution_count": 803,
   "id": "d6a6d6d4-e67c-40b7-be23-77bdd8925190",
   "metadata": {},
   "outputs": [
    {
     "name": "stdout",
     "output_type": "stream",
     "text": [
      "<class 'pandas.core.frame.DataFrame'>\n",
      "Index: 959371 entries, 2 to 9504850\n",
      "Data columns (total 9 columns):\n",
      " #   Column                  Non-Null Count   Dtype   \n",
      "---  ------                  --------------   -----   \n",
      " 0   Amount                  959371 non-null  float64 \n",
      " 1   Payment_currency        959371 non-null  category\n",
      " 2   Received_currency       959371 non-null  category\n",
      " 3   Sender_bank_location    959371 non-null  category\n",
      " 4   Receiver_bank_location  959371 non-null  category\n",
      " 5   Payment_type            959371 non-null  category\n",
      " 6   Is_laundering           959371 non-null  int64   \n",
      " 7   Laundering_type         959371 non-null  object  \n",
      " 8   Hour                    959371 non-null  int64   \n",
      "dtypes: category(5), float64(1), int64(2), object(1)\n",
      "memory usage: 41.2+ MB\n"
     ]
    }
   ],
   "source": [
    "df.info()"
   ]
  },
  {
   "cell_type": "code",
   "execution_count": 1286,
   "id": "edb10cb0-f3aa-4089-9839-6bbb980e06cb",
   "metadata": {},
   "outputs": [],
   "source": [
    "model = TabularModel(emb_szs, conts.shape[1], 2, [120, 84], p=0.4)"
   ]
  },
  {
   "cell_type": "code",
   "execution_count": 1288,
   "id": "bcbdb46f-4702-4ea8-ab40-e922c58e890f",
   "metadata": {},
   "outputs": [],
   "source": [
    "criterion = nn.CrossEntropyLoss()\n",
    "optimizer = torch.optim.Adam(model.parameters(), lr=0.005)"
   ]
  },
  {
   "cell_type": "code",
   "execution_count": 1338,
   "id": "61eb87d8-f7f6-467c-a264-7ebf0484c789",
   "metadata": {},
   "outputs": [],
   "source": [
    "test_size=100000\n",
    "batch_size = 700000\n",
    "\n",
    "cat_train = cats[:batch_size-test_size]\n",
    "cat_test = cats[batch_size-test_size:batch_size]\n",
    "con_train = conts[:batch_size-test_size]\n",
    "con_test = conts[batch_size-test_size:batch_size]\n",
    "y_train = y[:batch_size-test_size]\n",
    "y_test = y[batch_size-test_size:batch_size]"
   ]
  },
  {
   "cell_type": "code",
   "execution_count": null,
   "id": "ecb45340-f0bf-437b-a01a-9389c433ddcc",
   "metadata": {},
   "outputs": [],
   "source": []
  },
  {
   "cell_type": "code",
   "execution_count": 1294,
   "id": "c5d03bdf-dc9d-43c4-8717-5001080eaa9d",
   "metadata": {},
   "outputs": [],
   "source": [
    "zero_indices = torch.where(y_train == 0)[0] \n",
    "one_indices = torch.where(y_train == 1)[0]   \n",
    "\n",
    "num_zeros_to_keep = int(len(zero_indices) * 0.1)\n",
    "selected_zero_indices = zero_indices[torch.randperm(len(zero_indices))[:num_zeros_to_keep]]\n",
    "\n",
    "final_indices = torch.cat([selected_zero_indices, one_indices])\n",
    "\n",
    "final_indices = final_indices[torch.randperm(len(final_indices))]\n",
    "\n",
    "cat_train = cat_train[final_indices]\n",
    "con_train = con_train[final_indices]\n",
    "y_train = y_train[final_indices]"
   ]
  },
  {
   "cell_type": "code",
   "execution_count": 1296,
   "id": "0734b491-8da3-4eae-8adc-7f3cae67d330",
   "metadata": {},
   "outputs": [
    {
     "name": "stdout",
     "output_type": "stream",
     "text": [
      "epoch:   1  loss: 0.89810586\n",
      "epoch:  26  loss: 0.37200826\n",
      "epoch:  51  loss: 0.28941318\n",
      "epoch:  76  loss: 0.27695778\n",
      "epoch: 100  loss: 0.27213928\n",
      "\n",
      "Duration: 21 seconds\n"
     ]
    }
   ],
   "source": [
    "start_time = time.time()\n",
    "\n",
    "epochs = 100\n",
    "losses = []\n",
    "\n",
    "for i in range(epochs):\n",
    "    i+=1\n",
    "    y_pred = model(cat_train, con_train)\n",
    "    loss = criterion(y_pred, y_train)\n",
    "    losses.append(loss)\n",
    "    \n",
    "    if i%25 == 1:\n",
    "        print(f'epoch: {i:3}  loss: {loss.item():10.8f}')\n",
    "\n",
    "    optimizer.zero_grad()\n",
    "    loss.backward()\n",
    "    optimizer.step()\n",
    "\n",
    "print(f'epoch: {i:3}  loss: {loss.item():10.8f}') \n",
    "print(f'\\nDuration: {time.time() - start_time:.0f} seconds') "
   ]
  },
  {
   "cell_type": "code",
   "execution_count": 1298,
   "id": "8203be3f-be46-4898-9c5e-aafe0d37d7a2",
   "metadata": {},
   "outputs": [
    {
     "name": "stdout",
     "output_type": "stream",
     "text": [
      "CE Loss: 0.13929181\n"
     ]
    }
   ],
   "source": [
    "with torch.no_grad():\n",
    "    y_val = model(cat_test, con_test)\n",
    "    loss = criterion(y_val, y_test)\n",
    "print(f'CE Loss: {loss:.8f}')"
   ]
  },
  {
   "cell_type": "code",
   "execution_count": 1300,
   "id": "7d7168a5-5749-4dbb-b2e9-8b6f7dcc80f2",
   "metadata": {},
   "outputs": [
    {
     "data": {
      "text/plain": [
       "tensor(0.9772)"
      ]
     },
     "execution_count": 1300,
     "metadata": {},
     "output_type": "execute_result"
    }
   ],
   "source": [
    "(torch.argmax(y_val, dim=1) == y_test).sum() / test_size"
   ]
  },
  {
   "cell_type": "code",
   "execution_count": 1302,
   "id": "ae28aadd-af03-43e9-9218-64e9b21e4705",
   "metadata": {},
   "outputs": [
    {
     "data": {
      "text/plain": [
       "tensor(1579)"
      ]
     },
     "execution_count": 1302,
     "metadata": {},
     "output_type": "execute_result"
    }
   ],
   "source": [
    "(torch.argmax(y_val, dim=1)).sum()"
   ]
  },
  {
   "cell_type": "code",
   "execution_count": 1304,
   "id": "0c88c535-bbe9-4ae4-8b04-1aa5b5159fd3",
   "metadata": {},
   "outputs": [
    {
     "data": {
      "text/plain": [
       "tensor(904)"
      ]
     },
     "execution_count": 1304,
     "metadata": {},
     "output_type": "execute_result"
    }
   ],
   "source": [
    "y_test.sum()"
   ]
  },
  {
   "cell_type": "code",
   "execution_count": 1306,
   "id": "9dea5e45-ffe1-48d4-8368-d8fec95b34f0",
   "metadata": {},
   "outputs": [
    {
     "data": {
      "text/plain": [
       "array([[97617,  1479],\n",
       "       [  804,   100]], dtype=int64)"
      ]
     },
     "execution_count": 1306,
     "metadata": {},
     "output_type": "execute_result"
    }
   ],
   "source": [
    "confusion_matrix(y_test, (torch.argmax(y_val, dim=1)))"
   ]
  },
  {
   "cell_type": "code",
   "execution_count": 1308,
   "id": "41c20ed3-8c5b-44f0-a414-a481ba69392e",
   "metadata": {},
   "outputs": [],
   "source": [
    "indices = torch.where(y_test == 1)[0]\n",
    "y_pred_for_class_1 = y_val[indices]"
   ]
  },
  {
   "cell_type": "code",
   "execution_count": 1340,
   "id": "dcd94e08-69d9-4ff0-8bf1-5947965555c0",
   "metadata": {},
   "outputs": [
    {
     "data": {
      "text/plain": [
       "tensor(463)"
      ]
     },
     "execution_count": 1340,
     "metadata": {},
     "output_type": "execute_result"
    }
   ],
   "source": [
    "((y_pred_for_class_1).diff(dim=1) > -1.5).sum() "
   ]
  },
  {
   "cell_type": "code",
   "execution_count": 1342,
   "id": "d78a5a9b-e8b7-4a84-bdcd-c74353d3deab",
   "metadata": {},
   "outputs": [
    {
     "data": {
      "text/plain": [
       "13364"
      ]
     },
     "execution_count": 1342,
     "metadata": {},
     "output_type": "execute_result"
    }
   ],
   "source": [
    "torch.sum(y_val.diff(dim=1) > -1.5).item()"
   ]
  },
  {
   "cell_type": "code",
   "execution_count": 933,
   "id": "c410996a-d7d0-431b-bcea-6149138780ff",
   "metadata": {},
   "outputs": [
    {
     "data": {
      "text/plain": [
       "100000"
      ]
     },
     "execution_count": 933,
     "metadata": {},
     "output_type": "execute_result"
    }
   ],
   "source": [
    "len(y_val)"
   ]
  },
  {
   "cell_type": "code",
   "execution_count": 939,
   "id": "8478ee4f-2932-4a66-91d5-f04d8e50e0d2",
   "metadata": {},
   "outputs": [
    {
     "data": {
      "text/plain": [
       "tensor([[ 1.3129, -1.5019],\n",
       "        [ 1.3320, -1.3327],\n",
       "        [ 2.5576, -1.2904],\n",
       "        [ 0.9072, -1.1709],\n",
       "        [ 1.4072, -1.4152],\n",
       "        [ 1.1640, -1.0268],\n",
       "        [ 1.7148, -1.6628],\n",
       "        [ 0.3971, -1.1367],\n",
       "        [ 1.9630, -1.0164],\n",
       "        [ 1.9861, -1.2969],\n",
       "        [ 1.5834, -1.4899],\n",
       "        [ 1.1364, -1.3841],\n",
       "        [ 1.7501, -1.6827],\n",
       "        [ 1.5386, -1.3949],\n",
       "        [ 1.5763, -1.6197],\n",
       "        [ 1.8076, -1.8088],\n",
       "        [ 1.3448, -1.1221],\n",
       "        [ 1.5400, -1.4167],\n",
       "        [ 1.3855, -1.2781],\n",
       "        [ 0.5269, -0.5969],\n",
       "        [ 1.3621, -1.3451],\n",
       "        [ 2.2496, -1.7946],\n",
       "        [ 1.2744, -0.6026],\n",
       "        [ 1.9439, -0.6854],\n",
       "        [ 1.0242, -1.1654],\n",
       "        [ 1.2534, -1.2311],\n",
       "        [ 0.9142, -1.2982],\n",
       "        [ 1.9364, -1.3716],\n",
       "        [ 1.4239, -1.1770],\n",
       "        [ 1.5260, -1.2844]])"
      ]
     },
     "execution_count": 939,
     "metadata": {},
     "output_type": "execute_result"
    }
   ],
   "source": [
    "y_val[:30]"
   ]
  },
  {
   "cell_type": "code",
   "execution_count": 943,
   "id": "b7046276-fe4b-4d46-a510-b983d887bfd9",
   "metadata": {},
   "outputs": [
    {
     "data": {
      "text/plain": [
       "0"
      ]
     },
     "execution_count": 943,
     "metadata": {},
     "output_type": "execute_result"
    }
   ],
   "source": [
    "torch.sum(y_val[:2].diff(dim=1) > -1).item()"
   ]
  },
  {
   "cell_type": "code",
   "execution_count": 1172,
   "id": "ef45abf8-2928-43c2-b3f6-4f88f549a83a",
   "metadata": {},
   "outputs": [
    {
     "data": {
      "text/plain": [
       "tensor([[ 0.6487, -1.0897],\n",
       "        [ 1.3437, -1.8732],\n",
       "        [ 1.0881, -1.1397],\n",
       "        ...,\n",
       "        [ 0.9504, -1.2756],\n",
       "        [ 1.7270, -1.8475],\n",
       "        [ 0.9261, -0.5289]])"
      ]
     },
     "execution_count": 1172,
     "metadata": {},
     "output_type": "execute_result"
    }
   ],
   "source": [
    "y_pred_for_class_1"
   ]
  },
  {
   "cell_type": "code",
   "execution_count": 1188,
   "id": "06597812-49ed-4f7f-a2ee-b0daa30ed6c8",
   "metadata": {},
   "outputs": [
    {
     "data": {
      "text/plain": [
       "tensor(3)"
      ]
     },
     "execution_count": 1188,
     "metadata": {},
     "output_type": "execute_result"
    }
   ],
   "source": [
    "((y_pred_for_class_1[:10]).diff(dim=1) > -1.5).sum()"
   ]
  },
  {
   "cell_type": "code",
   "execution_count": 1194,
   "id": "1b34e4e5-2ae0-4e60-bd59-e8a3e38b8d22",
   "metadata": {},
   "outputs": [
    {
     "data": {
      "text/plain": [
       "904"
      ]
     },
     "execution_count": 1194,
     "metadata": {},
     "output_type": "execute_result"
    }
   ],
   "source": [
    "y_pred_for_class_1.shape[0]"
   ]
  },
  {
   "cell_type": "code",
   "execution_count": null,
   "id": "c3331bc3-0986-4d9b-bf70-fece2c3d43d5",
   "metadata": {},
   "outputs": [],
   "source": []
  }
 ],
 "metadata": {
  "kernelspec": {
   "display_name": "Python 3 (ipykernel)",
   "language": "python",
   "name": "python3"
  },
  "language_info": {
   "codemirror_mode": {
    "name": "ipython",
    "version": 3
   },
   "file_extension": ".py",
   "mimetype": "text/x-python",
   "name": "python",
   "nbconvert_exporter": "python",
   "pygments_lexer": "ipython3",
   "version": "3.12.4"
  }
 },
 "nbformat": 4,
 "nbformat_minor": 5
}
